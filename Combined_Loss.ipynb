{
  "cells": [
    {
      "cell_type": "markdown",
      "metadata": {
        "id": "view-in-github",
        "colab_type": "text"
      },
      "source": [
        "<a href=\"https://colab.research.google.com/github/Amsterdam-Internships/Readability-Lexical-Simplification/blob/master/Combined_Loss.ipynb\" target=\"_parent\"><img src=\"https://colab.research.google.com/assets/colab-badge.svg\" alt=\"Open In Colab\"/></a>"
      ]
    },
    {
      "cell_type": "code",
      "execution_count": null,
      "metadata": {
        "colab": {
          "base_uri": "https://localhost:8080/"
        },
        "id": "ALCv3iM4XO0L",
        "outputId": "45cfdac0-2e5b-46ac-e1a3-c9400678d5fa"
      },
      "outputs": [
        {
          "output_type": "stream",
          "name": "stdout",
          "text": [
            "Collecting transformers\n",
            "  Downloading transformers-4.17.0-py3-none-any.whl (3.8 MB)\n",
            "\u001b[K     |████████████████████████████████| 3.8 MB 5.3 MB/s \n",
            "\u001b[?25hRequirement already satisfied: regex!=2019.12.17 in /usr/local/lib/python3.7/dist-packages (from transformers) (2019.12.20)\n",
            "Requirement already satisfied: importlib-metadata in /usr/local/lib/python3.7/dist-packages (from transformers) (4.11.3)\n",
            "Requirement already satisfied: packaging>=20.0 in /usr/local/lib/python3.7/dist-packages (from transformers) (21.3)\n",
            "Collecting tokenizers!=0.11.3,>=0.11.1\n",
            "  Downloading tokenizers-0.11.6-cp37-cp37m-manylinux_2_12_x86_64.manylinux2010_x86_64.whl (6.5 MB)\n",
            "\u001b[K     |████████████████████████████████| 6.5 MB 37.5 MB/s \n",
            "\u001b[?25hRequirement already satisfied: filelock in /usr/local/lib/python3.7/dist-packages (from transformers) (3.6.0)\n",
            "Requirement already satisfied: numpy>=1.17 in /usr/local/lib/python3.7/dist-packages (from transformers) (1.21.5)\n",
            "Requirement already satisfied: tqdm>=4.27 in /usr/local/lib/python3.7/dist-packages (from transformers) (4.63.0)\n",
            "Collecting pyyaml>=5.1\n",
            "  Downloading PyYAML-6.0-cp37-cp37m-manylinux_2_5_x86_64.manylinux1_x86_64.manylinux_2_12_x86_64.manylinux2010_x86_64.whl (596 kB)\n",
            "\u001b[K     |████████████████████████████████| 596 kB 36.3 MB/s \n",
            "\u001b[?25hRequirement already satisfied: requests in /usr/local/lib/python3.7/dist-packages (from transformers) (2.23.0)\n",
            "Collecting huggingface-hub<1.0,>=0.1.0\n",
            "  Downloading huggingface_hub-0.4.0-py3-none-any.whl (67 kB)\n",
            "\u001b[K     |████████████████████████████████| 67 kB 4.1 MB/s \n",
            "\u001b[?25hCollecting sacremoses\n",
            "  Downloading sacremoses-0.0.49-py3-none-any.whl (895 kB)\n",
            "\u001b[K     |████████████████████████████████| 895 kB 43.0 MB/s \n",
            "\u001b[?25hRequirement already satisfied: typing-extensions>=3.7.4.3 in /usr/local/lib/python3.7/dist-packages (from huggingface-hub<1.0,>=0.1.0->transformers) (3.10.0.2)\n",
            "Requirement already satisfied: pyparsing!=3.0.5,>=2.0.2 in /usr/local/lib/python3.7/dist-packages (from packaging>=20.0->transformers) (3.0.7)\n",
            "Requirement already satisfied: zipp>=0.5 in /usr/local/lib/python3.7/dist-packages (from importlib-metadata->transformers) (3.7.0)\n",
            "Requirement already satisfied: chardet<4,>=3.0.2 in /usr/local/lib/python3.7/dist-packages (from requests->transformers) (3.0.4)\n",
            "Requirement already satisfied: certifi>=2017.4.17 in /usr/local/lib/python3.7/dist-packages (from requests->transformers) (2021.10.8)\n",
            "Requirement already satisfied: idna<3,>=2.5 in /usr/local/lib/python3.7/dist-packages (from requests->transformers) (2.10)\n",
            "Requirement already satisfied: urllib3!=1.25.0,!=1.25.1,<1.26,>=1.21.1 in /usr/local/lib/python3.7/dist-packages (from requests->transformers) (1.24.3)\n",
            "Requirement already satisfied: click in /usr/local/lib/python3.7/dist-packages (from sacremoses->transformers) (7.1.2)\n",
            "Requirement already satisfied: six in /usr/local/lib/python3.7/dist-packages (from sacremoses->transformers) (1.15.0)\n",
            "Requirement already satisfied: joblib in /usr/local/lib/python3.7/dist-packages (from sacremoses->transformers) (1.1.0)\n",
            "Installing collected packages: pyyaml, tokenizers, sacremoses, huggingface-hub, transformers\n",
            "  Attempting uninstall: pyyaml\n",
            "    Found existing installation: PyYAML 3.13\n",
            "    Uninstalling PyYAML-3.13:\n",
            "      Successfully uninstalled PyYAML-3.13\n",
            "Successfully installed huggingface-hub-0.4.0 pyyaml-6.0 sacremoses-0.0.49 tokenizers-0.11.6 transformers-4.17.0\n"
          ]
        }
      ],
      "source": [
        "!pip install transformers"
      ]
    },
    {
      "cell_type": "code",
      "execution_count": null,
      "metadata": {
        "id": "nhmfx-WpU4zf"
      },
      "outputs": [],
      "source": [
        "import pandas as pd\n",
        "import random\n",
        "import torch"
      ]
    },
    {
      "cell_type": "code",
      "execution_count": null,
      "metadata": {
        "id": "lVLkh0xmWL3h"
      },
      "outputs": [],
      "source": [
        "normal = pd.read_csv(\"/content/drive/MyDrive/Thesis/notebooks/data/normal.aligned\", sep = \"\\t\", names=[\"subject\",\"nr\", \"sentence\"])\n",
        "simple = pd.read_csv(\"/content/drive/MyDrive/Thesis/notebooks/data/simple.aligned\", sep = \"\\t\", names=[\"subject\",\"nr\", \"sentence\"])"
      ]
    },
    {
      "cell_type": "code",
      "source": [
        "normal[:100]"
      ],
      "metadata": {
        "colab": {
          "base_uri": "https://localhost:8080/",
          "height": 424
        },
        "id": "0H6PZjnvZIrz",
        "outputId": "fc7f6eac-f4e0-48ff-81c4-7e87417b8725"
      },
      "execution_count": null,
      "outputs": [
        {
          "output_type": "execute_result",
          "data": {
            "text/plain": [
              "               subject  nr                                           sentence\n",
              "0   Cherokee, Oklahoma   0          It is the county seat of Alfalfa County .\n",
              "1   Cherokee, Oklahoma   0  Cherokee is a city in Alfalfa County , Oklahom...\n",
              "2           Skateboard   5  Skateboard decks are usually between 28 and 33...\n",
              "3           Skateboard   5  The underside of the deck can be printed with ...\n",
              "4           Skateboard   6  This was created by two surfers ; Ben Whatson ...\n",
              "..                 ...  ..                                                ...\n",
              "95       Invisible ink   2  The ink is later made visible by different met...\n",
              "96       Invisible ink   3  One can obtain toy invisible ink pens which ha...\n",
              "97              Lizard   3  Some species of lizard also utilize bright col...\n",
              "98              Lizard   4  The particular innovation in this respect is t...\n",
              "99              Lizard   4  When a display is needed , the lizards erect t...\n",
              "\n",
              "[100 rows x 3 columns]"
            ],
            "text/html": [
              "\n",
              "  <div id=\"df-709e58e7-eaa5-4623-9310-d57133fb3941\">\n",
              "    <div class=\"colab-df-container\">\n",
              "      <div>\n",
              "<style scoped>\n",
              "    .dataframe tbody tr th:only-of-type {\n",
              "        vertical-align: middle;\n",
              "    }\n",
              "\n",
              "    .dataframe tbody tr th {\n",
              "        vertical-align: top;\n",
              "    }\n",
              "\n",
              "    .dataframe thead th {\n",
              "        text-align: right;\n",
              "    }\n",
              "</style>\n",
              "<table border=\"1\" class=\"dataframe\">\n",
              "  <thead>\n",
              "    <tr style=\"text-align: right;\">\n",
              "      <th></th>\n",
              "      <th>subject</th>\n",
              "      <th>nr</th>\n",
              "      <th>sentence</th>\n",
              "    </tr>\n",
              "  </thead>\n",
              "  <tbody>\n",
              "    <tr>\n",
              "      <th>0</th>\n",
              "      <td>Cherokee, Oklahoma</td>\n",
              "      <td>0</td>\n",
              "      <td>It is the county seat of Alfalfa County .</td>\n",
              "    </tr>\n",
              "    <tr>\n",
              "      <th>1</th>\n",
              "      <td>Cherokee, Oklahoma</td>\n",
              "      <td>0</td>\n",
              "      <td>Cherokee is a city in Alfalfa County , Oklahom...</td>\n",
              "    </tr>\n",
              "    <tr>\n",
              "      <th>2</th>\n",
              "      <td>Skateboard</td>\n",
              "      <td>5</td>\n",
              "      <td>Skateboard decks are usually between 28 and 33...</td>\n",
              "    </tr>\n",
              "    <tr>\n",
              "      <th>3</th>\n",
              "      <td>Skateboard</td>\n",
              "      <td>5</td>\n",
              "      <td>The underside of the deck can be printed with ...</td>\n",
              "    </tr>\n",
              "    <tr>\n",
              "      <th>4</th>\n",
              "      <td>Skateboard</td>\n",
              "      <td>6</td>\n",
              "      <td>This was created by two surfers ; Ben Whatson ...</td>\n",
              "    </tr>\n",
              "    <tr>\n",
              "      <th>...</th>\n",
              "      <td>...</td>\n",
              "      <td>...</td>\n",
              "      <td>...</td>\n",
              "    </tr>\n",
              "    <tr>\n",
              "      <th>95</th>\n",
              "      <td>Invisible ink</td>\n",
              "      <td>2</td>\n",
              "      <td>The ink is later made visible by different met...</td>\n",
              "    </tr>\n",
              "    <tr>\n",
              "      <th>96</th>\n",
              "      <td>Invisible ink</td>\n",
              "      <td>3</td>\n",
              "      <td>One can obtain toy invisible ink pens which ha...</td>\n",
              "    </tr>\n",
              "    <tr>\n",
              "      <th>97</th>\n",
              "      <td>Lizard</td>\n",
              "      <td>3</td>\n",
              "      <td>Some species of lizard also utilize bright col...</td>\n",
              "    </tr>\n",
              "    <tr>\n",
              "      <th>98</th>\n",
              "      <td>Lizard</td>\n",
              "      <td>4</td>\n",
              "      <td>The particular innovation in this respect is t...</td>\n",
              "    </tr>\n",
              "    <tr>\n",
              "      <th>99</th>\n",
              "      <td>Lizard</td>\n",
              "      <td>4</td>\n",
              "      <td>When a display is needed , the lizards erect t...</td>\n",
              "    </tr>\n",
              "  </tbody>\n",
              "</table>\n",
              "<p>100 rows × 3 columns</p>\n",
              "</div>\n",
              "      <button class=\"colab-df-convert\" onclick=\"convertToInteractive('df-709e58e7-eaa5-4623-9310-d57133fb3941')\"\n",
              "              title=\"Convert this dataframe to an interactive table.\"\n",
              "              style=\"display:none;\">\n",
              "        \n",
              "  <svg xmlns=\"http://www.w3.org/2000/svg\" height=\"24px\"viewBox=\"0 0 24 24\"\n",
              "       width=\"24px\">\n",
              "    <path d=\"M0 0h24v24H0V0z\" fill=\"none\"/>\n",
              "    <path d=\"M18.56 5.44l.94 2.06.94-2.06 2.06-.94-2.06-.94-.94-2.06-.94 2.06-2.06.94zm-11 1L8.5 8.5l.94-2.06 2.06-.94-2.06-.94L8.5 2.5l-.94 2.06-2.06.94zm10 10l.94 2.06.94-2.06 2.06-.94-2.06-.94-.94-2.06-.94 2.06-2.06.94z\"/><path d=\"M17.41 7.96l-1.37-1.37c-.4-.4-.92-.59-1.43-.59-.52 0-1.04.2-1.43.59L10.3 9.45l-7.72 7.72c-.78.78-.78 2.05 0 2.83L4 21.41c.39.39.9.59 1.41.59.51 0 1.02-.2 1.41-.59l7.78-7.78 2.81-2.81c.8-.78.8-2.07 0-2.86zM5.41 20L4 18.59l7.72-7.72 1.47 1.35L5.41 20z\"/>\n",
              "  </svg>\n",
              "      </button>\n",
              "      \n",
              "  <style>\n",
              "    .colab-df-container {\n",
              "      display:flex;\n",
              "      flex-wrap:wrap;\n",
              "      gap: 12px;\n",
              "    }\n",
              "\n",
              "    .colab-df-convert {\n",
              "      background-color: #E8F0FE;\n",
              "      border: none;\n",
              "      border-radius: 50%;\n",
              "      cursor: pointer;\n",
              "      display: none;\n",
              "      fill: #1967D2;\n",
              "      height: 32px;\n",
              "      padding: 0 0 0 0;\n",
              "      width: 32px;\n",
              "    }\n",
              "\n",
              "    .colab-df-convert:hover {\n",
              "      background-color: #E2EBFA;\n",
              "      box-shadow: 0px 1px 2px rgba(60, 64, 67, 0.3), 0px 1px 3px 1px rgba(60, 64, 67, 0.15);\n",
              "      fill: #174EA6;\n",
              "    }\n",
              "\n",
              "    [theme=dark] .colab-df-convert {\n",
              "      background-color: #3B4455;\n",
              "      fill: #D2E3FC;\n",
              "    }\n",
              "\n",
              "    [theme=dark] .colab-df-convert:hover {\n",
              "      background-color: #434B5C;\n",
              "      box-shadow: 0px 1px 3px 1px rgba(0, 0, 0, 0.15);\n",
              "      filter: drop-shadow(0px 1px 2px rgba(0, 0, 0, 0.3));\n",
              "      fill: #FFFFFF;\n",
              "    }\n",
              "  </style>\n",
              "\n",
              "      <script>\n",
              "        const buttonEl =\n",
              "          document.querySelector('#df-709e58e7-eaa5-4623-9310-d57133fb3941 button.colab-df-convert');\n",
              "        buttonEl.style.display =\n",
              "          google.colab.kernel.accessAllowed ? 'block' : 'none';\n",
              "\n",
              "        async function convertToInteractive(key) {\n",
              "          const element = document.querySelector('#df-709e58e7-eaa5-4623-9310-d57133fb3941');\n",
              "          const dataTable =\n",
              "            await google.colab.kernel.invokeFunction('convertToInteractive',\n",
              "                                                     [key], {});\n",
              "          if (!dataTable) return;\n",
              "\n",
              "          const docLinkHtml = 'Like what you see? Visit the ' +\n",
              "            '<a target=\"_blank\" href=https://colab.research.google.com/notebooks/data_table.ipynb>data table notebook</a>'\n",
              "            + ' to learn more about interactive tables.';\n",
              "          element.innerHTML = '';\n",
              "          dataTable['output_type'] = 'display_data';\n",
              "          await google.colab.output.renderOutput(dataTable, element);\n",
              "          const docLink = document.createElement('div');\n",
              "          docLink.innerHTML = docLinkHtml;\n",
              "          element.appendChild(docLink);\n",
              "        }\n",
              "      </script>\n",
              "    </div>\n",
              "  </div>\n",
              "  "
            ]
          },
          "metadata": {},
          "execution_count": 4
        }
      ]
    },
    {
      "cell_type": "code",
      "execution_count": null,
      "metadata": {
        "id": "D2oE4OCrWb-a"
      },
      "outputs": [],
      "source": [
        "normal_sents = normal['sentence'].tolist()\n",
        "simple_sents = simple['sentence'].tolist()"
      ]
    },
    {
      "cell_type": "code",
      "source": [
        "normal_sents = normal_sents[:1000]\n",
        "simple_sents = simple_sents[:1000]"
      ],
      "metadata": {
        "id": "tF1BTY4YX-ly"
      },
      "execution_count": null,
      "outputs": []
    },
    {
      "cell_type": "code",
      "source": [
        "normal_sents[:5]"
      ],
      "metadata": {
        "colab": {
          "base_uri": "https://localhost:8080/"
        },
        "id": "dJv1D1QwcEgc",
        "outputId": "1132dfe6-06a7-44d4-c152-f5dc6a04d0b3"
      },
      "execution_count": null,
      "outputs": [
        {
          "output_type": "execute_result",
          "data": {
            "text/plain": [
              "['It is the county seat of Alfalfa County .',\n",
              " 'Cherokee is a city in Alfalfa County , Oklahoma , United States .',\n",
              " 'Skateboard decks are usually between 28 and 33 inches long .',\n",
              " 'The underside of the deck can be printed with a design by the manufacturer , blank , or decorated by any other means .',\n",
              " 'This was created by two surfers ; Ben Whatson and Jonny Drapper .']"
            ]
          },
          "metadata": {},
          "execution_count": 7
        }
      ]
    },
    {
      "cell_type": "code",
      "source": [
        "simple_sents[:5]"
      ],
      "metadata": {
        "colab": {
          "base_uri": "https://localhost:8080/"
        },
        "id": "bBkLdLLtcLrb",
        "outputId": "942568e9-b5f5-453e-ae77-0e989e954337"
      },
      "execution_count": null,
      "outputs": [
        {
          "output_type": "execute_result",
          "data": {
            "text/plain": [
              "['It is the county seat of Alfalfa County .',\n",
              " 'Cherokee is a city of Oklahoma in the United States .',\n",
              " 'Skateboard decks are normally between 28 and 33 inches long .',\n",
              " 'The bottom of the deck can be printed with a design by the maker . Or it can be blank .',\n",
              " 'The longboard was made by two surfers ; Ben Whatson and Jonny Drapper .']"
            ]
          },
          "metadata": {},
          "execution_count": 8
        }
      ]
    },
    {
      "cell_type": "code",
      "execution_count": null,
      "metadata": {
        "id": "oeh6AkktRQh1",
        "colab": {
          "base_uri": "https://localhost:8080/",
          "height": 145,
          "referenced_widgets": [
            "b946e2182ab74e1094040b1eeec5d143",
            "ae0e6725747a4ae88b8dbeed731eef25",
            "f00319bd6ed34110a24ae85377dddc4b",
            "c4a42684f4de441795498d8a32031b88",
            "6234fc8d929847ab8e44be48304f7e46",
            "66477f0f14c541c3b77b830267e7e6da",
            "f710bda097044935a79f256b554fbdb0",
            "1f994557ce7743a788a4e7ff147ee18f",
            "bd632d7dac39437c85981b095e8e49bb",
            "bee8c5b34e0b4736932420bcd858ce58",
            "ef721870adbf4f0584e2ea27952ee501",
            "f30549b2fb08456d9cb7ff182ec63259",
            "201270a6592d4ebf8414431ffc6374c0",
            "ba7fe7ed786f41e98997df3952e705a0",
            "d8bb6c0f628340e0af2aefdf76e2c453",
            "79dc7d6f326b4df0915ead9f871aac54",
            "a96bd101413947e4b1900892e1915058",
            "77ee1142120e4f44858c44c5dbb47317",
            "f18679fb8d8641be8d23dc7902e565be",
            "54a72d13d49a411384ecb8d596089311",
            "74f9b69744a04721b78843601363de43",
            "52d675eb99bc4c518271f5316f4f0e95",
            "940002980b4f4e4caf19df206321ff17",
            "df56904cebd04f7486c2c6527d2d4b6b",
            "3582821c5058491ab1a4b74f6355495d",
            "77dc14147d34414c807630216a45f2c9",
            "bc7caba4919a4fd18404ef179db01872",
            "0ea7cbd819814984b2956d2ff544be12",
            "1eddf3ed182b4621b907d22b6c2ee9b0",
            "f9909b22c2724e48bc54227b96c5f143",
            "71f7baa83b8442e0a16ab21d04c2f7b3",
            "bcd5a760452c4133ba01cf3f94472593",
            "d26e5c8cce794386b9f881eba76ec1bb",
            "afad9277817b43b2af0abe6a600180a0",
            "17840c0d2ce148a4892753e485ae4b68",
            "2c8a8ed8520f4e80a51943c474327bed",
            "e060617d8d084f6b98e4cf04fccca3be",
            "d9dd12a6e06c49ac914a7e54a0021be2",
            "6e7811160b4443e7ae841a9c931a6e16",
            "a8caa09fa2b44348aeca88c7bdc2f51b",
            "821112e4ea194eb4a06d9291564ed52b",
            "91eadfba211d4f5c8d9457ae6313bf65",
            "85d49015fbed446fbee5a8afc887ceda",
            "6c42189b491843b9841295651c647c7a"
          ]
        },
        "outputId": "b43bff9c-1d95-4924-ec36-d77dec351740"
      },
      "outputs": [
        {
          "output_type": "display_data",
          "data": {
            "text/plain": [
              "Downloading:   0%|          | 0.00/28.0 [00:00<?, ?B/s]"
            ],
            "application/vnd.jupyter.widget-view+json": {
              "version_major": 2,
              "version_minor": 0,
              "model_id": "b946e2182ab74e1094040b1eeec5d143"
            }
          },
          "metadata": {}
        },
        {
          "output_type": "display_data",
          "data": {
            "text/plain": [
              "Downloading:   0%|          | 0.00/226k [00:00<?, ?B/s]"
            ],
            "application/vnd.jupyter.widget-view+json": {
              "version_major": 2,
              "version_minor": 0,
              "model_id": "f30549b2fb08456d9cb7ff182ec63259"
            }
          },
          "metadata": {}
        },
        {
          "output_type": "display_data",
          "data": {
            "text/plain": [
              "Downloading:   0%|          | 0.00/455k [00:00<?, ?B/s]"
            ],
            "application/vnd.jupyter.widget-view+json": {
              "version_major": 2,
              "version_minor": 0,
              "model_id": "940002980b4f4e4caf19df206321ff17"
            }
          },
          "metadata": {}
        },
        {
          "output_type": "display_data",
          "data": {
            "text/plain": [
              "Downloading:   0%|          | 0.00/570 [00:00<?, ?B/s]"
            ],
            "application/vnd.jupyter.widget-view+json": {
              "version_major": 2,
              "version_minor": 0,
              "model_id": "afad9277817b43b2af0abe6a600180a0"
            }
          },
          "metadata": {}
        }
      ],
      "source": [
        "# . I ultimately had one document which contained multiple paragraphs and each paragraph pertained to one topic. \n",
        "# I’m using each paragraph as a separate context when using extractive QA. \n",
        "# This ultimately gave me a list of strings where each string was a paragraph (ie. multiple sentences). \n",
        "# This was stored inside the ‘text’ variable.\n",
        "\n",
        "sentence_a = []\n",
        "sentence_b = []\n",
        "label = []\n",
        "\n",
        "# Task goal: direction of simplification\n",
        "\n",
        "# bag_of_sentences = [sentence.strip() for paragraph in text for sentence in paragraph.split('.') if sentence != '']\n",
        "# bag_size = len(bag_of_sentences)\n",
        "\n",
        "\n",
        "for normal_sent, simple_sent in zip(normal_sents, simple_sents):\n",
        "  if random.random()>0.5:\n",
        "    sentence_a.append(normal_sent)\n",
        "    sentence_b.append(simple_sent)\n",
        "    label.append(1)\n",
        "  else:\n",
        "    sentence_a.append(simple_sent)\n",
        "    sentence_b.append(normal_sent)\n",
        "    label.append(0)\n",
        "\n",
        "from transformers import BertTokenizerFast\n",
        "tokenizer = BertTokenizerFast.from_pretrained('bert-large-uncased-whole-word-masking')\n",
        "inputs = tokenizer(sentence_a, sentence_b, return_tensors='pt', \n",
        "                   max_length=250, truncation=True, padding='max_length')\n",
        "\n"
      ]
    },
    {
      "cell_type": "code",
      "execution_count": null,
      "metadata": {
        "id": "_WniAYv5YjBq"
      },
      "outputs": [],
      "source": [
        "# Creating labels for NSP\n",
        "inputs['next_sentence_label'] = torch.LongTensor([label]).T"
      ]
    },
    {
      "cell_type": "code",
      "execution_count": null,
      "metadata": {
        "id": "0fmQsc11YFgQ"
      },
      "outputs": [],
      "source": [
        "inputs['labels'] = inputs.input_ids.detach().clone()\n",
        "rand = torch.rand(inputs.input_ids.shape)\n",
        "mask_arr = (rand < 0.15) * (inputs.input_ids != 101) * (inputs.input_ids != 102) * (inputs.input_ids != 0)\n",
        "\n",
        "selection = []\n",
        "for i in range(inputs.input_ids.shape[0]):\n",
        "  selection.append(torch.flatten(mask_arr[i].nonzero()).tolist())\n",
        "\n",
        "for i in range(inputs.input_ids.shape[0]):\n",
        "  inputs.input_ids[i, selection[i]] = 103\n"
      ]
    },
    {
      "cell_type": "code",
      "execution_count": null,
      "metadata": {
        "id": "3_JK0yBDY3H0"
      },
      "outputs": [],
      "source": [
        "from transformers import BertForPreTraining"
      ]
    },
    {
      "cell_type": "code",
      "execution_count": null,
      "metadata": {
        "id": "t9D2gThcazKZ"
      },
      "outputs": [],
      "source": [
        "class OurDataset(torch.utils.data.Dataset):\n",
        "    def __init__(self, encodings):\n",
        "        self.encodings = encodings\n",
        "    def __getitem__(self, idx):\n",
        "        return {key: torch.tensor(val[idx]) for key, val in self.encodings.items()}\n",
        "    def __len__(self):\n",
        "        return len(self.encodings.input_ids)\n",
        "dataset = OurDataset(inputs)\n",
        "loader = torch.utils.data.DataLoader(dataset, batch_size=8, shuffle=False)"
      ]
    },
    {
      "cell_type": "code",
      "execution_count": null,
      "metadata": {
        "id": "qROTkjrza-IC"
      },
      "outputs": [],
      "source": [
        "import torch.optim as optim"
      ]
    },
    {
      "cell_type": "code",
      "execution_count": null,
      "metadata": {
        "id": "YTpDZ1OgeXuP",
        "colab": {
          "base_uri": "https://localhost:8080/",
          "height": 104,
          "referenced_widgets": [
            "a2e7d99ebfdf4d0eb7f92a0825ff8558",
            "a535e795eceb4d82b865aa43db6b8857",
            "832cc721b5974969bce66e8c24b6a13e",
            "c35a20660ed44fdf8696931c99dbce3c",
            "221fcfa62e0b44278a2c049d9ed420aa",
            "6d831aed2fe04ccfaa7cc1069197c1fc",
            "1221aefd40e7445f9294dbd786516429",
            "06713cc1ca8e47cd8f664208d3204226",
            "2ffd97c5518644c0ac6e845a2e0770f0",
            "a64b36c196aa45bfaae7e478bb074c7d",
            "4d6ec95ed73d44f79c40afbbfe2ddfdd"
          ]
        },
        "outputId": "5e9809bf-4473-4975-e66d-43bcdc3bfdc5"
      },
      "outputs": [
        {
          "output_type": "display_data",
          "data": {
            "text/plain": [
              "Downloading:   0%|          | 0.00/420M [00:00<?, ?B/s]"
            ],
            "application/vnd.jupyter.widget-view+json": {
              "version_major": 2,
              "version_minor": 0,
              "model_id": "a2e7d99ebfdf4d0eb7f92a0825ff8558"
            }
          },
          "metadata": {}
        },
        {
          "output_type": "stream",
          "name": "stderr",
          "text": [
            "Some weights of BertForPreTraining were not initialized from the model checkpoint at bert-base-uncased and are newly initialized: ['cls.predictions.decoder.bias']\n",
            "You should probably TRAIN this model on a down-stream task to be able to use it for predictions and inference.\n"
          ]
        }
      ],
      "source": [
        "model = BertForPreTraining.from_pretrained('bert-large-uncased-whole-word-masking')"
      ]
    },
    {
      "cell_type": "code",
      "execution_count": null,
      "metadata": {
        "id": "6KeuL3gZe2ZW",
        "colab": {
          "base_uri": "https://localhost:8080/"
        },
        "outputId": "b9e50ac2-5598-4a09-a33e-5812b14c0440"
      },
      "outputs": [
        {
          "output_type": "execute_result",
          "data": {
            "text/plain": [
              "BertForPreTraining(\n",
              "  (bert): BertModel(\n",
              "    (embeddings): BertEmbeddings(\n",
              "      (word_embeddings): Embedding(30522, 768, padding_idx=0)\n",
              "      (position_embeddings): Embedding(512, 768)\n",
              "      (token_type_embeddings): Embedding(2, 768)\n",
              "      (LayerNorm): LayerNorm((768,), eps=1e-12, elementwise_affine=True)\n",
              "      (dropout): Dropout(p=0.1, inplace=False)\n",
              "    )\n",
              "    (encoder): BertEncoder(\n",
              "      (layer): ModuleList(\n",
              "        (0): BertLayer(\n",
              "          (attention): BertAttention(\n",
              "            (self): BertSelfAttention(\n",
              "              (query): Linear(in_features=768, out_features=768, bias=True)\n",
              "              (key): Linear(in_features=768, out_features=768, bias=True)\n",
              "              (value): Linear(in_features=768, out_features=768, bias=True)\n",
              "              (dropout): Dropout(p=0.1, inplace=False)\n",
              "            )\n",
              "            (output): BertSelfOutput(\n",
              "              (dense): Linear(in_features=768, out_features=768, bias=True)\n",
              "              (LayerNorm): LayerNorm((768,), eps=1e-12, elementwise_affine=True)\n",
              "              (dropout): Dropout(p=0.1, inplace=False)\n",
              "            )\n",
              "          )\n",
              "          (intermediate): BertIntermediate(\n",
              "            (dense): Linear(in_features=768, out_features=3072, bias=True)\n",
              "            (intermediate_act_fn): GELUActivation()\n",
              "          )\n",
              "          (output): BertOutput(\n",
              "            (dense): Linear(in_features=3072, out_features=768, bias=True)\n",
              "            (LayerNorm): LayerNorm((768,), eps=1e-12, elementwise_affine=True)\n",
              "            (dropout): Dropout(p=0.1, inplace=False)\n",
              "          )\n",
              "        )\n",
              "        (1): BertLayer(\n",
              "          (attention): BertAttention(\n",
              "            (self): BertSelfAttention(\n",
              "              (query): Linear(in_features=768, out_features=768, bias=True)\n",
              "              (key): Linear(in_features=768, out_features=768, bias=True)\n",
              "              (value): Linear(in_features=768, out_features=768, bias=True)\n",
              "              (dropout): Dropout(p=0.1, inplace=False)\n",
              "            )\n",
              "            (output): BertSelfOutput(\n",
              "              (dense): Linear(in_features=768, out_features=768, bias=True)\n",
              "              (LayerNorm): LayerNorm((768,), eps=1e-12, elementwise_affine=True)\n",
              "              (dropout): Dropout(p=0.1, inplace=False)\n",
              "            )\n",
              "          )\n",
              "          (intermediate): BertIntermediate(\n",
              "            (dense): Linear(in_features=768, out_features=3072, bias=True)\n",
              "            (intermediate_act_fn): GELUActivation()\n",
              "          )\n",
              "          (output): BertOutput(\n",
              "            (dense): Linear(in_features=3072, out_features=768, bias=True)\n",
              "            (LayerNorm): LayerNorm((768,), eps=1e-12, elementwise_affine=True)\n",
              "            (dropout): Dropout(p=0.1, inplace=False)\n",
              "          )\n",
              "        )\n",
              "        (2): BertLayer(\n",
              "          (attention): BertAttention(\n",
              "            (self): BertSelfAttention(\n",
              "              (query): Linear(in_features=768, out_features=768, bias=True)\n",
              "              (key): Linear(in_features=768, out_features=768, bias=True)\n",
              "              (value): Linear(in_features=768, out_features=768, bias=True)\n",
              "              (dropout): Dropout(p=0.1, inplace=False)\n",
              "            )\n",
              "            (output): BertSelfOutput(\n",
              "              (dense): Linear(in_features=768, out_features=768, bias=True)\n",
              "              (LayerNorm): LayerNorm((768,), eps=1e-12, elementwise_affine=True)\n",
              "              (dropout): Dropout(p=0.1, inplace=False)\n",
              "            )\n",
              "          )\n",
              "          (intermediate): BertIntermediate(\n",
              "            (dense): Linear(in_features=768, out_features=3072, bias=True)\n",
              "            (intermediate_act_fn): GELUActivation()\n",
              "          )\n",
              "          (output): BertOutput(\n",
              "            (dense): Linear(in_features=3072, out_features=768, bias=True)\n",
              "            (LayerNorm): LayerNorm((768,), eps=1e-12, elementwise_affine=True)\n",
              "            (dropout): Dropout(p=0.1, inplace=False)\n",
              "          )\n",
              "        )\n",
              "        (3): BertLayer(\n",
              "          (attention): BertAttention(\n",
              "            (self): BertSelfAttention(\n",
              "              (query): Linear(in_features=768, out_features=768, bias=True)\n",
              "              (key): Linear(in_features=768, out_features=768, bias=True)\n",
              "              (value): Linear(in_features=768, out_features=768, bias=True)\n",
              "              (dropout): Dropout(p=0.1, inplace=False)\n",
              "            )\n",
              "            (output): BertSelfOutput(\n",
              "              (dense): Linear(in_features=768, out_features=768, bias=True)\n",
              "              (LayerNorm): LayerNorm((768,), eps=1e-12, elementwise_affine=True)\n",
              "              (dropout): Dropout(p=0.1, inplace=False)\n",
              "            )\n",
              "          )\n",
              "          (intermediate): BertIntermediate(\n",
              "            (dense): Linear(in_features=768, out_features=3072, bias=True)\n",
              "            (intermediate_act_fn): GELUActivation()\n",
              "          )\n",
              "          (output): BertOutput(\n",
              "            (dense): Linear(in_features=3072, out_features=768, bias=True)\n",
              "            (LayerNorm): LayerNorm((768,), eps=1e-12, elementwise_affine=True)\n",
              "            (dropout): Dropout(p=0.1, inplace=False)\n",
              "          )\n",
              "        )\n",
              "        (4): BertLayer(\n",
              "          (attention): BertAttention(\n",
              "            (self): BertSelfAttention(\n",
              "              (query): Linear(in_features=768, out_features=768, bias=True)\n",
              "              (key): Linear(in_features=768, out_features=768, bias=True)\n",
              "              (value): Linear(in_features=768, out_features=768, bias=True)\n",
              "              (dropout): Dropout(p=0.1, inplace=False)\n",
              "            )\n",
              "            (output): BertSelfOutput(\n",
              "              (dense): Linear(in_features=768, out_features=768, bias=True)\n",
              "              (LayerNorm): LayerNorm((768,), eps=1e-12, elementwise_affine=True)\n",
              "              (dropout): Dropout(p=0.1, inplace=False)\n",
              "            )\n",
              "          )\n",
              "          (intermediate): BertIntermediate(\n",
              "            (dense): Linear(in_features=768, out_features=3072, bias=True)\n",
              "            (intermediate_act_fn): GELUActivation()\n",
              "          )\n",
              "          (output): BertOutput(\n",
              "            (dense): Linear(in_features=3072, out_features=768, bias=True)\n",
              "            (LayerNorm): LayerNorm((768,), eps=1e-12, elementwise_affine=True)\n",
              "            (dropout): Dropout(p=0.1, inplace=False)\n",
              "          )\n",
              "        )\n",
              "        (5): BertLayer(\n",
              "          (attention): BertAttention(\n",
              "            (self): BertSelfAttention(\n",
              "              (query): Linear(in_features=768, out_features=768, bias=True)\n",
              "              (key): Linear(in_features=768, out_features=768, bias=True)\n",
              "              (value): Linear(in_features=768, out_features=768, bias=True)\n",
              "              (dropout): Dropout(p=0.1, inplace=False)\n",
              "            )\n",
              "            (output): BertSelfOutput(\n",
              "              (dense): Linear(in_features=768, out_features=768, bias=True)\n",
              "              (LayerNorm): LayerNorm((768,), eps=1e-12, elementwise_affine=True)\n",
              "              (dropout): Dropout(p=0.1, inplace=False)\n",
              "            )\n",
              "          )\n",
              "          (intermediate): BertIntermediate(\n",
              "            (dense): Linear(in_features=768, out_features=3072, bias=True)\n",
              "            (intermediate_act_fn): GELUActivation()\n",
              "          )\n",
              "          (output): BertOutput(\n",
              "            (dense): Linear(in_features=3072, out_features=768, bias=True)\n",
              "            (LayerNorm): LayerNorm((768,), eps=1e-12, elementwise_affine=True)\n",
              "            (dropout): Dropout(p=0.1, inplace=False)\n",
              "          )\n",
              "        )\n",
              "        (6): BertLayer(\n",
              "          (attention): BertAttention(\n",
              "            (self): BertSelfAttention(\n",
              "              (query): Linear(in_features=768, out_features=768, bias=True)\n",
              "              (key): Linear(in_features=768, out_features=768, bias=True)\n",
              "              (value): Linear(in_features=768, out_features=768, bias=True)\n",
              "              (dropout): Dropout(p=0.1, inplace=False)\n",
              "            )\n",
              "            (output): BertSelfOutput(\n",
              "              (dense): Linear(in_features=768, out_features=768, bias=True)\n",
              "              (LayerNorm): LayerNorm((768,), eps=1e-12, elementwise_affine=True)\n",
              "              (dropout): Dropout(p=0.1, inplace=False)\n",
              "            )\n",
              "          )\n",
              "          (intermediate): BertIntermediate(\n",
              "            (dense): Linear(in_features=768, out_features=3072, bias=True)\n",
              "            (intermediate_act_fn): GELUActivation()\n",
              "          )\n",
              "          (output): BertOutput(\n",
              "            (dense): Linear(in_features=3072, out_features=768, bias=True)\n",
              "            (LayerNorm): LayerNorm((768,), eps=1e-12, elementwise_affine=True)\n",
              "            (dropout): Dropout(p=0.1, inplace=False)\n",
              "          )\n",
              "        )\n",
              "        (7): BertLayer(\n",
              "          (attention): BertAttention(\n",
              "            (self): BertSelfAttention(\n",
              "              (query): Linear(in_features=768, out_features=768, bias=True)\n",
              "              (key): Linear(in_features=768, out_features=768, bias=True)\n",
              "              (value): Linear(in_features=768, out_features=768, bias=True)\n",
              "              (dropout): Dropout(p=0.1, inplace=False)\n",
              "            )\n",
              "            (output): BertSelfOutput(\n",
              "              (dense): Linear(in_features=768, out_features=768, bias=True)\n",
              "              (LayerNorm): LayerNorm((768,), eps=1e-12, elementwise_affine=True)\n",
              "              (dropout): Dropout(p=0.1, inplace=False)\n",
              "            )\n",
              "          )\n",
              "          (intermediate): BertIntermediate(\n",
              "            (dense): Linear(in_features=768, out_features=3072, bias=True)\n",
              "            (intermediate_act_fn): GELUActivation()\n",
              "          )\n",
              "          (output): BertOutput(\n",
              "            (dense): Linear(in_features=3072, out_features=768, bias=True)\n",
              "            (LayerNorm): LayerNorm((768,), eps=1e-12, elementwise_affine=True)\n",
              "            (dropout): Dropout(p=0.1, inplace=False)\n",
              "          )\n",
              "        )\n",
              "        (8): BertLayer(\n",
              "          (attention): BertAttention(\n",
              "            (self): BertSelfAttention(\n",
              "              (query): Linear(in_features=768, out_features=768, bias=True)\n",
              "              (key): Linear(in_features=768, out_features=768, bias=True)\n",
              "              (value): Linear(in_features=768, out_features=768, bias=True)\n",
              "              (dropout): Dropout(p=0.1, inplace=False)\n",
              "            )\n",
              "            (output): BertSelfOutput(\n",
              "              (dense): Linear(in_features=768, out_features=768, bias=True)\n",
              "              (LayerNorm): LayerNorm((768,), eps=1e-12, elementwise_affine=True)\n",
              "              (dropout): Dropout(p=0.1, inplace=False)\n",
              "            )\n",
              "          )\n",
              "          (intermediate): BertIntermediate(\n",
              "            (dense): Linear(in_features=768, out_features=3072, bias=True)\n",
              "            (intermediate_act_fn): GELUActivation()\n",
              "          )\n",
              "          (output): BertOutput(\n",
              "            (dense): Linear(in_features=3072, out_features=768, bias=True)\n",
              "            (LayerNorm): LayerNorm((768,), eps=1e-12, elementwise_affine=True)\n",
              "            (dropout): Dropout(p=0.1, inplace=False)\n",
              "          )\n",
              "        )\n",
              "        (9): BertLayer(\n",
              "          (attention): BertAttention(\n",
              "            (self): BertSelfAttention(\n",
              "              (query): Linear(in_features=768, out_features=768, bias=True)\n",
              "              (key): Linear(in_features=768, out_features=768, bias=True)\n",
              "              (value): Linear(in_features=768, out_features=768, bias=True)\n",
              "              (dropout): Dropout(p=0.1, inplace=False)\n",
              "            )\n",
              "            (output): BertSelfOutput(\n",
              "              (dense): Linear(in_features=768, out_features=768, bias=True)\n",
              "              (LayerNorm): LayerNorm((768,), eps=1e-12, elementwise_affine=True)\n",
              "              (dropout): Dropout(p=0.1, inplace=False)\n",
              "            )\n",
              "          )\n",
              "          (intermediate): BertIntermediate(\n",
              "            (dense): Linear(in_features=768, out_features=3072, bias=True)\n",
              "            (intermediate_act_fn): GELUActivation()\n",
              "          )\n",
              "          (output): BertOutput(\n",
              "            (dense): Linear(in_features=3072, out_features=768, bias=True)\n",
              "            (LayerNorm): LayerNorm((768,), eps=1e-12, elementwise_affine=True)\n",
              "            (dropout): Dropout(p=0.1, inplace=False)\n",
              "          )\n",
              "        )\n",
              "        (10): BertLayer(\n",
              "          (attention): BertAttention(\n",
              "            (self): BertSelfAttention(\n",
              "              (query): Linear(in_features=768, out_features=768, bias=True)\n",
              "              (key): Linear(in_features=768, out_features=768, bias=True)\n",
              "              (value): Linear(in_features=768, out_features=768, bias=True)\n",
              "              (dropout): Dropout(p=0.1, inplace=False)\n",
              "            )\n",
              "            (output): BertSelfOutput(\n",
              "              (dense): Linear(in_features=768, out_features=768, bias=True)\n",
              "              (LayerNorm): LayerNorm((768,), eps=1e-12, elementwise_affine=True)\n",
              "              (dropout): Dropout(p=0.1, inplace=False)\n",
              "            )\n",
              "          )\n",
              "          (intermediate): BertIntermediate(\n",
              "            (dense): Linear(in_features=768, out_features=3072, bias=True)\n",
              "            (intermediate_act_fn): GELUActivation()\n",
              "          )\n",
              "          (output): BertOutput(\n",
              "            (dense): Linear(in_features=3072, out_features=768, bias=True)\n",
              "            (LayerNorm): LayerNorm((768,), eps=1e-12, elementwise_affine=True)\n",
              "            (dropout): Dropout(p=0.1, inplace=False)\n",
              "          )\n",
              "        )\n",
              "        (11): BertLayer(\n",
              "          (attention): BertAttention(\n",
              "            (self): BertSelfAttention(\n",
              "              (query): Linear(in_features=768, out_features=768, bias=True)\n",
              "              (key): Linear(in_features=768, out_features=768, bias=True)\n",
              "              (value): Linear(in_features=768, out_features=768, bias=True)\n",
              "              (dropout): Dropout(p=0.1, inplace=False)\n",
              "            )\n",
              "            (output): BertSelfOutput(\n",
              "              (dense): Linear(in_features=768, out_features=768, bias=True)\n",
              "              (LayerNorm): LayerNorm((768,), eps=1e-12, elementwise_affine=True)\n",
              "              (dropout): Dropout(p=0.1, inplace=False)\n",
              "            )\n",
              "          )\n",
              "          (intermediate): BertIntermediate(\n",
              "            (dense): Linear(in_features=768, out_features=3072, bias=True)\n",
              "            (intermediate_act_fn): GELUActivation()\n",
              "          )\n",
              "          (output): BertOutput(\n",
              "            (dense): Linear(in_features=3072, out_features=768, bias=True)\n",
              "            (LayerNorm): LayerNorm((768,), eps=1e-12, elementwise_affine=True)\n",
              "            (dropout): Dropout(p=0.1, inplace=False)\n",
              "          )\n",
              "        )\n",
              "      )\n",
              "    )\n",
              "    (pooler): BertPooler(\n",
              "      (dense): Linear(in_features=768, out_features=768, bias=True)\n",
              "      (activation): Tanh()\n",
              "    )\n",
              "  )\n",
              "  (cls): BertPreTrainingHeads(\n",
              "    (predictions): BertLMPredictionHead(\n",
              "      (transform): BertPredictionHeadTransform(\n",
              "        (dense): Linear(in_features=768, out_features=768, bias=True)\n",
              "        (transform_act_fn): GELUActivation()\n",
              "        (LayerNorm): LayerNorm((768,), eps=1e-12, elementwise_affine=True)\n",
              "      )\n",
              "      (decoder): Linear(in_features=768, out_features=30522, bias=True)\n",
              "    )\n",
              "    (seq_relationship): Linear(in_features=768, out_features=2, bias=True)\n",
              "  )\n",
              ")"
            ]
          },
          "metadata": {},
          "execution_count": 16
        }
      ],
      "source": [
        "device = torch.device('cpu')\n",
        "model.to(device)"
      ]
    },
    {
      "cell_type": "code",
      "source": [
        ""
      ],
      "metadata": {
        "id": "lXTAz71RbY-z"
      },
      "execution_count": null,
      "outputs": []
    },
    {
      "cell_type": "code",
      "execution_count": null,
      "metadata": {
        "id": "wcMuEAyPe6tg",
        "colab": {
          "base_uri": "https://localhost:8080/"
        },
        "outputId": "b53101df-b7ed-4d84-eb95-0b38fc98eda6"
      },
      "outputs": [
        {
          "output_type": "execute_result",
          "data": {
            "text/plain": [
              "BertForPreTraining(\n",
              "  (bert): BertModel(\n",
              "    (embeddings): BertEmbeddings(\n",
              "      (word_embeddings): Embedding(30522, 768, padding_idx=0)\n",
              "      (position_embeddings): Embedding(512, 768)\n",
              "      (token_type_embeddings): Embedding(2, 768)\n",
              "      (LayerNorm): LayerNorm((768,), eps=1e-12, elementwise_affine=True)\n",
              "      (dropout): Dropout(p=0.1, inplace=False)\n",
              "    )\n",
              "    (encoder): BertEncoder(\n",
              "      (layer): ModuleList(\n",
              "        (0): BertLayer(\n",
              "          (attention): BertAttention(\n",
              "            (self): BertSelfAttention(\n",
              "              (query): Linear(in_features=768, out_features=768, bias=True)\n",
              "              (key): Linear(in_features=768, out_features=768, bias=True)\n",
              "              (value): Linear(in_features=768, out_features=768, bias=True)\n",
              "              (dropout): Dropout(p=0.1, inplace=False)\n",
              "            )\n",
              "            (output): BertSelfOutput(\n",
              "              (dense): Linear(in_features=768, out_features=768, bias=True)\n",
              "              (LayerNorm): LayerNorm((768,), eps=1e-12, elementwise_affine=True)\n",
              "              (dropout): Dropout(p=0.1, inplace=False)\n",
              "            )\n",
              "          )\n",
              "          (intermediate): BertIntermediate(\n",
              "            (dense): Linear(in_features=768, out_features=3072, bias=True)\n",
              "            (intermediate_act_fn): GELUActivation()\n",
              "          )\n",
              "          (output): BertOutput(\n",
              "            (dense): Linear(in_features=3072, out_features=768, bias=True)\n",
              "            (LayerNorm): LayerNorm((768,), eps=1e-12, elementwise_affine=True)\n",
              "            (dropout): Dropout(p=0.1, inplace=False)\n",
              "          )\n",
              "        )\n",
              "        (1): BertLayer(\n",
              "          (attention): BertAttention(\n",
              "            (self): BertSelfAttention(\n",
              "              (query): Linear(in_features=768, out_features=768, bias=True)\n",
              "              (key): Linear(in_features=768, out_features=768, bias=True)\n",
              "              (value): Linear(in_features=768, out_features=768, bias=True)\n",
              "              (dropout): Dropout(p=0.1, inplace=False)\n",
              "            )\n",
              "            (output): BertSelfOutput(\n",
              "              (dense): Linear(in_features=768, out_features=768, bias=True)\n",
              "              (LayerNorm): LayerNorm((768,), eps=1e-12, elementwise_affine=True)\n",
              "              (dropout): Dropout(p=0.1, inplace=False)\n",
              "            )\n",
              "          )\n",
              "          (intermediate): BertIntermediate(\n",
              "            (dense): Linear(in_features=768, out_features=3072, bias=True)\n",
              "            (intermediate_act_fn): GELUActivation()\n",
              "          )\n",
              "          (output): BertOutput(\n",
              "            (dense): Linear(in_features=3072, out_features=768, bias=True)\n",
              "            (LayerNorm): LayerNorm((768,), eps=1e-12, elementwise_affine=True)\n",
              "            (dropout): Dropout(p=0.1, inplace=False)\n",
              "          )\n",
              "        )\n",
              "        (2): BertLayer(\n",
              "          (attention): BertAttention(\n",
              "            (self): BertSelfAttention(\n",
              "              (query): Linear(in_features=768, out_features=768, bias=True)\n",
              "              (key): Linear(in_features=768, out_features=768, bias=True)\n",
              "              (value): Linear(in_features=768, out_features=768, bias=True)\n",
              "              (dropout): Dropout(p=0.1, inplace=False)\n",
              "            )\n",
              "            (output): BertSelfOutput(\n",
              "              (dense): Linear(in_features=768, out_features=768, bias=True)\n",
              "              (LayerNorm): LayerNorm((768,), eps=1e-12, elementwise_affine=True)\n",
              "              (dropout): Dropout(p=0.1, inplace=False)\n",
              "            )\n",
              "          )\n",
              "          (intermediate): BertIntermediate(\n",
              "            (dense): Linear(in_features=768, out_features=3072, bias=True)\n",
              "            (intermediate_act_fn): GELUActivation()\n",
              "          )\n",
              "          (output): BertOutput(\n",
              "            (dense): Linear(in_features=3072, out_features=768, bias=True)\n",
              "            (LayerNorm): LayerNorm((768,), eps=1e-12, elementwise_affine=True)\n",
              "            (dropout): Dropout(p=0.1, inplace=False)\n",
              "          )\n",
              "        )\n",
              "        (3): BertLayer(\n",
              "          (attention): BertAttention(\n",
              "            (self): BertSelfAttention(\n",
              "              (query): Linear(in_features=768, out_features=768, bias=True)\n",
              "              (key): Linear(in_features=768, out_features=768, bias=True)\n",
              "              (value): Linear(in_features=768, out_features=768, bias=True)\n",
              "              (dropout): Dropout(p=0.1, inplace=False)\n",
              "            )\n",
              "            (output): BertSelfOutput(\n",
              "              (dense): Linear(in_features=768, out_features=768, bias=True)\n",
              "              (LayerNorm): LayerNorm((768,), eps=1e-12, elementwise_affine=True)\n",
              "              (dropout): Dropout(p=0.1, inplace=False)\n",
              "            )\n",
              "          )\n",
              "          (intermediate): BertIntermediate(\n",
              "            (dense): Linear(in_features=768, out_features=3072, bias=True)\n",
              "            (intermediate_act_fn): GELUActivation()\n",
              "          )\n",
              "          (output): BertOutput(\n",
              "            (dense): Linear(in_features=3072, out_features=768, bias=True)\n",
              "            (LayerNorm): LayerNorm((768,), eps=1e-12, elementwise_affine=True)\n",
              "            (dropout): Dropout(p=0.1, inplace=False)\n",
              "          )\n",
              "        )\n",
              "        (4): BertLayer(\n",
              "          (attention): BertAttention(\n",
              "            (self): BertSelfAttention(\n",
              "              (query): Linear(in_features=768, out_features=768, bias=True)\n",
              "              (key): Linear(in_features=768, out_features=768, bias=True)\n",
              "              (value): Linear(in_features=768, out_features=768, bias=True)\n",
              "              (dropout): Dropout(p=0.1, inplace=False)\n",
              "            )\n",
              "            (output): BertSelfOutput(\n",
              "              (dense): Linear(in_features=768, out_features=768, bias=True)\n",
              "              (LayerNorm): LayerNorm((768,), eps=1e-12, elementwise_affine=True)\n",
              "              (dropout): Dropout(p=0.1, inplace=False)\n",
              "            )\n",
              "          )\n",
              "          (intermediate): BertIntermediate(\n",
              "            (dense): Linear(in_features=768, out_features=3072, bias=True)\n",
              "            (intermediate_act_fn): GELUActivation()\n",
              "          )\n",
              "          (output): BertOutput(\n",
              "            (dense): Linear(in_features=3072, out_features=768, bias=True)\n",
              "            (LayerNorm): LayerNorm((768,), eps=1e-12, elementwise_affine=True)\n",
              "            (dropout): Dropout(p=0.1, inplace=False)\n",
              "          )\n",
              "        )\n",
              "        (5): BertLayer(\n",
              "          (attention): BertAttention(\n",
              "            (self): BertSelfAttention(\n",
              "              (query): Linear(in_features=768, out_features=768, bias=True)\n",
              "              (key): Linear(in_features=768, out_features=768, bias=True)\n",
              "              (value): Linear(in_features=768, out_features=768, bias=True)\n",
              "              (dropout): Dropout(p=0.1, inplace=False)\n",
              "            )\n",
              "            (output): BertSelfOutput(\n",
              "              (dense): Linear(in_features=768, out_features=768, bias=True)\n",
              "              (LayerNorm): LayerNorm((768,), eps=1e-12, elementwise_affine=True)\n",
              "              (dropout): Dropout(p=0.1, inplace=False)\n",
              "            )\n",
              "          )\n",
              "          (intermediate): BertIntermediate(\n",
              "            (dense): Linear(in_features=768, out_features=3072, bias=True)\n",
              "            (intermediate_act_fn): GELUActivation()\n",
              "          )\n",
              "          (output): BertOutput(\n",
              "            (dense): Linear(in_features=3072, out_features=768, bias=True)\n",
              "            (LayerNorm): LayerNorm((768,), eps=1e-12, elementwise_affine=True)\n",
              "            (dropout): Dropout(p=0.1, inplace=False)\n",
              "          )\n",
              "        )\n",
              "        (6): BertLayer(\n",
              "          (attention): BertAttention(\n",
              "            (self): BertSelfAttention(\n",
              "              (query): Linear(in_features=768, out_features=768, bias=True)\n",
              "              (key): Linear(in_features=768, out_features=768, bias=True)\n",
              "              (value): Linear(in_features=768, out_features=768, bias=True)\n",
              "              (dropout): Dropout(p=0.1, inplace=False)\n",
              "            )\n",
              "            (output): BertSelfOutput(\n",
              "              (dense): Linear(in_features=768, out_features=768, bias=True)\n",
              "              (LayerNorm): LayerNorm((768,), eps=1e-12, elementwise_affine=True)\n",
              "              (dropout): Dropout(p=0.1, inplace=False)\n",
              "            )\n",
              "          )\n",
              "          (intermediate): BertIntermediate(\n",
              "            (dense): Linear(in_features=768, out_features=3072, bias=True)\n",
              "            (intermediate_act_fn): GELUActivation()\n",
              "          )\n",
              "          (output): BertOutput(\n",
              "            (dense): Linear(in_features=3072, out_features=768, bias=True)\n",
              "            (LayerNorm): LayerNorm((768,), eps=1e-12, elementwise_affine=True)\n",
              "            (dropout): Dropout(p=0.1, inplace=False)\n",
              "          )\n",
              "        )\n",
              "        (7): BertLayer(\n",
              "          (attention): BertAttention(\n",
              "            (self): BertSelfAttention(\n",
              "              (query): Linear(in_features=768, out_features=768, bias=True)\n",
              "              (key): Linear(in_features=768, out_features=768, bias=True)\n",
              "              (value): Linear(in_features=768, out_features=768, bias=True)\n",
              "              (dropout): Dropout(p=0.1, inplace=False)\n",
              "            )\n",
              "            (output): BertSelfOutput(\n",
              "              (dense): Linear(in_features=768, out_features=768, bias=True)\n",
              "              (LayerNorm): LayerNorm((768,), eps=1e-12, elementwise_affine=True)\n",
              "              (dropout): Dropout(p=0.1, inplace=False)\n",
              "            )\n",
              "          )\n",
              "          (intermediate): BertIntermediate(\n",
              "            (dense): Linear(in_features=768, out_features=3072, bias=True)\n",
              "            (intermediate_act_fn): GELUActivation()\n",
              "          )\n",
              "          (output): BertOutput(\n",
              "            (dense): Linear(in_features=3072, out_features=768, bias=True)\n",
              "            (LayerNorm): LayerNorm((768,), eps=1e-12, elementwise_affine=True)\n",
              "            (dropout): Dropout(p=0.1, inplace=False)\n",
              "          )\n",
              "        )\n",
              "        (8): BertLayer(\n",
              "          (attention): BertAttention(\n",
              "            (self): BertSelfAttention(\n",
              "              (query): Linear(in_features=768, out_features=768, bias=True)\n",
              "              (key): Linear(in_features=768, out_features=768, bias=True)\n",
              "              (value): Linear(in_features=768, out_features=768, bias=True)\n",
              "              (dropout): Dropout(p=0.1, inplace=False)\n",
              "            )\n",
              "            (output): BertSelfOutput(\n",
              "              (dense): Linear(in_features=768, out_features=768, bias=True)\n",
              "              (LayerNorm): LayerNorm((768,), eps=1e-12, elementwise_affine=True)\n",
              "              (dropout): Dropout(p=0.1, inplace=False)\n",
              "            )\n",
              "          )\n",
              "          (intermediate): BertIntermediate(\n",
              "            (dense): Linear(in_features=768, out_features=3072, bias=True)\n",
              "            (intermediate_act_fn): GELUActivation()\n",
              "          )\n",
              "          (output): BertOutput(\n",
              "            (dense): Linear(in_features=3072, out_features=768, bias=True)\n",
              "            (LayerNorm): LayerNorm((768,), eps=1e-12, elementwise_affine=True)\n",
              "            (dropout): Dropout(p=0.1, inplace=False)\n",
              "          )\n",
              "        )\n",
              "        (9): BertLayer(\n",
              "          (attention): BertAttention(\n",
              "            (self): BertSelfAttention(\n",
              "              (query): Linear(in_features=768, out_features=768, bias=True)\n",
              "              (key): Linear(in_features=768, out_features=768, bias=True)\n",
              "              (value): Linear(in_features=768, out_features=768, bias=True)\n",
              "              (dropout): Dropout(p=0.1, inplace=False)\n",
              "            )\n",
              "            (output): BertSelfOutput(\n",
              "              (dense): Linear(in_features=768, out_features=768, bias=True)\n",
              "              (LayerNorm): LayerNorm((768,), eps=1e-12, elementwise_affine=True)\n",
              "              (dropout): Dropout(p=0.1, inplace=False)\n",
              "            )\n",
              "          )\n",
              "          (intermediate): BertIntermediate(\n",
              "            (dense): Linear(in_features=768, out_features=3072, bias=True)\n",
              "            (intermediate_act_fn): GELUActivation()\n",
              "          )\n",
              "          (output): BertOutput(\n",
              "            (dense): Linear(in_features=3072, out_features=768, bias=True)\n",
              "            (LayerNorm): LayerNorm((768,), eps=1e-12, elementwise_affine=True)\n",
              "            (dropout): Dropout(p=0.1, inplace=False)\n",
              "          )\n",
              "        )\n",
              "        (10): BertLayer(\n",
              "          (attention): BertAttention(\n",
              "            (self): BertSelfAttention(\n",
              "              (query): Linear(in_features=768, out_features=768, bias=True)\n",
              "              (key): Linear(in_features=768, out_features=768, bias=True)\n",
              "              (value): Linear(in_features=768, out_features=768, bias=True)\n",
              "              (dropout): Dropout(p=0.1, inplace=False)\n",
              "            )\n",
              "            (output): BertSelfOutput(\n",
              "              (dense): Linear(in_features=768, out_features=768, bias=True)\n",
              "              (LayerNorm): LayerNorm((768,), eps=1e-12, elementwise_affine=True)\n",
              "              (dropout): Dropout(p=0.1, inplace=False)\n",
              "            )\n",
              "          )\n",
              "          (intermediate): BertIntermediate(\n",
              "            (dense): Linear(in_features=768, out_features=3072, bias=True)\n",
              "            (intermediate_act_fn): GELUActivation()\n",
              "          )\n",
              "          (output): BertOutput(\n",
              "            (dense): Linear(in_features=3072, out_features=768, bias=True)\n",
              "            (LayerNorm): LayerNorm((768,), eps=1e-12, elementwise_affine=True)\n",
              "            (dropout): Dropout(p=0.1, inplace=False)\n",
              "          )\n",
              "        )\n",
              "        (11): BertLayer(\n",
              "          (attention): BertAttention(\n",
              "            (self): BertSelfAttention(\n",
              "              (query): Linear(in_features=768, out_features=768, bias=True)\n",
              "              (key): Linear(in_features=768, out_features=768, bias=True)\n",
              "              (value): Linear(in_features=768, out_features=768, bias=True)\n",
              "              (dropout): Dropout(p=0.1, inplace=False)\n",
              "            )\n",
              "            (output): BertSelfOutput(\n",
              "              (dense): Linear(in_features=768, out_features=768, bias=True)\n",
              "              (LayerNorm): LayerNorm((768,), eps=1e-12, elementwise_affine=True)\n",
              "              (dropout): Dropout(p=0.1, inplace=False)\n",
              "            )\n",
              "          )\n",
              "          (intermediate): BertIntermediate(\n",
              "            (dense): Linear(in_features=768, out_features=3072, bias=True)\n",
              "            (intermediate_act_fn): GELUActivation()\n",
              "          )\n",
              "          (output): BertOutput(\n",
              "            (dense): Linear(in_features=3072, out_features=768, bias=True)\n",
              "            (LayerNorm): LayerNorm((768,), eps=1e-12, elementwise_affine=True)\n",
              "            (dropout): Dropout(p=0.1, inplace=False)\n",
              "          )\n",
              "        )\n",
              "      )\n",
              "    )\n",
              "    (pooler): BertPooler(\n",
              "      (dense): Linear(in_features=768, out_features=768, bias=True)\n",
              "      (activation): Tanh()\n",
              "    )\n",
              "  )\n",
              "  (cls): BertPreTrainingHeads(\n",
              "    (predictions): BertLMPredictionHead(\n",
              "      (transform): BertPredictionHeadTransform(\n",
              "        (dense): Linear(in_features=768, out_features=768, bias=True)\n",
              "        (transform_act_fn): GELUActivation()\n",
              "        (LayerNorm): LayerNorm((768,), eps=1e-12, elementwise_affine=True)\n",
              "      )\n",
              "      (decoder): Linear(in_features=768, out_features=30522, bias=True)\n",
              "    )\n",
              "    (seq_relationship): Linear(in_features=768, out_features=2, bias=True)\n",
              "  )\n",
              ")"
            ]
          },
          "metadata": {},
          "execution_count": 17
        }
      ],
      "source": [
        "model.train()"
      ]
    },
    {
      "cell_type": "markdown",
      "source": [
        ""
      ],
      "metadata": {
        "id": "YHuahApPc6om"
      }
    },
    {
      "cell_type": "code",
      "execution_count": null,
      "metadata": {
        "id": "nKMZuQaVfBJo",
        "colab": {
          "base_uri": "https://localhost:8080/"
        },
        "outputId": "cf82ef53-8c8d-42fc-eb39-8bedf91e851f"
      },
      "outputs": [
        {
          "output_type": "stream",
          "name": "stderr",
          "text": [
            "/usr/local/lib/python3.7/dist-packages/transformers/optimization.py:309: FutureWarning: This implementation of AdamW is deprecated and will be removed in a future version. Use the PyTorch implementation torch.optim.AdamW instead, or set `no_deprecation_warning=True` to disable this warning\n",
            "  FutureWarning,\n"
          ]
        }
      ],
      "source": [
        "from transformers import AdamW\n",
        "\n",
        "optim = AdamW(model.parameters(), lr=5e-5)"
      ]
    },
    {
      "cell_type": "code",
      "execution_count": null,
      "metadata": {
        "id": "x4ciTYC1acE0",
        "colab": {
          "base_uri": "https://localhost:8080/"
        },
        "outputId": "bc23d0ce-4a89-4e74-9353-f17705df372d"
      },
      "outputs": [
        {
          "output_type": "stream",
          "name": "stderr",
          "text": [
            "\r  0%|          | 0/125 [00:00<?, ?it/s]/usr/local/lib/python3.7/dist-packages/ipykernel_launcher.py:5: UserWarning: To copy construct from a tensor, it is recommended to use sourceTensor.clone().detach() or sourceTensor.clone().detach().requires_grad_(True), rather than torch.tensor(sourceTensor).\n",
            "  \"\"\"\n"
          ]
        },
        {
          "output_type": "stream",
          "name": "stdout",
          "text": [
            "batch\n",
            "after input to device\n",
            "after token_type_ids to device\n",
            "after attention_mask to device\n",
            "after NSL to device\n",
            "after labels to device\n"
          ]
        },
        {
          "output_type": "stream",
          "name": "stderr",
          "text": [
            "Epoch 0:   1%|          | 1/125 [01:08<2:21:51, 68.64s/it, loss=29.7]"
          ]
        },
        {
          "output_type": "stream",
          "name": "stdout",
          "text": [
            "batch\n",
            "after input to device\n",
            "after token_type_ids to device\n",
            "after attention_mask to device\n",
            "after NSL to device\n",
            "after labels to device\n"
          ]
        },
        {
          "output_type": "stream",
          "name": "stderr",
          "text": [
            "Epoch 0:   2%|▏         | 2/125 [02:11<2:13:22, 65.06s/it, loss=22.3]"
          ]
        },
        {
          "output_type": "stream",
          "name": "stdout",
          "text": [
            "batch\n",
            "after input to device\n",
            "after token_type_ids to device\n",
            "after attention_mask to device\n",
            "after NSL to device\n",
            "after labels to device\n"
          ]
        },
        {
          "output_type": "stream",
          "name": "stderr",
          "text": [
            "Epoch 0:   2%|▏         | 3/125 [03:10<2:06:53, 62.41s/it, loss=19.6]"
          ]
        },
        {
          "output_type": "stream",
          "name": "stdout",
          "text": [
            "batch\n",
            "after input to device\n",
            "after token_type_ids to device\n",
            "after attention_mask to device\n",
            "after NSL to device\n",
            "after labels to device\n"
          ]
        },
        {
          "output_type": "stream",
          "name": "stderr",
          "text": [
            "Epoch 0:   3%|▎         | 4/125 [04:08<2:02:35, 60.79s/it, loss=15.8]"
          ]
        },
        {
          "output_type": "stream",
          "name": "stdout",
          "text": [
            "batch\n",
            "after input to device\n",
            "after token_type_ids to device\n",
            "after attention_mask to device\n",
            "after NSL to device\n",
            "after labels to device\n"
          ]
        },
        {
          "output_type": "stream",
          "name": "stderr",
          "text": [
            "Epoch 0:   4%|▍         | 5/125 [05:05<1:58:57, 59.48s/it, loss=11.5]"
          ]
        },
        {
          "output_type": "stream",
          "name": "stdout",
          "text": [
            "batch\n",
            "after input to device\n",
            "after token_type_ids to device\n",
            "after attention_mask to device\n",
            "after NSL to device\n",
            "after labels to device\n"
          ]
        },
        {
          "output_type": "stream",
          "name": "stderr",
          "text": [
            "Epoch 0:   5%|▍         | 6/125 [06:03<1:56:28, 58.72s/it, loss=10.6]"
          ]
        },
        {
          "output_type": "stream",
          "name": "stdout",
          "text": [
            "batch\n",
            "after input to device\n",
            "after token_type_ids to device\n",
            "after attention_mask to device\n",
            "after NSL to device\n",
            "after labels to device\n"
          ]
        },
        {
          "output_type": "stream",
          "name": "stderr",
          "text": [
            "Epoch 0:   6%|▌         | 7/125 [07:00<1:54:31, 58.23s/it, loss=10.1]"
          ]
        },
        {
          "output_type": "stream",
          "name": "stdout",
          "text": [
            "batch\n",
            "after input to device\n",
            "after token_type_ids to device\n",
            "after attention_mask to device\n",
            "after NSL to device\n",
            "after labels to device\n"
          ]
        },
        {
          "output_type": "stream",
          "name": "stderr",
          "text": [
            "Epoch 0:   6%|▋         | 8/125 [07:57<1:53:00, 57.95s/it, loss=8.72]"
          ]
        },
        {
          "output_type": "stream",
          "name": "stdout",
          "text": [
            "batch\n",
            "after input to device\n",
            "after token_type_ids to device\n",
            "after attention_mask to device\n",
            "after NSL to device\n",
            "after labels to device\n"
          ]
        },
        {
          "output_type": "stream",
          "name": "stderr",
          "text": [
            "Epoch 0:   7%|▋         | 9/125 [08:54<1:51:31, 57.68s/it, loss=8.61]"
          ]
        },
        {
          "output_type": "stream",
          "name": "stdout",
          "text": [
            "batch\n",
            "after input to device\n",
            "after token_type_ids to device\n",
            "after attention_mask to device\n",
            "after NSL to device\n",
            "after labels to device\n"
          ]
        },
        {
          "output_type": "stream",
          "name": "stderr",
          "text": [
            "Epoch 0:   8%|▊         | 10/125 [09:51<1:50:08, 57.46s/it, loss=9.22]"
          ]
        },
        {
          "output_type": "stream",
          "name": "stdout",
          "text": [
            "batch\n",
            "after input to device\n",
            "after token_type_ids to device\n",
            "after attention_mask to device\n",
            "after NSL to device\n",
            "after labels to device\n"
          ]
        },
        {
          "output_type": "stream",
          "name": "stderr",
          "text": [
            "Epoch 0:   9%|▉         | 11/125 [10:48<1:48:51, 57.29s/it, loss=8.02]"
          ]
        },
        {
          "output_type": "stream",
          "name": "stdout",
          "text": [
            "batch\n",
            "after input to device\n",
            "after token_type_ids to device\n",
            "after attention_mask to device\n",
            "after NSL to device\n",
            "after labels to device\n"
          ]
        },
        {
          "output_type": "stream",
          "name": "stderr",
          "text": [
            "Epoch 0:  10%|▉         | 12/125 [11:51<1:50:47, 58.83s/it, loss=7.05]"
          ]
        },
        {
          "output_type": "stream",
          "name": "stdout",
          "text": [
            "batch\n",
            "after input to device\n",
            "after token_type_ids to device\n",
            "after attention_mask to device\n",
            "after NSL to device\n",
            "after labels to device\n"
          ]
        },
        {
          "output_type": "stream",
          "name": "stderr",
          "text": [
            "Epoch 0:  10%|█         | 13/125 [12:52<1:51:21, 59.65s/it, loss=6.94]"
          ]
        },
        {
          "output_type": "stream",
          "name": "stdout",
          "text": [
            "batch\n",
            "after input to device\n",
            "after token_type_ids to device\n",
            "after attention_mask to device\n",
            "after NSL to device\n",
            "after labels to device\n"
          ]
        },
        {
          "output_type": "stream",
          "name": "stderr",
          "text": [
            "Epoch 0:  11%|█         | 14/125 [13:50<1:49:37, 59.25s/it, loss=6.63]"
          ]
        },
        {
          "output_type": "stream",
          "name": "stdout",
          "text": [
            "batch\n",
            "after input to device\n",
            "after token_type_ids to device\n",
            "after attention_mask to device\n",
            "after NSL to device\n",
            "after labels to device\n"
          ]
        },
        {
          "output_type": "stream",
          "name": "stderr",
          "text": [
            "Epoch 0:  12%|█▏        | 15/125 [14:48<1:47:39, 58.72s/it, loss=6.41]"
          ]
        },
        {
          "output_type": "stream",
          "name": "stdout",
          "text": [
            "batch\n",
            "after input to device\n",
            "after token_type_ids to device\n",
            "after attention_mask to device\n",
            "after NSL to device\n",
            "after labels to device\n"
          ]
        },
        {
          "output_type": "stream",
          "name": "stderr",
          "text": [
            "Epoch 0:  13%|█▎        | 16/125 [15:45<1:45:54, 58.29s/it, loss=5.91]"
          ]
        },
        {
          "output_type": "stream",
          "name": "stdout",
          "text": [
            "batch\n",
            "after input to device\n",
            "after token_type_ids to device\n",
            "after attention_mask to device\n",
            "after NSL to device\n",
            "after labels to device\n"
          ]
        },
        {
          "output_type": "stream",
          "name": "stderr",
          "text": [
            "Epoch 0:  14%|█▎        | 17/125 [16:43<1:44:36, 58.12s/it, loss=6.19]"
          ]
        },
        {
          "output_type": "stream",
          "name": "stdout",
          "text": [
            "batch\n",
            "after input to device\n",
            "after token_type_ids to device\n",
            "after attention_mask to device\n",
            "after NSL to device\n",
            "after labels to device\n"
          ]
        },
        {
          "output_type": "stream",
          "name": "stderr",
          "text": [
            "Epoch 0:  14%|█▍        | 18/125 [17:43<1:44:29, 58.59s/it, loss=5.37]"
          ]
        },
        {
          "output_type": "stream",
          "name": "stdout",
          "text": [
            "batch\n",
            "after input to device\n",
            "after token_type_ids to device\n",
            "after attention_mask to device\n",
            "after NSL to device\n",
            "after labels to device\n"
          ]
        },
        {
          "output_type": "stream",
          "name": "stderr",
          "text": [
            "Epoch 0:  15%|█▌        | 19/125 [18:41<1:43:27, 58.56s/it, loss=5]"
          ]
        },
        {
          "output_type": "stream",
          "name": "stdout",
          "text": [
            "batch\n",
            "after input to device\n",
            "after token_type_ids to device\n",
            "after attention_mask to device\n",
            "after NSL to device\n",
            "after labels to device\n"
          ]
        },
        {
          "output_type": "stream",
          "name": "stderr",
          "text": [
            "Epoch 0:  16%|█▌        | 20/125 [19:40<1:42:28, 58.55s/it, loss=4.62]"
          ]
        },
        {
          "output_type": "stream",
          "name": "stdout",
          "text": [
            "batch\n",
            "after input to device\n",
            "after token_type_ids to device\n",
            "after attention_mask to device\n",
            "after NSL to device\n",
            "after labels to device\n"
          ]
        },
        {
          "output_type": "stream",
          "name": "stderr",
          "text": [
            "Epoch 0:  17%|█▋        | 21/125 [20:40<1:42:37, 59.20s/it, loss=4.29]"
          ]
        },
        {
          "output_type": "stream",
          "name": "stdout",
          "text": [
            "batch\n",
            "after input to device\n",
            "after token_type_ids to device\n",
            "after attention_mask to device\n",
            "after NSL to device\n",
            "after labels to device\n"
          ]
        },
        {
          "output_type": "stream",
          "name": "stderr",
          "text": [
            "Epoch 0:  18%|█▊        | 22/125 [21:38<1:40:44, 58.68s/it, loss=3.6]"
          ]
        },
        {
          "output_type": "stream",
          "name": "stdout",
          "text": [
            "batch\n",
            "after input to device\n",
            "after token_type_ids to device\n",
            "after attention_mask to device\n",
            "after NSL to device\n",
            "after labels to device\n"
          ]
        },
        {
          "output_type": "stream",
          "name": "stderr",
          "text": [
            "Epoch 0:  18%|█▊        | 23/125 [22:45<1:44:10, 61.28s/it, loss=3.21]"
          ]
        },
        {
          "output_type": "stream",
          "name": "stdout",
          "text": [
            "batch\n",
            "after input to device\n",
            "after token_type_ids to device\n",
            "after attention_mask to device\n",
            "after NSL to device\n",
            "after labels to device\n"
          ]
        },
        {
          "output_type": "stream",
          "name": "stderr",
          "text": [
            "Epoch 0:  19%|█▉        | 24/125 [23:43<1:41:16, 60.17s/it, loss=2.76]"
          ]
        },
        {
          "output_type": "stream",
          "name": "stdout",
          "text": [
            "batch\n",
            "after input to device\n",
            "after token_type_ids to device\n",
            "after attention_mask to device\n",
            "after NSL to device\n",
            "after labels to device\n"
          ]
        },
        {
          "output_type": "stream",
          "name": "stderr",
          "text": [
            "Epoch 0:  20%|██        | 25/125 [24:43<1:40:30, 60.30s/it, loss=2.5]"
          ]
        },
        {
          "output_type": "stream",
          "name": "stdout",
          "text": [
            "batch\n",
            "after input to device\n",
            "after token_type_ids to device\n",
            "after attention_mask to device\n",
            "after NSL to device\n",
            "after labels to device\n"
          ]
        },
        {
          "output_type": "stream",
          "name": "stderr",
          "text": [
            "Epoch 0:  21%|██        | 26/125 [25:42<1:38:52, 59.92s/it, loss=2.19]"
          ]
        },
        {
          "output_type": "stream",
          "name": "stdout",
          "text": [
            "batch\n",
            "after input to device\n",
            "after token_type_ids to device\n",
            "after attention_mask to device\n",
            "after NSL to device\n",
            "after labels to device\n"
          ]
        },
        {
          "output_type": "stream",
          "name": "stderr",
          "text": [
            "Epoch 0:  22%|██▏       | 27/125 [26:39<1:36:07, 58.85s/it, loss=2.27]"
          ]
        },
        {
          "output_type": "stream",
          "name": "stdout",
          "text": [
            "batch\n",
            "after input to device\n",
            "after token_type_ids to device\n",
            "after attention_mask to device\n",
            "after NSL to device\n",
            "after labels to device\n"
          ]
        },
        {
          "output_type": "stream",
          "name": "stderr",
          "text": [
            "Epoch 0:  22%|██▏       | 28/125 [27:36<1:34:10, 58.25s/it, loss=1.85]"
          ]
        },
        {
          "output_type": "stream",
          "name": "stdout",
          "text": [
            "batch\n",
            "after input to device\n",
            "after token_type_ids to device\n",
            "after attention_mask to device\n",
            "after NSL to device\n",
            "after labels to device\n"
          ]
        },
        {
          "output_type": "stream",
          "name": "stderr",
          "text": [
            "Epoch 0:  23%|██▎       | 29/125 [28:33<1:32:49, 58.02s/it, loss=1.77]"
          ]
        },
        {
          "output_type": "stream",
          "name": "stdout",
          "text": [
            "batch\n",
            "after input to device\n",
            "after token_type_ids to device\n",
            "after attention_mask to device\n",
            "after NSL to device\n",
            "after labels to device\n"
          ]
        },
        {
          "output_type": "stream",
          "name": "stderr",
          "text": [
            "Epoch 0:  24%|██▍       | 30/125 [29:32<1:32:12, 58.24s/it, loss=1.61]"
          ]
        },
        {
          "output_type": "stream",
          "name": "stdout",
          "text": [
            "batch\n",
            "after input to device\n",
            "after token_type_ids to device\n",
            "after attention_mask to device\n",
            "after NSL to device\n",
            "after labels to device\n"
          ]
        },
        {
          "output_type": "stream",
          "name": "stderr",
          "text": [
            "Epoch 0:  25%|██▍       | 31/125 [30:29<1:30:49, 57.97s/it, loss=1.76]"
          ]
        },
        {
          "output_type": "stream",
          "name": "stdout",
          "text": [
            "batch\n",
            "after input to device\n",
            "after token_type_ids to device\n",
            "after attention_mask to device\n",
            "after NSL to device\n",
            "after labels to device\n"
          ]
        },
        {
          "output_type": "stream",
          "name": "stderr",
          "text": [
            "Epoch 0:  26%|██▌       | 32/125 [31:26<1:29:27, 57.71s/it, loss=1.76]"
          ]
        },
        {
          "output_type": "stream",
          "name": "stdout",
          "text": [
            "batch\n",
            "after input to device\n",
            "after token_type_ids to device\n",
            "after attention_mask to device\n",
            "after NSL to device\n",
            "after labels to device\n"
          ]
        },
        {
          "output_type": "stream",
          "name": "stderr",
          "text": [
            "Epoch 0:  26%|██▋       | 33/125 [32:23<1:27:55, 57.35s/it, loss=1.4]"
          ]
        },
        {
          "output_type": "stream",
          "name": "stdout",
          "text": [
            "batch\n",
            "after input to device\n",
            "after token_type_ids to device\n",
            "after attention_mask to device\n",
            "after NSL to device\n",
            "after labels to device\n"
          ]
        },
        {
          "output_type": "stream",
          "name": "stderr",
          "text": [
            "Epoch 0:  27%|██▋       | 34/125 [33:20<1:26:46, 57.22s/it, loss=1.35]"
          ]
        },
        {
          "output_type": "stream",
          "name": "stdout",
          "text": [
            "batch\n",
            "after input to device\n",
            "after token_type_ids to device\n",
            "after attention_mask to device\n",
            "after NSL to device\n",
            "after labels to device\n"
          ]
        },
        {
          "output_type": "stream",
          "name": "stderr",
          "text": [
            "Epoch 0:  28%|██▊       | 35/125 [34:16<1:25:30, 57.00s/it, loss=1.25]"
          ]
        },
        {
          "output_type": "stream",
          "name": "stdout",
          "text": [
            "batch\n",
            "after input to device\n",
            "after token_type_ids to device\n",
            "after attention_mask to device\n",
            "after NSL to device\n",
            "after labels to device\n"
          ]
        },
        {
          "output_type": "stream",
          "name": "stderr",
          "text": [
            "Epoch 0:  29%|██▉       | 36/125 [35:22<1:28:16, 59.51s/it, loss=1.23]"
          ]
        },
        {
          "output_type": "stream",
          "name": "stdout",
          "text": [
            "batch\n",
            "after input to device\n",
            "after token_type_ids to device\n",
            "after attention_mask to device\n",
            "after NSL to device\n",
            "after labels to device\n"
          ]
        },
        {
          "output_type": "stream",
          "name": "stderr",
          "text": [
            "Epoch 0:  30%|██▉       | 37/125 [36:18<1:25:55, 58.59s/it, loss=1.07]"
          ]
        },
        {
          "output_type": "stream",
          "name": "stdout",
          "text": [
            "batch\n",
            "after input to device\n",
            "after token_type_ids to device\n",
            "after attention_mask to device\n",
            "after NSL to device\n",
            "after labels to device\n"
          ]
        },
        {
          "output_type": "stream",
          "name": "stderr",
          "text": [
            "Epoch 0:  30%|███       | 38/125 [37:15<1:24:11, 58.06s/it, loss=1.13]"
          ]
        },
        {
          "output_type": "stream",
          "name": "stdout",
          "text": [
            "batch\n",
            "after input to device\n",
            "after token_type_ids to device\n",
            "after attention_mask to device\n",
            "after NSL to device\n",
            "after labels to device\n"
          ]
        },
        {
          "output_type": "stream",
          "name": "stderr",
          "text": [
            "Epoch 0:  31%|███       | 39/125 [38:14<1:23:45, 58.43s/it, loss=1.06]"
          ]
        },
        {
          "output_type": "stream",
          "name": "stdout",
          "text": [
            "batch\n",
            "after input to device\n",
            "after token_type_ids to device\n",
            "after attention_mask to device\n",
            "after NSL to device\n",
            "after labels to device\n"
          ]
        },
        {
          "output_type": "stream",
          "name": "stderr",
          "text": [
            "Epoch 0:  32%|███▏      | 40/125 [39:14<1:23:16, 58.78s/it, loss=1.04]"
          ]
        },
        {
          "output_type": "stream",
          "name": "stdout",
          "text": [
            "batch\n",
            "after input to device\n",
            "after token_type_ids to device\n",
            "after attention_mask to device\n",
            "after NSL to device\n",
            "after labels to device\n"
          ]
        },
        {
          "output_type": "stream",
          "name": "stderr",
          "text": [
            "Epoch 0:  33%|███▎      | 41/125 [40:11<1:21:39, 58.33s/it, loss=0.911]"
          ]
        },
        {
          "output_type": "stream",
          "name": "stdout",
          "text": [
            "batch\n",
            "after input to device\n",
            "after token_type_ids to device\n",
            "after attention_mask to device\n",
            "after NSL to device\n",
            "after labels to device\n"
          ]
        },
        {
          "output_type": "stream",
          "name": "stderr",
          "text": [
            "Epoch 0:  34%|███▎      | 42/125 [41:11<1:21:32, 58.95s/it, loss=0.86]"
          ]
        },
        {
          "output_type": "stream",
          "name": "stdout",
          "text": [
            "batch\n",
            "after input to device\n",
            "after token_type_ids to device\n",
            "after attention_mask to device\n",
            "after NSL to device\n",
            "after labels to device\n"
          ]
        },
        {
          "output_type": "stream",
          "name": "stderr",
          "text": [
            "Epoch 0:  34%|███▍      | 43/125 [42:10<1:20:23, 58.82s/it, loss=1.23]"
          ]
        },
        {
          "output_type": "stream",
          "name": "stdout",
          "text": [
            "batch\n",
            "after input to device\n",
            "after token_type_ids to device\n",
            "after attention_mask to device\n",
            "after NSL to device\n",
            "after labels to device\n"
          ]
        },
        {
          "output_type": "stream",
          "name": "stderr",
          "text": [
            "Epoch 0:  35%|███▌      | 44/125 [43:08<1:18:58, 58.49s/it, loss=0.888]"
          ]
        },
        {
          "output_type": "stream",
          "name": "stdout",
          "text": [
            "batch\n",
            "after input to device\n",
            "after token_type_ids to device\n",
            "after attention_mask to device\n",
            "after NSL to device\n",
            "after labels to device\n"
          ]
        },
        {
          "output_type": "stream",
          "name": "stderr",
          "text": [
            "Epoch 0:  36%|███▌      | 45/125 [44:05<1:17:24, 58.06s/it, loss=1.36]"
          ]
        },
        {
          "output_type": "stream",
          "name": "stdout",
          "text": [
            "batch\n",
            "after input to device\n",
            "after token_type_ids to device\n",
            "after attention_mask to device\n",
            "after NSL to device\n",
            "after labels to device\n"
          ]
        },
        {
          "output_type": "stream",
          "name": "stderr",
          "text": [
            "Epoch 0:  37%|███▋      | 46/125 [45:09<1:18:55, 59.94s/it, loss=1]"
          ]
        },
        {
          "output_type": "stream",
          "name": "stdout",
          "text": [
            "batch\n",
            "after input to device\n",
            "after token_type_ids to device\n",
            "after attention_mask to device\n",
            "after NSL to device\n",
            "after labels to device\n"
          ]
        },
        {
          "output_type": "stream",
          "name": "stderr",
          "text": [
            "Epoch 0:  38%|███▊      | 47/125 [46:10<1:18:09, 60.13s/it, loss=1.1]"
          ]
        },
        {
          "output_type": "stream",
          "name": "stdout",
          "text": [
            "batch\n",
            "after input to device\n",
            "after token_type_ids to device\n",
            "after attention_mask to device\n",
            "after NSL to device\n",
            "after labels to device\n"
          ]
        },
        {
          "output_type": "stream",
          "name": "stderr",
          "text": [
            "Epoch 0:  38%|███▊      | 48/125 [47:06<1:15:47, 59.05s/it, loss=0.898]"
          ]
        },
        {
          "output_type": "stream",
          "name": "stdout",
          "text": [
            "batch\n",
            "after input to device\n",
            "after token_type_ids to device\n",
            "after attention_mask to device\n",
            "after NSL to device\n",
            "after labels to device\n"
          ]
        },
        {
          "output_type": "stream",
          "name": "stderr",
          "text": [
            "Epoch 0:  39%|███▉      | 49/125 [48:04<1:14:29, 58.81s/it, loss=0.83]"
          ]
        },
        {
          "output_type": "stream",
          "name": "stdout",
          "text": [
            "batch\n",
            "after input to device\n",
            "after token_type_ids to device\n",
            "after attention_mask to device\n",
            "after NSL to device\n",
            "after labels to device\n"
          ]
        },
        {
          "output_type": "stream",
          "name": "stderr",
          "text": [
            "Epoch 0:  40%|████      | 50/125 [49:04<1:13:39, 58.92s/it, loss=0.819]"
          ]
        },
        {
          "output_type": "stream",
          "name": "stdout",
          "text": [
            "batch\n",
            "after input to device\n",
            "after token_type_ids to device\n",
            "after attention_mask to device\n",
            "after NSL to device\n",
            "after labels to device\n"
          ]
        },
        {
          "output_type": "stream",
          "name": "stderr",
          "text": [
            "Epoch 0:  41%|████      | 51/125 [50:02<1:12:23, 58.70s/it, loss=0.865]"
          ]
        },
        {
          "output_type": "stream",
          "name": "stdout",
          "text": [
            "batch\n",
            "after input to device\n",
            "after token_type_ids to device\n",
            "after attention_mask to device\n",
            "after NSL to device\n",
            "after labels to device\n"
          ]
        },
        {
          "output_type": "stream",
          "name": "stderr",
          "text": [
            "Epoch 0:  42%|████▏     | 52/125 [51:00<1:11:06, 58.44s/it, loss=1.11]"
          ]
        },
        {
          "output_type": "stream",
          "name": "stdout",
          "text": [
            "batch\n",
            "after input to device\n",
            "after token_type_ids to device\n",
            "after attention_mask to device\n",
            "after NSL to device\n",
            "after labels to device\n"
          ]
        },
        {
          "output_type": "stream",
          "name": "stderr",
          "text": [
            "Epoch 0:  42%|████▏     | 53/125 [51:57<1:09:55, 58.27s/it, loss=0.92]"
          ]
        },
        {
          "output_type": "stream",
          "name": "stdout",
          "text": [
            "batch\n",
            "after input to device\n",
            "after token_type_ids to device\n",
            "after attention_mask to device\n",
            "after NSL to device\n",
            "after labels to device\n"
          ]
        },
        {
          "output_type": "stream",
          "name": "stderr",
          "text": [
            "Epoch 0:  43%|████▎     | 54/125 [52:55<1:08:47, 58.13s/it, loss=0.889]"
          ]
        },
        {
          "output_type": "stream",
          "name": "stdout",
          "text": [
            "batch\n",
            "after input to device\n",
            "after token_type_ids to device\n",
            "after attention_mask to device\n",
            "after NSL to device\n",
            "after labels to device\n"
          ]
        },
        {
          "output_type": "stream",
          "name": "stderr",
          "text": [
            "Epoch 0:  44%|████▍     | 55/125 [53:52<1:07:26, 57.81s/it, loss=0.96]"
          ]
        },
        {
          "output_type": "stream",
          "name": "stdout",
          "text": [
            "batch\n",
            "after input to device\n",
            "after token_type_ids to device\n",
            "after attention_mask to device\n",
            "after NSL to device\n",
            "after labels to device\n"
          ]
        },
        {
          "output_type": "stream",
          "name": "stderr",
          "text": [
            "Epoch 0:  45%|████▍     | 56/125 [54:54<1:07:43, 58.89s/it, loss=0.824]"
          ]
        },
        {
          "output_type": "stream",
          "name": "stdout",
          "text": [
            "batch\n",
            "after input to device\n",
            "after token_type_ids to device\n",
            "after attention_mask to device\n",
            "after NSL to device\n",
            "after labels to device\n"
          ]
        },
        {
          "output_type": "stream",
          "name": "stderr",
          "text": [
            "Epoch 0:  46%|████▌     | 57/125 [55:54<1:07:18, 59.39s/it, loss=0.793]"
          ]
        },
        {
          "output_type": "stream",
          "name": "stdout",
          "text": [
            "batch\n",
            "after input to device\n",
            "after token_type_ids to device\n",
            "after attention_mask to device\n",
            "after NSL to device\n",
            "after labels to device\n"
          ]
        },
        {
          "output_type": "stream",
          "name": "stderr",
          "text": [
            "Epoch 0:  46%|████▋     | 58/125 [56:51<1:05:21, 58.53s/it, loss=0.769]"
          ]
        },
        {
          "output_type": "stream",
          "name": "stdout",
          "text": [
            "batch\n",
            "after input to device\n",
            "after token_type_ids to device\n",
            "after attention_mask to device\n",
            "after NSL to device\n",
            "after labels to device\n"
          ]
        },
        {
          "output_type": "stream",
          "name": "stderr",
          "text": [
            "Epoch 0:  47%|████▋     | 59/125 [57:48<1:03:53, 58.08s/it, loss=0.89]"
          ]
        },
        {
          "output_type": "stream",
          "name": "stdout",
          "text": [
            "batch\n",
            "after input to device\n",
            "after token_type_ids to device\n",
            "after attention_mask to device\n",
            "after NSL to device\n",
            "after labels to device\n"
          ]
        },
        {
          "output_type": "stream",
          "name": "stderr",
          "text": [
            "Epoch 0:  48%|████▊     | 60/125 [58:49<1:03:59, 59.07s/it, loss=1.1]"
          ]
        },
        {
          "output_type": "stream",
          "name": "stdout",
          "text": [
            "batch\n",
            "after input to device\n",
            "after token_type_ids to device\n",
            "after attention_mask to device\n",
            "after NSL to device\n",
            "after labels to device\n"
          ]
        },
        {
          "output_type": "stream",
          "name": "stderr",
          "text": [
            "Epoch 0:  49%|████▉     | 61/125 [59:48<1:03:04, 59.13s/it, loss=0.722]"
          ]
        },
        {
          "output_type": "stream",
          "name": "stdout",
          "text": [
            "batch\n",
            "after input to device\n",
            "after token_type_ids to device\n",
            "after attention_mask to device\n",
            "after NSL to device\n",
            "after labels to device\n"
          ]
        },
        {
          "output_type": "stream",
          "name": "stderr",
          "text": [
            "Epoch 0:  50%|████▉     | 62/125 [1:00:46<1:01:34, 58.64s/it, loss=0.87]"
          ]
        },
        {
          "output_type": "stream",
          "name": "stdout",
          "text": [
            "batch\n",
            "after input to device\n",
            "after token_type_ids to device\n",
            "after attention_mask to device\n",
            "after NSL to device\n",
            "after labels to device\n"
          ]
        },
        {
          "output_type": "stream",
          "name": "stderr",
          "text": [
            "Epoch 0:  50%|█████     | 63/125 [1:01:45<1:00:48, 58.84s/it, loss=0.816]"
          ]
        },
        {
          "output_type": "stream",
          "name": "stdout",
          "text": [
            "batch\n",
            "after input to device\n",
            "after token_type_ids to device\n",
            "after attention_mask to device\n",
            "after NSL to device\n",
            "after labels to device\n"
          ]
        },
        {
          "output_type": "stream",
          "name": "stderr",
          "text": [
            "Epoch 0:  51%|█████     | 64/125 [1:02:44<59:45, 58.78s/it, loss=0.818]  "
          ]
        },
        {
          "output_type": "stream",
          "name": "stdout",
          "text": [
            "batch\n",
            "after input to device\n",
            "after token_type_ids to device\n",
            "after attention_mask to device\n",
            "after NSL to device\n",
            "after labels to device\n"
          ]
        },
        {
          "output_type": "stream",
          "name": "stderr",
          "text": [
            "Epoch 0:  52%|█████▏    | 65/125 [1:03:41<58:17, 58.29s/it, loss=0.806]"
          ]
        },
        {
          "output_type": "stream",
          "name": "stdout",
          "text": [
            "batch\n",
            "after input to device\n",
            "after token_type_ids to device\n",
            "after attention_mask to device\n",
            "after NSL to device\n",
            "after labels to device\n"
          ]
        },
        {
          "output_type": "stream",
          "name": "stderr",
          "text": [
            "Epoch 0:  53%|█████▎    | 66/125 [1:04:40<57:31, 58.49s/it, loss=0.792]"
          ]
        },
        {
          "output_type": "stream",
          "name": "stdout",
          "text": [
            "batch\n",
            "after input to device\n",
            "after token_type_ids to device\n",
            "after attention_mask to device\n",
            "after NSL to device\n",
            "after labels to device\n"
          ]
        },
        {
          "output_type": "stream",
          "name": "stderr",
          "text": [
            "Epoch 0:  54%|█████▎    | 67/125 [1:05:39<56:35, 58.54s/it, loss=0.69]"
          ]
        },
        {
          "output_type": "stream",
          "name": "stdout",
          "text": [
            "batch\n",
            "after input to device\n",
            "after token_type_ids to device\n",
            "after attention_mask to device\n",
            "after NSL to device\n",
            "after labels to device\n"
          ]
        },
        {
          "output_type": "stream",
          "name": "stderr",
          "text": [
            "Epoch 0:  54%|█████▍    | 68/125 [1:06:37<55:30, 58.43s/it, loss=0.88]"
          ]
        },
        {
          "output_type": "stream",
          "name": "stdout",
          "text": [
            "batch\n",
            "after input to device\n",
            "after token_type_ids to device\n",
            "after attention_mask to device\n",
            "after NSL to device\n",
            "after labels to device\n"
          ]
        },
        {
          "output_type": "stream",
          "name": "stderr",
          "text": [
            "Epoch 0:  55%|█████▌    | 69/125 [1:07:34<54:12, 58.08s/it, loss=0.944]"
          ]
        },
        {
          "output_type": "stream",
          "name": "stdout",
          "text": [
            "batch\n",
            "after input to device\n",
            "after token_type_ids to device\n",
            "after attention_mask to device\n",
            "after NSL to device\n",
            "after labels to device\n"
          ]
        },
        {
          "output_type": "stream",
          "name": "stderr",
          "text": [
            "Epoch 0:  56%|█████▌    | 70/125 [1:08:38<54:42, 59.69s/it, loss=0.831]"
          ]
        },
        {
          "output_type": "stream",
          "name": "stdout",
          "text": [
            "batch\n",
            "after input to device\n",
            "after token_type_ids to device\n",
            "after attention_mask to device\n",
            "after NSL to device\n",
            "after labels to device\n"
          ]
        },
        {
          "output_type": "stream",
          "name": "stderr",
          "text": [
            "Epoch 0:  57%|█████▋    | 71/125 [1:09:39<54:06, 60.11s/it, loss=0.673]"
          ]
        },
        {
          "output_type": "stream",
          "name": "stdout",
          "text": [
            "batch\n",
            "after input to device\n",
            "after token_type_ids to device\n",
            "after attention_mask to device\n",
            "after NSL to device\n",
            "after labels to device\n"
          ]
        },
        {
          "output_type": "stream",
          "name": "stderr",
          "text": [
            "Epoch 0:  58%|█████▊    | 72/125 [1:10:35<52:13, 59.13s/it, loss=0.9]"
          ]
        },
        {
          "output_type": "stream",
          "name": "stdout",
          "text": [
            "batch\n",
            "after input to device\n",
            "after token_type_ids to device\n",
            "after attention_mask to device\n",
            "after NSL to device\n",
            "after labels to device\n"
          ]
        },
        {
          "output_type": "stream",
          "name": "stderr",
          "text": [
            "Epoch 0:  58%|█████▊    | 73/125 [1:11:35<51:21, 59.27s/it, loss=0.948]"
          ]
        },
        {
          "output_type": "stream",
          "name": "stdout",
          "text": [
            "batch\n",
            "after input to device\n",
            "after token_type_ids to device\n",
            "after attention_mask to device\n",
            "after NSL to device\n",
            "after labels to device\n"
          ]
        },
        {
          "output_type": "stream",
          "name": "stderr",
          "text": [
            "Epoch 0:  59%|█████▉    | 74/125 [1:12:34<50:12, 59.07s/it, loss=0.736]"
          ]
        },
        {
          "output_type": "stream",
          "name": "stdout",
          "text": [
            "batch\n",
            "after input to device\n",
            "after token_type_ids to device\n",
            "after attention_mask to device\n",
            "after NSL to device\n",
            "after labels to device\n"
          ]
        },
        {
          "output_type": "stream",
          "name": "stderr",
          "text": [
            "Epoch 0:  60%|██████    | 75/125 [1:13:33<49:12, 59.06s/it, loss=0.817]"
          ]
        },
        {
          "output_type": "stream",
          "name": "stdout",
          "text": [
            "batch\n",
            "after input to device\n",
            "after token_type_ids to device\n",
            "after attention_mask to device\n",
            "after NSL to device\n",
            "after labels to device\n"
          ]
        },
        {
          "output_type": "stream",
          "name": "stderr",
          "text": [
            "Epoch 0:  61%|██████    | 76/125 [1:14:31<47:58, 58.74s/it, loss=1.03]"
          ]
        },
        {
          "output_type": "stream",
          "name": "stdout",
          "text": [
            "batch\n",
            "after input to device\n",
            "after token_type_ids to device\n",
            "after attention_mask to device\n",
            "after NSL to device\n",
            "after labels to device\n"
          ]
        },
        {
          "output_type": "stream",
          "name": "stderr",
          "text": [
            "Epoch 0:  62%|██████▏   | 77/125 [1:15:28<46:35, 58.25s/it, loss=0.772]"
          ]
        },
        {
          "output_type": "stream",
          "name": "stdout",
          "text": [
            "batch\n",
            "after input to device\n",
            "after token_type_ids to device\n",
            "after attention_mask to device\n",
            "after NSL to device\n",
            "after labels to device\n"
          ]
        },
        {
          "output_type": "stream",
          "name": "stderr",
          "text": [
            "Epoch 0:  62%|██████▏   | 78/125 [1:16:24<45:13, 57.74s/it, loss=0.737]"
          ]
        },
        {
          "output_type": "stream",
          "name": "stdout",
          "text": [
            "batch\n",
            "after input to device\n",
            "after token_type_ids to device\n",
            "after attention_mask to device\n",
            "after NSL to device\n",
            "after labels to device\n"
          ]
        },
        {
          "output_type": "stream",
          "name": "stderr",
          "text": [
            "Epoch 0:  63%|██████▎   | 79/125 [1:17:26<45:09, 58.90s/it, loss=0.698]"
          ]
        },
        {
          "output_type": "stream",
          "name": "stdout",
          "text": [
            "batch\n",
            "after input to device\n",
            "after token_type_ids to device\n",
            "after attention_mask to device\n",
            "after NSL to device\n",
            "after labels to device\n"
          ]
        },
        {
          "output_type": "stream",
          "name": "stderr",
          "text": [
            "Epoch 0:  64%|██████▍   | 80/125 [1:18:23<43:50, 58.46s/it, loss=0.921]"
          ]
        },
        {
          "output_type": "stream",
          "name": "stdout",
          "text": [
            "batch\n",
            "after input to device\n",
            "after token_type_ids to device\n",
            "after attention_mask to device\n",
            "after NSL to device\n",
            "after labels to device\n"
          ]
        },
        {
          "output_type": "stream",
          "name": "stderr",
          "text": [
            "Epoch 0:  65%|██████▍   | 81/125 [1:19:32<45:07, 61.54s/it, loss=0.818]"
          ]
        },
        {
          "output_type": "stream",
          "name": "stdout",
          "text": [
            "batch\n",
            "after input to device\n",
            "after token_type_ids to device\n",
            "after attention_mask to device\n",
            "after NSL to device\n",
            "after labels to device\n"
          ]
        },
        {
          "output_type": "stream",
          "name": "stderr",
          "text": [
            "Epoch 0:  66%|██████▌   | 82/125 [1:20:32<43:38, 60.91s/it, loss=0.583]"
          ]
        },
        {
          "output_type": "stream",
          "name": "stdout",
          "text": [
            "batch\n",
            "after input to device\n",
            "after token_type_ids to device\n",
            "after attention_mask to device\n",
            "after NSL to device\n",
            "after labels to device\n"
          ]
        },
        {
          "output_type": "stream",
          "name": "stderr",
          "text": [
            "Epoch 0:  66%|██████▋   | 83/125 [1:21:31<42:16, 60.40s/it, loss=0.877]"
          ]
        },
        {
          "output_type": "stream",
          "name": "stdout",
          "text": [
            "batch\n",
            "after input to device\n",
            "after token_type_ids to device\n",
            "after attention_mask to device\n",
            "after NSL to device\n",
            "after labels to device\n"
          ]
        },
        {
          "output_type": "stream",
          "name": "stderr",
          "text": [
            "Epoch 0:  67%|██████▋   | 84/125 [1:22:30<40:57, 59.95s/it, loss=0.794]"
          ]
        },
        {
          "output_type": "stream",
          "name": "stdout",
          "text": [
            "batch\n",
            "after input to device\n",
            "after token_type_ids to device\n",
            "after attention_mask to device\n",
            "after NSL to device\n",
            "after labels to device\n"
          ]
        },
        {
          "output_type": "stream",
          "name": "stderr",
          "text": [
            "Epoch 0:  68%|██████▊   | 85/125 [1:23:28<39:33, 59.34s/it, loss=0.88]"
          ]
        },
        {
          "output_type": "stream",
          "name": "stdout",
          "text": [
            "batch\n",
            "after input to device\n",
            "after token_type_ids to device\n",
            "after attention_mask to device\n",
            "after NSL to device\n",
            "after labels to device\n"
          ]
        },
        {
          "output_type": "stream",
          "name": "stderr",
          "text": [
            "Epoch 0:  69%|██████▉   | 86/125 [1:24:24<38:05, 58.60s/it, loss=0.911]"
          ]
        },
        {
          "output_type": "stream",
          "name": "stdout",
          "text": [
            "batch\n",
            "after input to device\n",
            "after token_type_ids to device\n",
            "after attention_mask to device\n",
            "after NSL to device\n",
            "after labels to device\n"
          ]
        },
        {
          "output_type": "stream",
          "name": "stderr",
          "text": [
            "Epoch 0:  70%|██████▉   | 87/125 [1:25:23<37:03, 58.52s/it, loss=0.983]"
          ]
        },
        {
          "output_type": "stream",
          "name": "stdout",
          "text": [
            "batch\n",
            "after input to device\n",
            "after token_type_ids to device\n",
            "after attention_mask to device\n",
            "after NSL to device\n",
            "after labels to device\n"
          ]
        },
        {
          "output_type": "stream",
          "name": "stderr",
          "text": [
            "Epoch 0:  70%|███████   | 88/125 [1:26:21<36:00, 58.39s/it, loss=0.848]"
          ]
        },
        {
          "output_type": "stream",
          "name": "stdout",
          "text": [
            "batch\n",
            "after input to device\n",
            "after token_type_ids to device\n",
            "after attention_mask to device\n",
            "after NSL to device\n",
            "after labels to device\n"
          ]
        },
        {
          "output_type": "stream",
          "name": "stderr",
          "text": [
            "Epoch 0:  71%|███████   | 89/125 [1:27:20<35:13, 58.71s/it, loss=0.996]"
          ]
        },
        {
          "output_type": "stream",
          "name": "stdout",
          "text": [
            "batch\n",
            "after input to device\n",
            "after token_type_ids to device\n",
            "after attention_mask to device\n",
            "after NSL to device\n",
            "after labels to device\n"
          ]
        },
        {
          "output_type": "stream",
          "name": "stderr",
          "text": [
            "Epoch 0:  72%|███████▏  | 90/125 [1:28:20<34:28, 59.09s/it, loss=1.04]"
          ]
        },
        {
          "output_type": "stream",
          "name": "stdout",
          "text": [
            "batch\n",
            "after input to device\n",
            "after token_type_ids to device\n",
            "after attention_mask to device\n",
            "after NSL to device\n",
            "after labels to device\n"
          ]
        },
        {
          "output_type": "stream",
          "name": "stderr",
          "text": [
            "Epoch 0:  73%|███████▎  | 91/125 [1:29:23<34:06, 60.19s/it, loss=0.766]"
          ]
        },
        {
          "output_type": "stream",
          "name": "stdout",
          "text": [
            "batch\n",
            "after input to device\n",
            "after token_type_ids to device\n",
            "after attention_mask to device\n",
            "after NSL to device\n",
            "after labels to device\n"
          ]
        },
        {
          "output_type": "stream",
          "name": "stderr",
          "text": [
            "Epoch 0:  74%|███████▎  | 92/125 [1:30:24<33:10, 60.31s/it, loss=0.677]"
          ]
        },
        {
          "output_type": "stream",
          "name": "stdout",
          "text": [
            "batch\n",
            "after input to device\n",
            "after token_type_ids to device\n",
            "after attention_mask to device\n",
            "after NSL to device\n",
            "after labels to device\n"
          ]
        },
        {
          "output_type": "stream",
          "name": "stderr",
          "text": [
            "Epoch 0:  74%|███████▍  | 93/125 [1:31:22<31:47, 59.62s/it, loss=0.791]"
          ]
        },
        {
          "output_type": "stream",
          "name": "stdout",
          "text": [
            "batch\n",
            "after input to device\n",
            "after token_type_ids to device\n",
            "after attention_mask to device\n",
            "after NSL to device\n",
            "after labels to device\n"
          ]
        },
        {
          "output_type": "stream",
          "name": "stderr",
          "text": [
            "Epoch 0:  75%|███████▌  | 94/125 [1:32:19<30:30, 59.05s/it, loss=0.716]"
          ]
        },
        {
          "output_type": "stream",
          "name": "stdout",
          "text": [
            "batch\n",
            "after input to device\n",
            "after token_type_ids to device\n",
            "after attention_mask to device\n",
            "after NSL to device\n",
            "after labels to device\n"
          ]
        },
        {
          "output_type": "stream",
          "name": "stderr",
          "text": [
            "Epoch 0:  76%|███████▌  | 95/125 [1:33:16<29:13, 58.46s/it, loss=0.781]"
          ]
        },
        {
          "output_type": "stream",
          "name": "stdout",
          "text": [
            "batch\n",
            "after input to device\n",
            "after token_type_ids to device\n",
            "after attention_mask to device\n",
            "after NSL to device\n",
            "after labels to device\n"
          ]
        },
        {
          "output_type": "stream",
          "name": "stderr",
          "text": [
            "Epoch 0:  77%|███████▋  | 96/125 [1:34:14<28:06, 58.15s/it, loss=0.933]"
          ]
        },
        {
          "output_type": "stream",
          "name": "stdout",
          "text": [
            "batch\n",
            "after input to device\n",
            "after token_type_ids to device\n",
            "after attention_mask to device\n",
            "after NSL to device\n",
            "after labels to device\n"
          ]
        },
        {
          "output_type": "stream",
          "name": "stderr",
          "text": [
            "Epoch 0:  78%|███████▊  | 97/125 [1:35:12<27:05, 58.04s/it, loss=0.848]"
          ]
        },
        {
          "output_type": "stream",
          "name": "stdout",
          "text": [
            "batch\n",
            "after input to device\n",
            "after token_type_ids to device\n",
            "after attention_mask to device\n",
            "after NSL to device\n",
            "after labels to device\n"
          ]
        },
        {
          "output_type": "stream",
          "name": "stderr",
          "text": [
            "Epoch 0:  78%|███████▊  | 98/125 [1:36:09<26:03, 57.91s/it, loss=0.725]"
          ]
        },
        {
          "output_type": "stream",
          "name": "stdout",
          "text": [
            "batch\n",
            "after input to device\n",
            "after token_type_ids to device\n",
            "after attention_mask to device\n",
            "after NSL to device\n",
            "after labels to device\n"
          ]
        },
        {
          "output_type": "stream",
          "name": "stderr",
          "text": [
            "Epoch 0:  79%|███████▉  | 99/125 [1:37:07<25:04, 57.87s/it, loss=0.705]"
          ]
        },
        {
          "output_type": "stream",
          "name": "stdout",
          "text": [
            "batch\n",
            "after input to device\n",
            "after token_type_ids to device\n",
            "after attention_mask to device\n",
            "after NSL to device\n",
            "after labels to device\n"
          ]
        },
        {
          "output_type": "stream",
          "name": "stderr",
          "text": [
            "Epoch 0:  80%|████████  | 100/125 [1:38:05<24:03, 57.74s/it, loss=0.767]"
          ]
        },
        {
          "output_type": "stream",
          "name": "stdout",
          "text": [
            "batch\n",
            "after input to device\n",
            "after token_type_ids to device\n",
            "after attention_mask to device\n",
            "after NSL to device\n",
            "after labels to device\n"
          ]
        },
        {
          "output_type": "stream",
          "name": "stderr",
          "text": [
            "Epoch 0:  81%|████████  | 101/125 [1:39:06<23:30, 58.78s/it, loss=0.818]"
          ]
        },
        {
          "output_type": "stream",
          "name": "stdout",
          "text": [
            "batch\n",
            "after input to device\n",
            "after token_type_ids to device\n",
            "after attention_mask to device\n",
            "after NSL to device\n",
            "after labels to device\n"
          ]
        },
        {
          "output_type": "stream",
          "name": "stderr",
          "text": [
            "Epoch 0:  82%|████████▏ | 102/125 [1:40:05<22:36, 58.97s/it, loss=0.975]"
          ]
        },
        {
          "output_type": "stream",
          "name": "stdout",
          "text": [
            "batch\n",
            "after input to device\n",
            "after token_type_ids to device\n",
            "after attention_mask to device\n",
            "after NSL to device\n",
            "after labels to device\n"
          ]
        },
        {
          "output_type": "stream",
          "name": "stderr",
          "text": [
            "Epoch 0:  82%|████████▏ | 103/125 [1:41:02<21:23, 58.34s/it, loss=0.888]"
          ]
        },
        {
          "output_type": "stream",
          "name": "stdout",
          "text": [
            "batch\n",
            "after input to device\n",
            "after token_type_ids to device\n",
            "after attention_mask to device\n",
            "after NSL to device\n",
            "after labels to device\n"
          ]
        },
        {
          "output_type": "stream",
          "name": "stderr",
          "text": [
            "Epoch 0:  83%|████████▎ | 104/125 [1:41:59<20:16, 57.94s/it, loss=0.81]"
          ]
        },
        {
          "output_type": "stream",
          "name": "stdout",
          "text": [
            "batch\n",
            "after input to device\n",
            "after token_type_ids to device\n",
            "after attention_mask to device\n",
            "after NSL to device\n",
            "after labels to device\n"
          ]
        },
        {
          "output_type": "stream",
          "name": "stderr",
          "text": [
            "Epoch 0:  84%|████████▍ | 105/125 [1:42:56<19:14, 57.72s/it, loss=0.706]"
          ]
        },
        {
          "output_type": "stream",
          "name": "stdout",
          "text": [
            "batch\n",
            "after input to device\n",
            "after token_type_ids to device\n",
            "after attention_mask to device\n",
            "after NSL to device\n",
            "after labels to device\n"
          ]
        },
        {
          "output_type": "stream",
          "name": "stderr",
          "text": [
            "Epoch 0:  85%|████████▍ | 106/125 [1:43:54<18:15, 57.65s/it, loss=0.806]"
          ]
        },
        {
          "output_type": "stream",
          "name": "stdout",
          "text": [
            "batch\n",
            "after input to device\n",
            "after token_type_ids to device\n",
            "after attention_mask to device\n",
            "after NSL to device\n",
            "after labels to device\n"
          ]
        },
        {
          "output_type": "stream",
          "name": "stderr",
          "text": [
            "Epoch 0:  86%|████████▌ | 107/125 [1:44:54<17:30, 58.34s/it, loss=0.973]"
          ]
        },
        {
          "output_type": "stream",
          "name": "stdout",
          "text": [
            "batch\n",
            "after input to device\n",
            "after token_type_ids to device\n",
            "after attention_mask to device\n",
            "after NSL to device\n",
            "after labels to device\n"
          ]
        },
        {
          "output_type": "stream",
          "name": "stderr",
          "text": [
            "Epoch 0:  86%|████████▋ | 108/125 [1:45:53<16:36, 58.62s/it, loss=0.97]"
          ]
        },
        {
          "output_type": "stream",
          "name": "stdout",
          "text": [
            "batch\n",
            "after input to device\n",
            "after token_type_ids to device\n",
            "after attention_mask to device\n",
            "after NSL to device\n",
            "after labels to device\n"
          ]
        },
        {
          "output_type": "stream",
          "name": "stderr",
          "text": [
            "Epoch 0:  87%|████████▋ | 109/125 [1:46:51<15:34, 58.38s/it, loss=0.852]"
          ]
        },
        {
          "output_type": "stream",
          "name": "stdout",
          "text": [
            "batch\n",
            "after input to device\n",
            "after token_type_ids to device\n",
            "after attention_mask to device\n",
            "after NSL to device\n",
            "after labels to device\n"
          ]
        },
        {
          "output_type": "stream",
          "name": "stderr",
          "text": [
            "Epoch 0:  88%|████████▊ | 110/125 [1:47:49<14:37, 58.49s/it, loss=0.805]"
          ]
        },
        {
          "output_type": "stream",
          "name": "stdout",
          "text": [
            "batch\n",
            "after input to device\n",
            "after token_type_ids to device\n",
            "after attention_mask to device\n",
            "after NSL to device\n",
            "after labels to device\n"
          ]
        },
        {
          "output_type": "stream",
          "name": "stderr",
          "text": [
            "Epoch 0:  89%|████████▉ | 111/125 [1:48:53<13:59, 59.94s/it, loss=0.897]"
          ]
        },
        {
          "output_type": "stream",
          "name": "stdout",
          "text": [
            "batch\n",
            "after input to device\n",
            "after token_type_ids to device\n",
            "after attention_mask to device\n",
            "after NSL to device\n",
            "after labels to device\n"
          ]
        },
        {
          "output_type": "stream",
          "name": "stderr",
          "text": [
            "Epoch 0:  90%|████████▉ | 112/125 [1:49:54<13:03, 60.28s/it, loss=0.872]"
          ]
        },
        {
          "output_type": "stream",
          "name": "stdout",
          "text": [
            "batch\n",
            "after input to device\n",
            "after token_type_ids to device\n",
            "after attention_mask to device\n",
            "after NSL to device\n",
            "after labels to device\n"
          ]
        },
        {
          "output_type": "stream",
          "name": "stderr",
          "text": [
            "Epoch 0:  90%|█████████ | 113/125 [1:50:53<11:58, 59.91s/it, loss=0.829]"
          ]
        },
        {
          "output_type": "stream",
          "name": "stdout",
          "text": [
            "batch\n",
            "after input to device\n",
            "after token_type_ids to device\n",
            "after attention_mask to device\n",
            "after NSL to device\n",
            "after labels to device\n"
          ]
        },
        {
          "output_type": "stream",
          "name": "stderr",
          "text": [
            "Epoch 0:  91%|█████████ | 114/125 [1:51:52<10:55, 59.56s/it, loss=0.787]"
          ]
        },
        {
          "output_type": "stream",
          "name": "stdout",
          "text": [
            "batch\n",
            "after input to device\n",
            "after token_type_ids to device\n",
            "after attention_mask to device\n",
            "after NSL to device\n",
            "after labels to device\n"
          ]
        },
        {
          "output_type": "stream",
          "name": "stderr",
          "text": [
            "Epoch 0:  92%|█████████▏| 115/125 [1:52:50<09:52, 59.26s/it, loss=0.591]"
          ]
        },
        {
          "output_type": "stream",
          "name": "stdout",
          "text": [
            "batch\n",
            "after input to device\n",
            "after token_type_ids to device\n",
            "after attention_mask to device\n",
            "after NSL to device\n",
            "after labels to device\n"
          ]
        },
        {
          "output_type": "stream",
          "name": "stderr",
          "text": [
            "Epoch 0:  93%|█████████▎| 116/125 [1:53:49<08:50, 59.00s/it, loss=0.784]"
          ]
        },
        {
          "output_type": "stream",
          "name": "stdout",
          "text": [
            "batch\n",
            "after input to device\n",
            "after token_type_ids to device\n",
            "after attention_mask to device\n",
            "after NSL to device\n",
            "after labels to device\n"
          ]
        },
        {
          "output_type": "stream",
          "name": "stderr",
          "text": [
            "Epoch 0:  94%|█████████▎| 117/125 [1:54:46<07:47, 58.45s/it, loss=0.808]"
          ]
        },
        {
          "output_type": "stream",
          "name": "stdout",
          "text": [
            "batch\n",
            "after input to device\n",
            "after token_type_ids to device\n",
            "after attention_mask to device\n",
            "after NSL to device\n",
            "after labels to device\n"
          ]
        },
        {
          "output_type": "stream",
          "name": "stderr",
          "text": [
            "Epoch 0:  94%|█████████▍| 118/125 [1:55:43<06:47, 58.19s/it, loss=0.776]"
          ]
        },
        {
          "output_type": "stream",
          "name": "stdout",
          "text": [
            "batch\n",
            "after input to device\n",
            "after token_type_ids to device\n",
            "after attention_mask to device\n",
            "after NSL to device\n",
            "after labels to device\n"
          ]
        },
        {
          "output_type": "stream",
          "name": "stderr",
          "text": [
            "Epoch 0:  95%|█████████▌| 119/125 [1:56:41<05:48, 58.09s/it, loss=0.827]"
          ]
        },
        {
          "output_type": "stream",
          "name": "stdout",
          "text": [
            "batch\n",
            "after input to device\n",
            "after token_type_ids to device\n",
            "after attention_mask to device\n",
            "after NSL to device\n",
            "after labels to device\n"
          ]
        },
        {
          "output_type": "stream",
          "name": "stderr",
          "text": [
            "Epoch 0:  96%|█████████▌| 120/125 [1:57:39<04:49, 57.86s/it, loss=0.842]"
          ]
        },
        {
          "output_type": "stream",
          "name": "stdout",
          "text": [
            "batch\n",
            "after input to device\n",
            "after token_type_ids to device\n",
            "after attention_mask to device\n",
            "after NSL to device\n",
            "after labels to device\n"
          ]
        },
        {
          "output_type": "stream",
          "name": "stderr",
          "text": [
            "Epoch 0:  97%|█████████▋| 121/125 [1:58:36<03:50, 57.75s/it, loss=0.768]"
          ]
        },
        {
          "output_type": "stream",
          "name": "stdout",
          "text": [
            "batch\n",
            "after input to device\n",
            "after token_type_ids to device\n",
            "after attention_mask to device\n",
            "after NSL to device\n",
            "after labels to device\n"
          ]
        },
        {
          "output_type": "stream",
          "name": "stderr",
          "text": [
            "Epoch 0:  98%|█████████▊| 122/125 [1:59:45<03:02, 60.99s/it, loss=0.877]"
          ]
        },
        {
          "output_type": "stream",
          "name": "stdout",
          "text": [
            "batch\n",
            "after input to device\n",
            "after token_type_ids to device\n",
            "after attention_mask to device\n",
            "after NSL to device\n",
            "after labels to device\n"
          ]
        },
        {
          "output_type": "stream",
          "name": "stderr",
          "text": [
            "Epoch 0:  98%|█████████▊| 123/125 [2:00:45<02:01, 60.74s/it, loss=0.713]"
          ]
        },
        {
          "output_type": "stream",
          "name": "stdout",
          "text": [
            "batch\n",
            "after input to device\n",
            "after token_type_ids to device\n",
            "after attention_mask to device\n",
            "after NSL to device\n",
            "after labels to device\n"
          ]
        },
        {
          "output_type": "stream",
          "name": "stderr",
          "text": [
            "Epoch 0:  99%|█████████▉| 124/125 [2:01:44<01:00, 60.36s/it, loss=0.813]"
          ]
        },
        {
          "output_type": "stream",
          "name": "stdout",
          "text": [
            "batch\n",
            "after input to device\n",
            "after token_type_ids to device\n",
            "after attention_mask to device\n",
            "after NSL to device\n",
            "after labels to device\n"
          ]
        },
        {
          "output_type": "stream",
          "name": "stderr",
          "text": [
            "  0%|          | 0/125 [00:00<?, ?it/s]"
          ]
        },
        {
          "output_type": "stream",
          "name": "stdout",
          "text": [
            "batch\n",
            "after input to device\n",
            "after token_type_ids to device\n",
            "after attention_mask to device\n",
            "after NSL to device\n",
            "after labels to device\n"
          ]
        },
        {
          "output_type": "stream",
          "name": "stderr",
          "text": [
            "Epoch 1:   1%|          | 1/125 [00:59<2:02:44, 59.39s/it, loss=0.902]"
          ]
        },
        {
          "output_type": "stream",
          "name": "stdout",
          "text": [
            "batch\n",
            "after input to device\n",
            "after token_type_ids to device\n",
            "after attention_mask to device\n",
            "after NSL to device\n",
            "after labels to device\n"
          ]
        },
        {
          "output_type": "stream",
          "name": "stderr",
          "text": [
            "Epoch 1:   2%|▏         | 2/125 [01:57<2:00:23, 58.73s/it, loss=0.761]"
          ]
        },
        {
          "output_type": "stream",
          "name": "stdout",
          "text": [
            "batch\n",
            "after input to device\n",
            "after token_type_ids to device\n",
            "after attention_mask to device\n",
            "after NSL to device\n",
            "after labels to device\n"
          ]
        },
        {
          "output_type": "stream",
          "name": "stderr",
          "text": [
            "Epoch 1:   2%|▏         | 3/125 [02:56<1:59:48, 58.92s/it, loss=0.639]"
          ]
        },
        {
          "output_type": "stream",
          "name": "stdout",
          "text": [
            "batch\n",
            "after input to device\n",
            "after token_type_ids to device\n",
            "after attention_mask to device\n",
            "after NSL to device\n",
            "after labels to device\n"
          ]
        },
        {
          "output_type": "stream",
          "name": "stderr",
          "text": [
            "Epoch 1:   3%|▎         | 4/125 [03:55<1:58:17, 58.65s/it, loss=0.795]"
          ]
        },
        {
          "output_type": "stream",
          "name": "stdout",
          "text": [
            "batch\n",
            "after input to device\n",
            "after token_type_ids to device\n",
            "after attention_mask to device\n",
            "after NSL to device\n",
            "after labels to device\n"
          ]
        },
        {
          "output_type": "stream",
          "name": "stderr",
          "text": [
            "Epoch 1:   4%|▍         | 5/125 [04:52<1:56:33, 58.28s/it, loss=0.752]"
          ]
        },
        {
          "output_type": "stream",
          "name": "stdout",
          "text": [
            "batch\n",
            "after input to device\n",
            "after token_type_ids to device\n",
            "after attention_mask to device\n",
            "after NSL to device\n",
            "after labels to device\n"
          ]
        },
        {
          "output_type": "stream",
          "name": "stderr",
          "text": [
            "Epoch 1:   5%|▍         | 6/125 [05:50<1:55:17, 58.13s/it, loss=0.864]"
          ]
        },
        {
          "output_type": "stream",
          "name": "stdout",
          "text": [
            "batch\n",
            "after input to device\n",
            "after token_type_ids to device\n",
            "after attention_mask to device\n",
            "after NSL to device\n",
            "after labels to device\n"
          ]
        },
        {
          "output_type": "stream",
          "name": "stderr",
          "text": [
            "Epoch 1:   6%|▌         | 7/125 [06:54<1:58:21, 60.18s/it, loss=0.672]"
          ]
        },
        {
          "output_type": "stream",
          "name": "stdout",
          "text": [
            "batch\n",
            "after input to device\n",
            "after token_type_ids to device\n",
            "after attention_mask to device\n",
            "after NSL to device\n",
            "after labels to device\n"
          ]
        },
        {
          "output_type": "stream",
          "name": "stderr",
          "text": [
            "Epoch 1:   6%|▋         | 8/125 [07:54<1:56:57, 59.98s/it, loss=0.707]"
          ]
        },
        {
          "output_type": "stream",
          "name": "stdout",
          "text": [
            "batch\n",
            "after input to device\n",
            "after token_type_ids to device\n",
            "after attention_mask to device\n",
            "after NSL to device\n",
            "after labels to device\n"
          ]
        },
        {
          "output_type": "stream",
          "name": "stderr",
          "text": [
            "Epoch 1:   7%|▋         | 9/125 [08:51<1:54:22, 59.16s/it, loss=0.717]"
          ]
        },
        {
          "output_type": "stream",
          "name": "stdout",
          "text": [
            "batch\n",
            "after input to device\n",
            "after token_type_ids to device\n",
            "after attention_mask to device\n",
            "after NSL to device\n",
            "after labels to device\n"
          ]
        },
        {
          "output_type": "stream",
          "name": "stderr",
          "text": [
            "Epoch 1:   8%|▊         | 10/125 [09:51<1:53:30, 59.22s/it, loss=0.897]"
          ]
        },
        {
          "output_type": "stream",
          "name": "stdout",
          "text": [
            "batch\n",
            "after input to device\n",
            "after token_type_ids to device\n",
            "after attention_mask to device\n",
            "after NSL to device\n",
            "after labels to device\n"
          ]
        },
        {
          "output_type": "stream",
          "name": "stderr",
          "text": [
            "Epoch 1:   9%|▉         | 11/125 [10:51<1:53:13, 59.59s/it, loss=0.647]"
          ]
        },
        {
          "output_type": "stream",
          "name": "stdout",
          "text": [
            "batch\n",
            "after input to device\n",
            "after token_type_ids to device\n",
            "after attention_mask to device\n",
            "after NSL to device\n",
            "after labels to device\n"
          ]
        },
        {
          "output_type": "stream",
          "name": "stderr",
          "text": [
            "Epoch 1:  10%|▉         | 12/125 [11:48<1:50:58, 58.92s/it, loss=0.733]"
          ]
        },
        {
          "output_type": "stream",
          "name": "stdout",
          "text": [
            "batch\n",
            "after input to device\n",
            "after token_type_ids to device\n",
            "after attention_mask to device\n",
            "after NSL to device\n",
            "after labels to device\n"
          ]
        },
        {
          "output_type": "stream",
          "name": "stderr",
          "text": [
            "Epoch 1:  10%|█         | 13/125 [12:46<1:49:19, 58.57s/it, loss=0.671]"
          ]
        },
        {
          "output_type": "stream",
          "name": "stdout",
          "text": [
            "batch\n",
            "after input to device\n",
            "after token_type_ids to device\n",
            "after attention_mask to device\n",
            "after NSL to device\n",
            "after labels to device\n"
          ]
        },
        {
          "output_type": "stream",
          "name": "stderr",
          "text": [
            "Epoch 1:  11%|█         | 14/125 [13:43<1:47:33, 58.14s/it, loss=0.626]"
          ]
        },
        {
          "output_type": "stream",
          "name": "stdout",
          "text": [
            "batch\n",
            "after input to device\n",
            "after token_type_ids to device\n",
            "after attention_mask to device\n",
            "after NSL to device\n",
            "after labels to device\n"
          ]
        },
        {
          "output_type": "stream",
          "name": "stderr",
          "text": [
            "Epoch 1:  12%|█▏        | 15/125 [14:41<1:46:07, 57.88s/it, loss=0.852]"
          ]
        },
        {
          "output_type": "stream",
          "name": "stdout",
          "text": [
            "batch\n",
            "after input to device\n",
            "after token_type_ids to device\n",
            "after attention_mask to device\n",
            "after NSL to device\n",
            "after labels to device\n"
          ]
        },
        {
          "output_type": "stream",
          "name": "stderr",
          "text": [
            "Epoch 1:  13%|█▎        | 16/125 [15:39<1:45:24, 58.03s/it, loss=0.561]"
          ]
        },
        {
          "output_type": "stream",
          "name": "stdout",
          "text": [
            "batch\n",
            "after input to device\n",
            "after token_type_ids to device\n",
            "after attention_mask to device\n",
            "after NSL to device\n",
            "after labels to device\n"
          ]
        },
        {
          "output_type": "stream",
          "name": "stderr",
          "text": [
            "Epoch 1:  14%|█▎        | 17/125 [16:41<1:46:20, 59.08s/it, loss=0.962]"
          ]
        },
        {
          "output_type": "stream",
          "name": "stdout",
          "text": [
            "batch\n",
            "after input to device\n",
            "after token_type_ids to device\n",
            "after attention_mask to device\n",
            "after NSL to device\n",
            "after labels to device\n"
          ]
        },
        {
          "output_type": "stream",
          "name": "stderr",
          "text": [
            "Epoch 1:  14%|█▍        | 18/125 [17:40<1:45:37, 59.23s/it, loss=0.793]"
          ]
        },
        {
          "output_type": "stream",
          "name": "stdout",
          "text": [
            "batch\n",
            "after input to device\n",
            "after token_type_ids to device\n",
            "after attention_mask to device\n",
            "after NSL to device\n",
            "after labels to device\n"
          ]
        },
        {
          "output_type": "stream",
          "name": "stderr",
          "text": [
            "Epoch 1:  15%|█▌        | 19/125 [18:37<1:43:31, 58.60s/it, loss=0.845]"
          ]
        },
        {
          "output_type": "stream",
          "name": "stdout",
          "text": [
            "batch\n",
            "after input to device\n",
            "after token_type_ids to device\n",
            "after attention_mask to device\n",
            "after NSL to device\n",
            "after labels to device\n"
          ]
        },
        {
          "output_type": "stream",
          "name": "stderr",
          "text": [
            "Epoch 1:  16%|█▌        | 20/125 [19:34<1:41:35, 58.05s/it, loss=0.909]"
          ]
        },
        {
          "output_type": "stream",
          "name": "stdout",
          "text": [
            "batch\n",
            "after input to device\n",
            "after token_type_ids to device\n",
            "after attention_mask to device\n",
            "after NSL to device\n",
            "after labels to device\n"
          ]
        },
        {
          "output_type": "stream",
          "name": "stderr",
          "text": [
            "Epoch 1:  17%|█▋        | 21/125 [20:31<1:40:06, 57.75s/it, loss=0.848]"
          ]
        },
        {
          "output_type": "stream",
          "name": "stdout",
          "text": [
            "batch\n",
            "after input to device\n",
            "after token_type_ids to device\n",
            "after attention_mask to device\n",
            "after NSL to device\n",
            "after labels to device\n"
          ]
        },
        {
          "output_type": "stream",
          "name": "stderr",
          "text": [
            "Epoch 1:  18%|█▊        | 22/125 [21:28<1:38:41, 57.49s/it, loss=0.587]"
          ]
        },
        {
          "output_type": "stream",
          "name": "stdout",
          "text": [
            "batch\n",
            "after input to device\n",
            "after token_type_ids to device\n",
            "after attention_mask to device\n",
            "after NSL to device\n",
            "after labels to device\n"
          ]
        },
        {
          "output_type": "stream",
          "name": "stderr",
          "text": [
            "Epoch 1:  18%|█▊        | 23/125 [22:25<1:37:24, 57.30s/it, loss=0.65]"
          ]
        },
        {
          "output_type": "stream",
          "name": "stdout",
          "text": [
            "batch\n",
            "after input to device\n",
            "after token_type_ids to device\n",
            "after attention_mask to device\n",
            "after NSL to device\n",
            "after labels to device\n"
          ]
        },
        {
          "output_type": "stream",
          "name": "stderr",
          "text": [
            "Epoch 1:  19%|█▉        | 24/125 [23:22<1:36:32, 57.35s/it, loss=0.747]"
          ]
        },
        {
          "output_type": "stream",
          "name": "stdout",
          "text": [
            "batch\n",
            "after input to device\n",
            "after token_type_ids to device\n",
            "after attention_mask to device\n",
            "after NSL to device\n",
            "after labels to device\n"
          ]
        },
        {
          "output_type": "stream",
          "name": "stderr",
          "text": [
            "Epoch 1:  20%|██        | 25/125 [24:21<1:36:03, 57.64s/it, loss=0.781]"
          ]
        },
        {
          "output_type": "stream",
          "name": "stdout",
          "text": [
            "batch\n",
            "after input to device\n",
            "after token_type_ids to device\n",
            "after attention_mask to device\n",
            "after NSL to device\n",
            "after labels to device\n"
          ]
        },
        {
          "output_type": "stream",
          "name": "stderr",
          "text": [
            "Epoch 1:  21%|██        | 26/125 [25:19<1:35:23, 57.81s/it, loss=0.725]"
          ]
        },
        {
          "output_type": "stream",
          "name": "stdout",
          "text": [
            "batch\n",
            "after input to device\n",
            "after token_type_ids to device\n",
            "after attention_mask to device\n",
            "after NSL to device\n",
            "after labels to device\n"
          ]
        },
        {
          "output_type": "stream",
          "name": "stderr",
          "text": [
            "Epoch 1:  22%|██▏       | 27/125 [26:17<1:34:50, 58.06s/it, loss=0.729]"
          ]
        },
        {
          "output_type": "stream",
          "name": "stdout",
          "text": [
            "batch\n",
            "after input to device\n",
            "after token_type_ids to device\n",
            "after attention_mask to device\n",
            "after NSL to device\n",
            "after labels to device\n"
          ]
        },
        {
          "output_type": "stream",
          "name": "stderr",
          "text": [
            "Epoch 1:  22%|██▏       | 28/125 [27:23<1:37:41, 60.43s/it, loss=0.546]"
          ]
        },
        {
          "output_type": "stream",
          "name": "stdout",
          "text": [
            "batch\n",
            "after input to device\n",
            "after token_type_ids to device\n",
            "after attention_mask to device\n",
            "after NSL to device\n",
            "after labels to device\n"
          ]
        },
        {
          "output_type": "stream",
          "name": "stderr",
          "text": [
            "Epoch 1:  23%|██▎       | 29/125 [28:23<1:36:24, 60.25s/it, loss=0.756]"
          ]
        },
        {
          "output_type": "stream",
          "name": "stdout",
          "text": [
            "batch\n",
            "after input to device\n",
            "after token_type_ids to device\n",
            "after attention_mask to device\n",
            "after NSL to device\n",
            "after labels to device\n"
          ]
        },
        {
          "output_type": "stream",
          "name": "stderr",
          "text": [
            "Epoch 1:  24%|██▍       | 30/125 [29:23<1:35:04, 60.05s/it, loss=0.655]"
          ]
        },
        {
          "output_type": "stream",
          "name": "stdout",
          "text": [
            "batch\n",
            "after input to device\n",
            "after token_type_ids to device\n",
            "after attention_mask to device\n",
            "after NSL to device\n",
            "after labels to device\n"
          ]
        },
        {
          "output_type": "stream",
          "name": "stderr",
          "text": [
            "Epoch 1:  25%|██▍       | 31/125 [30:21<1:33:17, 59.55s/it, loss=1.12]"
          ]
        },
        {
          "output_type": "stream",
          "name": "stdout",
          "text": [
            "batch\n",
            "after input to device\n",
            "after token_type_ids to device\n",
            "after attention_mask to device\n",
            "after NSL to device\n",
            "after labels to device\n"
          ]
        },
        {
          "output_type": "stream",
          "name": "stderr",
          "text": [
            "Epoch 1:  26%|██▌       | 32/125 [31:19<1:31:39, 59.13s/it, loss=0.82]"
          ]
        },
        {
          "output_type": "stream",
          "name": "stdout",
          "text": [
            "batch\n",
            "after input to device\n",
            "after token_type_ids to device\n",
            "after attention_mask to device\n",
            "after NSL to device\n",
            "after labels to device\n"
          ]
        },
        {
          "output_type": "stream",
          "name": "stderr",
          "text": [
            "Epoch 1:  26%|██▋       | 33/125 [32:18<1:30:20, 58.92s/it, loss=0.765]"
          ]
        },
        {
          "output_type": "stream",
          "name": "stdout",
          "text": [
            "batch\n",
            "after input to device\n",
            "after token_type_ids to device\n",
            "after attention_mask to device\n",
            "after NSL to device\n",
            "after labels to device\n"
          ]
        },
        {
          "output_type": "stream",
          "name": "stderr",
          "text": [
            "Epoch 1:  27%|██▋       | 34/125 [33:15<1:28:30, 58.35s/it, loss=0.671]"
          ]
        },
        {
          "output_type": "stream",
          "name": "stdout",
          "text": [
            "batch\n",
            "after input to device\n",
            "after token_type_ids to device\n",
            "after attention_mask to device\n",
            "after NSL to device\n",
            "after labels to device\n"
          ]
        },
        {
          "output_type": "stream",
          "name": "stderr",
          "text": [
            "Epoch 1:  28%|██▊       | 35/125 [34:13<1:27:17, 58.19s/it, loss=0.559]"
          ]
        },
        {
          "output_type": "stream",
          "name": "stdout",
          "text": [
            "batch\n",
            "after input to device\n",
            "after token_type_ids to device\n",
            "after attention_mask to device\n",
            "after NSL to device\n",
            "after labels to device\n"
          ]
        },
        {
          "output_type": "stream",
          "name": "stderr",
          "text": [
            "Epoch 1:  29%|██▉       | 36/125 [35:11<1:26:19, 58.20s/it, loss=0.737]"
          ]
        },
        {
          "output_type": "stream",
          "name": "stdout",
          "text": [
            "batch\n",
            "after input to device\n",
            "after token_type_ids to device\n",
            "after attention_mask to device\n",
            "after NSL to device\n",
            "after labels to device\n"
          ]
        },
        {
          "output_type": "stream",
          "name": "stderr",
          "text": [
            "Epoch 1:  30%|██▉       | 37/125 [36:09<1:25:20, 58.19s/it, loss=0.769]"
          ]
        },
        {
          "output_type": "stream",
          "name": "stdout",
          "text": [
            "batch\n",
            "after input to device\n",
            "after token_type_ids to device\n",
            "after attention_mask to device\n",
            "after NSL to device\n",
            "after labels to device\n"
          ]
        },
        {
          "output_type": "stream",
          "name": "stderr",
          "text": [
            "Epoch 1:  30%|███       | 38/125 [37:10<1:25:43, 59.13s/it, loss=0.626]"
          ]
        },
        {
          "output_type": "stream",
          "name": "stdout",
          "text": [
            "batch\n",
            "after input to device\n",
            "after token_type_ids to device\n",
            "after attention_mask to device\n",
            "after NSL to device\n",
            "after labels to device\n"
          ]
        },
        {
          "output_type": "stream",
          "name": "stderr",
          "text": [
            "Epoch 1:  31%|███       | 39/125 [38:10<1:24:56, 59.26s/it, loss=0.589]"
          ]
        },
        {
          "output_type": "stream",
          "name": "stdout",
          "text": [
            "batch\n",
            "after input to device\n",
            "after token_type_ids to device\n",
            "after attention_mask to device\n",
            "after NSL to device\n",
            "after labels to device\n"
          ]
        },
        {
          "output_type": "stream",
          "name": "stderr",
          "text": [
            "Epoch 1:  32%|███▏      | 40/125 [39:11<1:24:34, 59.70s/it, loss=0.464]"
          ]
        },
        {
          "output_type": "stream",
          "name": "stdout",
          "text": [
            "batch\n",
            "after input to device\n",
            "after token_type_ids to device\n",
            "after attention_mask to device\n",
            "after NSL to device\n",
            "after labels to device\n"
          ]
        },
        {
          "output_type": "stream",
          "name": "stderr",
          "text": [
            "Epoch 1:  33%|███▎      | 41/125 [40:10<1:23:32, 59.68s/it, loss=0.568]"
          ]
        },
        {
          "output_type": "stream",
          "name": "stdout",
          "text": [
            "batch\n",
            "after input to device\n",
            "after token_type_ids to device\n",
            "after attention_mask to device\n",
            "after NSL to device\n",
            "after labels to device\n"
          ]
        },
        {
          "output_type": "stream",
          "name": "stderr",
          "text": [
            "Epoch 1:  34%|███▎      | 42/125 [41:07<1:21:23, 58.84s/it, loss=0.386]"
          ]
        },
        {
          "output_type": "stream",
          "name": "stdout",
          "text": [
            "batch\n",
            "after input to device\n",
            "after token_type_ids to device\n",
            "after attention_mask to device\n",
            "after NSL to device\n",
            "after labels to device\n"
          ]
        },
        {
          "output_type": "stream",
          "name": "stderr",
          "text": [
            "Epoch 1:  34%|███▍      | 43/125 [42:06<1:20:31, 58.92s/it, loss=0.703]"
          ]
        },
        {
          "output_type": "stream",
          "name": "stdout",
          "text": [
            "batch\n",
            "after input to device\n",
            "after token_type_ids to device\n",
            "after attention_mask to device\n",
            "after NSL to device\n",
            "after labels to device\n"
          ]
        },
        {
          "output_type": "stream",
          "name": "stderr",
          "text": [
            "Epoch 1:  35%|███▌      | 44/125 [43:05<1:19:18, 58.75s/it, loss=0.385]"
          ]
        },
        {
          "output_type": "stream",
          "name": "stdout",
          "text": [
            "batch\n",
            "after input to device\n",
            "after token_type_ids to device\n",
            "after attention_mask to device\n",
            "after NSL to device\n",
            "after labels to device\n"
          ]
        },
        {
          "output_type": "stream",
          "name": "stderr",
          "text": [
            "Epoch 1:  36%|███▌      | 45/125 [44:02<1:17:56, 58.45s/it, loss=0.738]"
          ]
        },
        {
          "output_type": "stream",
          "name": "stdout",
          "text": [
            "batch\n",
            "after input to device\n",
            "after token_type_ids to device\n",
            "after attention_mask to device\n",
            "after NSL to device\n",
            "after labels to device\n"
          ]
        },
        {
          "output_type": "stream",
          "name": "stderr",
          "text": [
            "Epoch 1:  37%|███▋      | 46/125 [45:00<1:16:44, 58.29s/it, loss=0.48]"
          ]
        },
        {
          "output_type": "stream",
          "name": "stdout",
          "text": [
            "batch\n",
            "after input to device\n",
            "after token_type_ids to device\n",
            "after attention_mask to device\n",
            "after NSL to device\n",
            "after labels to device\n"
          ]
        },
        {
          "output_type": "stream",
          "name": "stderr",
          "text": [
            "Epoch 1:  38%|███▊      | 47/125 [45:59<1:16:04, 58.52s/it, loss=0.64]"
          ]
        },
        {
          "output_type": "stream",
          "name": "stdout",
          "text": [
            "batch\n",
            "after input to device\n",
            "after token_type_ids to device\n",
            "after attention_mask to device\n",
            "after NSL to device\n",
            "after labels to device\n"
          ]
        },
        {
          "output_type": "stream",
          "name": "stderr",
          "text": [
            "Epoch 1:  38%|███▊      | 48/125 [46:58<1:15:00, 58.45s/it, loss=0.549]"
          ]
        },
        {
          "output_type": "stream",
          "name": "stdout",
          "text": [
            "batch\n",
            "after input to device\n",
            "after token_type_ids to device\n",
            "after attention_mask to device\n",
            "after NSL to device\n",
            "after labels to device\n"
          ]
        },
        {
          "output_type": "stream",
          "name": "stderr",
          "text": [
            "Epoch 1:  39%|███▉      | 49/125 [47:56<1:14:10, 58.56s/it, loss=0.464]"
          ]
        },
        {
          "output_type": "stream",
          "name": "stdout",
          "text": [
            "batch\n",
            "after input to device\n",
            "after token_type_ids to device\n",
            "after attention_mask to device\n",
            "after NSL to device\n",
            "after labels to device\n"
          ]
        },
        {
          "output_type": "stream",
          "name": "stderr",
          "text": [
            "Epoch 1:  40%|████      | 50/125 [48:59<1:14:40, 59.74s/it, loss=0.521]"
          ]
        },
        {
          "output_type": "stream",
          "name": "stdout",
          "text": [
            "batch\n",
            "after input to device\n",
            "after token_type_ids to device\n",
            "after attention_mask to device\n",
            "after NSL to device\n",
            "after labels to device\n"
          ]
        },
        {
          "output_type": "stream",
          "name": "stderr",
          "text": [
            "Epoch 1:  41%|████      | 51/125 [50:01<1:14:30, 60.41s/it, loss=0.283]"
          ]
        },
        {
          "output_type": "stream",
          "name": "stdout",
          "text": [
            "batch\n",
            "after input to device\n",
            "after token_type_ids to device\n",
            "after attention_mask to device\n",
            "after NSL to device\n",
            "after labels to device\n"
          ]
        },
        {
          "output_type": "stream",
          "name": "stderr",
          "text": [
            "Epoch 1:  42%|████▏     | 52/125 [50:59<1:12:28, 59.57s/it, loss=0.941]"
          ]
        },
        {
          "output_type": "stream",
          "name": "stdout",
          "text": [
            "batch\n",
            "after input to device\n",
            "after token_type_ids to device\n",
            "after attention_mask to device\n",
            "after NSL to device\n",
            "after labels to device\n"
          ]
        },
        {
          "output_type": "stream",
          "name": "stderr",
          "text": [
            "Epoch 1:  42%|████▏     | 53/125 [52:00<1:12:18, 60.26s/it, loss=0.496]"
          ]
        },
        {
          "output_type": "stream",
          "name": "stdout",
          "text": [
            "batch\n",
            "after input to device\n",
            "after token_type_ids to device\n",
            "after attention_mask to device\n",
            "after NSL to device\n",
            "after labels to device\n"
          ]
        },
        {
          "output_type": "stream",
          "name": "stderr",
          "text": [
            "Epoch 1:  43%|████▎     | 54/125 [53:00<1:11:07, 60.10s/it, loss=0.383]"
          ]
        },
        {
          "output_type": "stream",
          "name": "stdout",
          "text": [
            "batch\n",
            "after input to device\n",
            "after token_type_ids to device\n",
            "after attention_mask to device\n",
            "after NSL to device\n",
            "after labels to device\n"
          ]
        },
        {
          "output_type": "stream",
          "name": "stderr",
          "text": [
            "Epoch 1:  44%|████▍     | 55/125 [54:00<1:10:04, 60.06s/it, loss=0.765]"
          ]
        },
        {
          "output_type": "stream",
          "name": "stdout",
          "text": [
            "batch\n",
            "after input to device\n",
            "after token_type_ids to device\n",
            "after attention_mask to device\n",
            "after NSL to device\n",
            "after labels to device\n"
          ]
        },
        {
          "output_type": "stream",
          "name": "stderr",
          "text": [
            "Epoch 1:  45%|████▍     | 56/125 [54:59<1:08:35, 59.64s/it, loss=0.484]"
          ]
        },
        {
          "output_type": "stream",
          "name": "stdout",
          "text": [
            "batch\n",
            "after input to device\n",
            "after token_type_ids to device\n",
            "after attention_mask to device\n",
            "after NSL to device\n",
            "after labels to device\n"
          ]
        },
        {
          "output_type": "stream",
          "name": "stderr",
          "text": [
            "Epoch 1:  46%|████▌     | 57/125 [55:58<1:07:23, 59.46s/it, loss=0.466]"
          ]
        },
        {
          "output_type": "stream",
          "name": "stdout",
          "text": [
            "batch\n",
            "after input to device\n",
            "after token_type_ids to device\n",
            "after attention_mask to device\n",
            "after NSL to device\n",
            "after labels to device\n"
          ]
        },
        {
          "output_type": "stream",
          "name": "stderr",
          "text": [
            "Epoch 1:  46%|████▋     | 58/125 [56:56<1:05:51, 58.98s/it, loss=0.444]"
          ]
        },
        {
          "output_type": "stream",
          "name": "stdout",
          "text": [
            "batch\n",
            "after input to device\n",
            "after token_type_ids to device\n",
            "after attention_mask to device\n",
            "after NSL to device\n",
            "after labels to device\n"
          ]
        },
        {
          "output_type": "stream",
          "name": "stderr",
          "text": [
            "Epoch 1:  47%|████▋     | 59/125 [57:54<1:04:41, 58.81s/it, loss=0.688]"
          ]
        },
        {
          "output_type": "stream",
          "name": "stdout",
          "text": [
            "batch\n",
            "after input to device\n",
            "after token_type_ids to device\n",
            "after attention_mask to device\n",
            "after NSL to device\n",
            "after labels to device\n"
          ]
        },
        {
          "output_type": "stream",
          "name": "stderr",
          "text": [
            "Epoch 1:  48%|████▊     | 60/125 [58:52<1:03:22, 58.50s/it, loss=1.34]"
          ]
        },
        {
          "output_type": "stream",
          "name": "stdout",
          "text": [
            "batch\n",
            "after input to device\n",
            "after token_type_ids to device\n",
            "after attention_mask to device\n",
            "after NSL to device\n",
            "after labels to device\n"
          ]
        },
        {
          "output_type": "stream",
          "name": "stderr",
          "text": [
            "Epoch 1:  49%|████▉     | 61/125 [59:50<1:02:22, 58.48s/it, loss=0.362]"
          ]
        },
        {
          "output_type": "stream",
          "name": "stdout",
          "text": [
            "batch\n",
            "after input to device\n",
            "after token_type_ids to device\n",
            "after attention_mask to device\n",
            "after NSL to device\n",
            "after labels to device\n"
          ]
        },
        {
          "output_type": "stream",
          "name": "stderr",
          "text": [
            "Epoch 1:  50%|████▉     | 62/125 [1:00:49<1:01:26, 58.52s/it, loss=0.667]"
          ]
        },
        {
          "output_type": "stream",
          "name": "stdout",
          "text": [
            "batch\n",
            "after input to device\n",
            "after token_type_ids to device\n",
            "after attention_mask to device\n",
            "after NSL to device\n",
            "after labels to device\n"
          ]
        },
        {
          "output_type": "stream",
          "name": "stderr",
          "text": [
            "Epoch 1:  50%|█████     | 63/125 [1:01:52<1:02:02, 60.04s/it, loss=0.413]"
          ]
        },
        {
          "output_type": "stream",
          "name": "stdout",
          "text": [
            "batch\n",
            "after input to device\n",
            "after token_type_ids to device\n",
            "after attention_mask to device\n",
            "after NSL to device\n",
            "after labels to device\n"
          ]
        },
        {
          "output_type": "stream",
          "name": "stderr",
          "text": [
            "Epoch 1:  51%|█████     | 64/125 [1:02:54<1:01:32, 60.54s/it, loss=0.434]"
          ]
        },
        {
          "output_type": "stream",
          "name": "stdout",
          "text": [
            "batch\n",
            "after input to device\n",
            "after token_type_ids to device\n",
            "after attention_mask to device\n",
            "after NSL to device\n",
            "after labels to device\n"
          ]
        },
        {
          "output_type": "stream",
          "name": "stderr",
          "text": [
            "Epoch 1:  52%|█████▏    | 65/125 [1:03:51<59:28, 59.48s/it, loss=0.483]  "
          ]
        },
        {
          "output_type": "stream",
          "name": "stdout",
          "text": [
            "batch\n",
            "after input to device\n",
            "after token_type_ids to device\n",
            "after attention_mask to device\n",
            "after NSL to device\n",
            "after labels to device\n"
          ]
        },
        {
          "output_type": "stream",
          "name": "stderr",
          "text": [
            "Epoch 1:  53%|█████▎    | 66/125 [1:04:49<57:57, 58.94s/it, loss=0.582]"
          ]
        },
        {
          "output_type": "stream",
          "name": "stdout",
          "text": [
            "batch\n",
            "after input to device\n",
            "after token_type_ids to device\n",
            "after attention_mask to device\n",
            "after NSL to device\n",
            "after labels to device\n"
          ]
        },
        {
          "output_type": "stream",
          "name": "stderr",
          "text": [
            "Epoch 1:  54%|█████▎    | 67/125 [1:05:48<56:53, 58.86s/it, loss=0.599]"
          ]
        },
        {
          "output_type": "stream",
          "name": "stdout",
          "text": [
            "batch\n",
            "after input to device\n",
            "after token_type_ids to device\n",
            "after attention_mask to device\n",
            "after NSL to device\n",
            "after labels to device\n"
          ]
        },
        {
          "output_type": "stream",
          "name": "stderr",
          "text": [
            "Epoch 1:  54%|█████▍    | 68/125 [1:06:44<55:20, 58.26s/it, loss=0.248]"
          ]
        },
        {
          "output_type": "stream",
          "name": "stdout",
          "text": [
            "batch\n",
            "after input to device\n",
            "after token_type_ids to device\n",
            "after attention_mask to device\n",
            "after NSL to device\n",
            "after labels to device\n"
          ]
        },
        {
          "output_type": "stream",
          "name": "stderr",
          "text": [
            "Epoch 1:  55%|█████▌    | 69/125 [1:07:42<54:08, 58.01s/it, loss=0.229]"
          ]
        },
        {
          "output_type": "stream",
          "name": "stdout",
          "text": [
            "batch\n",
            "after input to device\n",
            "after token_type_ids to device\n",
            "after attention_mask to device\n",
            "after NSL to device\n",
            "after labels to device\n"
          ]
        },
        {
          "output_type": "stream",
          "name": "stderr",
          "text": [
            "Epoch 1:  56%|█████▌    | 70/125 [1:08:39<52:50, 57.65s/it, loss=0.263]"
          ]
        },
        {
          "output_type": "stream",
          "name": "stdout",
          "text": [
            "batch\n",
            "after input to device\n",
            "after token_type_ids to device\n",
            "after attention_mask to device\n",
            "after NSL to device\n",
            "after labels to device\n"
          ]
        },
        {
          "output_type": "stream",
          "name": "stderr",
          "text": [
            "Epoch 1:  57%|█████▋    | 71/125 [1:09:36<51:44, 57.50s/it, loss=0.271]"
          ]
        },
        {
          "output_type": "stream",
          "name": "stdout",
          "text": [
            "batch\n",
            "after input to device\n",
            "after token_type_ids to device\n",
            "after attention_mask to device\n",
            "after NSL to device\n",
            "after labels to device\n"
          ]
        },
        {
          "output_type": "stream",
          "name": "stderr",
          "text": [
            "Epoch 1:  58%|█████▊    | 72/125 [1:10:34<51:05, 57.83s/it, loss=0.664]"
          ]
        },
        {
          "output_type": "stream",
          "name": "stdout",
          "text": [
            "batch\n",
            "after input to device\n",
            "after token_type_ids to device\n",
            "after attention_mask to device\n",
            "after NSL to device\n",
            "after labels to device\n"
          ]
        },
        {
          "output_type": "stream",
          "name": "stderr",
          "text": [
            "Epoch 1:  58%|█████▊    | 73/125 [1:11:33<50:15, 57.98s/it, loss=0.792]"
          ]
        },
        {
          "output_type": "stream",
          "name": "stdout",
          "text": [
            "batch\n",
            "after input to device\n",
            "after token_type_ids to device\n",
            "after attention_mask to device\n",
            "after NSL to device\n",
            "after labels to device\n"
          ]
        },
        {
          "output_type": "stream",
          "name": "stderr",
          "text": [
            "Epoch 1:  59%|█████▉    | 74/125 [1:12:42<52:11, 61.40s/it, loss=0.705]"
          ]
        },
        {
          "output_type": "stream",
          "name": "stdout",
          "text": [
            "batch\n",
            "after input to device\n",
            "after token_type_ids to device\n",
            "after attention_mask to device\n",
            "after NSL to device\n",
            "after labels to device\n"
          ]
        },
        {
          "output_type": "stream",
          "name": "stderr",
          "text": [
            "Epoch 1:  60%|██████    | 75/125 [1:13:40<50:22, 60.45s/it, loss=0.561]"
          ]
        },
        {
          "output_type": "stream",
          "name": "stdout",
          "text": [
            "batch\n",
            "after input to device\n",
            "after token_type_ids to device\n",
            "after attention_mask to device\n",
            "after NSL to device\n",
            "after labels to device\n"
          ]
        },
        {
          "output_type": "stream",
          "name": "stderr",
          "text": [
            "Epoch 1:  61%|██████    | 76/125 [1:14:40<49:09, 60.19s/it, loss=0.566]"
          ]
        },
        {
          "output_type": "stream",
          "name": "stdout",
          "text": [
            "batch\n",
            "after input to device\n",
            "after token_type_ids to device\n",
            "after attention_mask to device\n",
            "after NSL to device\n",
            "after labels to device\n"
          ]
        },
        {
          "output_type": "stream",
          "name": "stderr",
          "text": [
            "Epoch 1:  62%|██████▏   | 77/125 [1:15:38<47:44, 59.68s/it, loss=0.737]"
          ]
        },
        {
          "output_type": "stream",
          "name": "stdout",
          "text": [
            "batch\n",
            "after input to device\n",
            "after token_type_ids to device\n",
            "after attention_mask to device\n",
            "after NSL to device\n",
            "after labels to device\n"
          ]
        },
        {
          "output_type": "stream",
          "name": "stderr",
          "text": [
            "Epoch 1:  62%|██████▏   | 78/125 [1:16:38<46:43, 59.65s/it, loss=0.409]"
          ]
        },
        {
          "output_type": "stream",
          "name": "stdout",
          "text": [
            "batch\n",
            "after input to device\n",
            "after token_type_ids to device\n",
            "after attention_mask to device\n",
            "after NSL to device\n",
            "after labels to device\n"
          ]
        },
        {
          "output_type": "stream",
          "name": "stderr",
          "text": [
            "Epoch 1:  63%|██████▎   | 79/125 [1:17:36<45:26, 59.27s/it, loss=0.35]"
          ]
        },
        {
          "output_type": "stream",
          "name": "stdout",
          "text": [
            "batch\n",
            "after input to device\n",
            "after token_type_ids to device\n",
            "after attention_mask to device\n",
            "after NSL to device\n",
            "after labels to device\n"
          ]
        },
        {
          "output_type": "stream",
          "name": "stderr",
          "text": [
            "Epoch 1:  64%|██████▍   | 80/125 [1:18:37<44:47, 59.73s/it, loss=0.309]"
          ]
        },
        {
          "output_type": "stream",
          "name": "stdout",
          "text": [
            "batch\n",
            "after input to device\n",
            "after token_type_ids to device\n",
            "after attention_mask to device\n",
            "after NSL to device\n",
            "after labels to device\n"
          ]
        },
        {
          "output_type": "stream",
          "name": "stderr",
          "text": [
            "Epoch 1:  65%|██████▍   | 81/125 [1:19:37<43:53, 59.85s/it, loss=0.416]"
          ]
        },
        {
          "output_type": "stream",
          "name": "stdout",
          "text": [
            "batch\n",
            "after input to device\n",
            "after token_type_ids to device\n",
            "after attention_mask to device\n",
            "after NSL to device\n",
            "after labels to device\n"
          ]
        },
        {
          "output_type": "stream",
          "name": "stderr",
          "text": [
            "Epoch 1:  66%|██████▌   | 82/125 [1:20:35<42:23, 59.14s/it, loss=0.175]"
          ]
        },
        {
          "output_type": "stream",
          "name": "stdout",
          "text": [
            "batch\n",
            "after input to device\n",
            "after token_type_ids to device\n",
            "after attention_mask to device\n",
            "after NSL to device\n",
            "after labels to device\n"
          ]
        },
        {
          "output_type": "stream",
          "name": "stderr",
          "text": [
            "Epoch 1:  66%|██████▋   | 83/125 [1:21:32<40:55, 58.47s/it, loss=0.308]"
          ]
        },
        {
          "output_type": "stream",
          "name": "stdout",
          "text": [
            "batch\n",
            "after input to device\n",
            "after token_type_ids to device\n",
            "after attention_mask to device\n",
            "after NSL to device\n",
            "after labels to device\n"
          ]
        },
        {
          "output_type": "stream",
          "name": "stderr",
          "text": [
            "Epoch 1:  67%|██████▋   | 84/125 [1:22:29<39:43, 58.14s/it, loss=0.511]"
          ]
        },
        {
          "output_type": "stream",
          "name": "stdout",
          "text": [
            "batch\n",
            "after input to device\n",
            "after token_type_ids to device\n",
            "after attention_mask to device\n",
            "after NSL to device\n",
            "after labels to device\n"
          ]
        },
        {
          "output_type": "stream",
          "name": "stderr",
          "text": [
            "Epoch 1:  68%|██████▊   | 85/125 [1:23:28<38:59, 58.49s/it, loss=0.693]"
          ]
        },
        {
          "output_type": "stream",
          "name": "stdout",
          "text": [
            "batch\n",
            "after input to device\n",
            "after token_type_ids to device\n",
            "after attention_mask to device\n",
            "after NSL to device\n",
            "after labels to device\n"
          ]
        },
        {
          "output_type": "stream",
          "name": "stderr",
          "text": [
            "Epoch 1:  69%|██████▉   | 86/125 [1:24:27<37:58, 58.41s/it, loss=0.609]"
          ]
        },
        {
          "output_type": "stream",
          "name": "stdout",
          "text": [
            "batch\n",
            "after input to device\n",
            "after token_type_ids to device\n",
            "after attention_mask to device\n",
            "after NSL to device\n",
            "after labels to device\n"
          ]
        },
        {
          "output_type": "stream",
          "name": "stderr",
          "text": [
            "Epoch 1:  70%|██████▉   | 87/125 [1:25:25<37:02, 58.50s/it, loss=0.52]"
          ]
        },
        {
          "output_type": "stream",
          "name": "stdout",
          "text": [
            "batch\n",
            "after input to device\n",
            "after token_type_ids to device\n",
            "after attention_mask to device\n",
            "after NSL to device\n",
            "after labels to device\n"
          ]
        },
        {
          "output_type": "stream",
          "name": "stderr",
          "text": [
            "Epoch 1:  70%|███████   | 88/125 [1:26:24<36:01, 58.43s/it, loss=0.307]"
          ]
        },
        {
          "output_type": "stream",
          "name": "stdout",
          "text": [
            "batch\n",
            "after input to device\n",
            "after token_type_ids to device\n",
            "after attention_mask to device\n",
            "after NSL to device\n",
            "after labels to device\n"
          ]
        },
        {
          "output_type": "stream",
          "name": "stderr",
          "text": [
            "Epoch 1:  71%|███████   | 89/125 [1:27:21<34:49, 58.03s/it, loss=0.359]"
          ]
        },
        {
          "output_type": "stream",
          "name": "stdout",
          "text": [
            "batch\n",
            "after input to device\n",
            "after token_type_ids to device\n",
            "after attention_mask to device\n",
            "after NSL to device\n",
            "after labels to device\n"
          ]
        },
        {
          "output_type": "stream",
          "name": "stderr",
          "text": [
            "Epoch 1:  72%|███████▏  | 90/125 [1:28:22<34:30, 59.15s/it, loss=0.483]"
          ]
        },
        {
          "output_type": "stream",
          "name": "stdout",
          "text": [
            "batch\n",
            "after input to device\n",
            "after token_type_ids to device\n",
            "after attention_mask to device\n",
            "after NSL to device\n",
            "after labels to device\n"
          ]
        },
        {
          "output_type": "stream",
          "name": "stderr",
          "text": [
            "Epoch 1:  73%|███████▎  | 91/125 [1:29:23<33:40, 59.44s/it, loss=0.534]"
          ]
        },
        {
          "output_type": "stream",
          "name": "stdout",
          "text": [
            "batch\n",
            "after input to device\n",
            "after token_type_ids to device\n",
            "after attention_mask to device\n",
            "after NSL to device\n",
            "after labels to device\n"
          ]
        },
        {
          "output_type": "stream",
          "name": "stderr",
          "text": [
            "Epoch 1:  74%|███████▎  | 92/125 [1:30:20<32:25, 58.95s/it, loss=0.233]"
          ]
        },
        {
          "output_type": "stream",
          "name": "stdout",
          "text": [
            "batch\n",
            "after input to device\n",
            "after token_type_ids to device\n",
            "after attention_mask to device\n",
            "after NSL to device\n",
            "after labels to device\n"
          ]
        },
        {
          "output_type": "stream",
          "name": "stderr",
          "text": [
            "Epoch 1:  74%|███████▍  | 93/125 [1:31:20<31:36, 59.25s/it, loss=0.524]"
          ]
        },
        {
          "output_type": "stream",
          "name": "stdout",
          "text": [
            "batch\n",
            "after input to device\n",
            "after token_type_ids to device\n",
            "after attention_mask to device\n",
            "after NSL to device\n",
            "after labels to device\n"
          ]
        },
        {
          "output_type": "stream",
          "name": "stderr",
          "text": [
            "Epoch 1:  75%|███████▌  | 94/125 [1:32:19<30:31, 59.09s/it, loss=0.577]"
          ]
        },
        {
          "output_type": "stream",
          "name": "stdout",
          "text": [
            "batch\n",
            "after input to device\n",
            "after token_type_ids to device\n",
            "after attention_mask to device\n",
            "after NSL to device\n",
            "after labels to device\n"
          ]
        },
        {
          "output_type": "stream",
          "name": "stderr",
          "text": [
            "Epoch 1:  76%|███████▌  | 95/125 [1:33:18<29:28, 58.96s/it, loss=0.511]"
          ]
        },
        {
          "output_type": "stream",
          "name": "stdout",
          "text": [
            "batch\n",
            "after input to device\n",
            "after token_type_ids to device\n",
            "after attention_mask to device\n",
            "after NSL to device\n",
            "after labels to device\n"
          ]
        },
        {
          "output_type": "stream",
          "name": "stderr",
          "text": [
            "Epoch 1:  77%|███████▋  | 96/125 [1:34:17<28:34, 59.13s/it, loss=1]"
          ]
        },
        {
          "output_type": "stream",
          "name": "stdout",
          "text": [
            "batch\n",
            "after input to device\n",
            "after token_type_ids to device\n",
            "after attention_mask to device\n",
            "after NSL to device\n",
            "after labels to device\n"
          ]
        },
        {
          "output_type": "stream",
          "name": "stderr",
          "text": [
            "Epoch 1:  78%|███████▊  | 97/125 [1:35:16<27:30, 58.95s/it, loss=0.682]"
          ]
        },
        {
          "output_type": "stream",
          "name": "stdout",
          "text": [
            "batch\n",
            "after input to device\n",
            "after token_type_ids to device\n",
            "after attention_mask to device\n",
            "after NSL to device\n",
            "after labels to device\n"
          ]
        },
        {
          "output_type": "stream",
          "name": "stderr",
          "text": [
            "Epoch 1:  78%|███████▊  | 98/125 [1:36:14<26:29, 58.87s/it, loss=0.447]"
          ]
        },
        {
          "output_type": "stream",
          "name": "stdout",
          "text": [
            "batch\n",
            "after input to device\n",
            "after token_type_ids to device\n",
            "after attention_mask to device\n",
            "after NSL to device\n",
            "after labels to device\n"
          ]
        },
        {
          "output_type": "stream",
          "name": "stderr",
          "text": [
            "Epoch 1:  79%|███████▉  | 99/125 [1:37:13<25:28, 58.77s/it, loss=0.154]"
          ]
        },
        {
          "output_type": "stream",
          "name": "stdout",
          "text": [
            "batch\n",
            "after input to device\n",
            "after token_type_ids to device\n",
            "after attention_mask to device\n",
            "after NSL to device\n",
            "after labels to device\n"
          ]
        },
        {
          "output_type": "stream",
          "name": "stderr",
          "text": [
            "Epoch 1:  80%|████████  | 100/125 [1:38:14<24:48, 59.55s/it, loss=0.27]"
          ]
        },
        {
          "output_type": "stream",
          "name": "stdout",
          "text": [
            "batch\n",
            "after input to device\n",
            "after token_type_ids to device\n",
            "after attention_mask to device\n",
            "after NSL to device\n",
            "after labels to device\n"
          ]
        },
        {
          "output_type": "stream",
          "name": "stderr",
          "text": [
            "Epoch 1:  81%|████████  | 101/125 [1:39:14<23:53, 59.74s/it, loss=0.493]"
          ]
        },
        {
          "output_type": "stream",
          "name": "stdout",
          "text": [
            "batch\n",
            "after input to device\n",
            "after token_type_ids to device\n",
            "after attention_mask to device\n",
            "after NSL to device\n",
            "after labels to device\n"
          ]
        },
        {
          "output_type": "stream",
          "name": "stderr",
          "text": [
            "Epoch 1:  82%|████████▏ | 102/125 [1:40:12<22:40, 59.14s/it, loss=0.879]"
          ]
        },
        {
          "output_type": "stream",
          "name": "stdout",
          "text": [
            "batch\n",
            "after input to device\n",
            "after token_type_ids to device\n",
            "after attention_mask to device\n",
            "after NSL to device\n",
            "after labels to device\n"
          ]
        },
        {
          "output_type": "stream",
          "name": "stderr",
          "text": [
            "Epoch 1:  82%|████████▏ | 103/125 [1:41:10<21:31, 58.71s/it, loss=0.621]"
          ]
        },
        {
          "output_type": "stream",
          "name": "stdout",
          "text": [
            "batch\n",
            "after input to device\n",
            "after token_type_ids to device\n",
            "after attention_mask to device\n",
            "after NSL to device\n",
            "after labels to device\n"
          ]
        },
        {
          "output_type": "stream",
          "name": "stderr",
          "text": [
            "Epoch 1:  83%|████████▎ | 104/125 [1:42:10<20:41, 59.11s/it, loss=0.624]"
          ]
        },
        {
          "output_type": "stream",
          "name": "stdout",
          "text": [
            "batch\n",
            "after input to device\n",
            "after token_type_ids to device\n",
            "after attention_mask to device\n",
            "after NSL to device\n",
            "after labels to device\n"
          ]
        },
        {
          "output_type": "stream",
          "name": "stderr",
          "text": [
            "Epoch 1:  84%|████████▍ | 105/125 [1:43:09<19:40, 59.03s/it, loss=0.457]"
          ]
        },
        {
          "output_type": "stream",
          "name": "stdout",
          "text": [
            "batch\n",
            "after input to device\n",
            "after token_type_ids to device\n",
            "after attention_mask to device\n",
            "after NSL to device\n",
            "after labels to device\n"
          ]
        },
        {
          "output_type": "stream",
          "name": "stderr",
          "text": [
            "Epoch 1:  85%|████████▍ | 106/125 [1:44:07<18:35, 58.69s/it, loss=0.744]"
          ]
        },
        {
          "output_type": "stream",
          "name": "stdout",
          "text": [
            "batch\n",
            "after input to device\n",
            "after token_type_ids to device\n",
            "after attention_mask to device\n",
            "after NSL to device\n",
            "after labels to device\n"
          ]
        },
        {
          "output_type": "stream",
          "name": "stderr",
          "text": [
            "Epoch 1:  86%|████████▌ | 107/125 [1:45:05<17:31, 58.43s/it, loss=0.549]"
          ]
        },
        {
          "output_type": "stream",
          "name": "stdout",
          "text": [
            "batch\n",
            "after input to device\n",
            "after token_type_ids to device\n",
            "after attention_mask to device\n",
            "after NSL to device\n",
            "after labels to device\n"
          ]
        },
        {
          "output_type": "stream",
          "name": "stderr",
          "text": [
            "Epoch 1:  86%|████████▋ | 108/125 [1:46:03<16:31, 58.35s/it, loss=0.556]"
          ]
        },
        {
          "output_type": "stream",
          "name": "stdout",
          "text": [
            "batch\n",
            "after input to device\n",
            "after token_type_ids to device\n",
            "after attention_mask to device\n",
            "after NSL to device\n",
            "after labels to device\n"
          ]
        },
        {
          "output_type": "stream",
          "name": "stderr",
          "text": [
            "Epoch 1:  87%|████████▋ | 109/125 [1:47:01<15:34, 58.43s/it, loss=0.312]"
          ]
        },
        {
          "output_type": "stream",
          "name": "stdout",
          "text": [
            "batch\n",
            "after input to device\n",
            "after token_type_ids to device\n",
            "after attention_mask to device\n",
            "after NSL to device\n",
            "after labels to device\n"
          ]
        },
        {
          "output_type": "stream",
          "name": "stderr",
          "text": [
            "Epoch 1:  88%|████████▊ | 110/125 [1:48:04<14:56, 59.77s/it, loss=0.687]"
          ]
        },
        {
          "output_type": "stream",
          "name": "stdout",
          "text": [
            "batch\n",
            "after input to device\n",
            "after token_type_ids to device\n",
            "after attention_mask to device\n",
            "after NSL to device\n",
            "after labels to device\n"
          ]
        },
        {
          "output_type": "stream",
          "name": "stderr",
          "text": [
            "Epoch 1:  89%|████████▉ | 111/125 [1:49:06<14:04, 60.36s/it, loss=0.905]"
          ]
        },
        {
          "output_type": "stream",
          "name": "stdout",
          "text": [
            "batch\n",
            "after input to device\n",
            "after token_type_ids to device\n",
            "after attention_mask to device\n",
            "after NSL to device\n",
            "after labels to device\n"
          ]
        },
        {
          "output_type": "stream",
          "name": "stderr",
          "text": [
            "Epoch 1:  90%|████████▉ | 112/125 [1:50:06<13:03, 60.23s/it, loss=0.593]"
          ]
        },
        {
          "output_type": "stream",
          "name": "stdout",
          "text": [
            "batch\n",
            "after input to device\n",
            "after token_type_ids to device\n",
            "after attention_mask to device\n",
            "after NSL to device\n",
            "after labels to device\n"
          ]
        },
        {
          "output_type": "stream",
          "name": "stderr",
          "text": [
            "Epoch 1:  90%|█████████ | 113/125 [1:51:05<11:58, 59.87s/it, loss=0.516]"
          ]
        },
        {
          "output_type": "stream",
          "name": "stdout",
          "text": [
            "batch\n",
            "after input to device\n",
            "after token_type_ids to device\n",
            "after attention_mask to device\n",
            "after NSL to device\n",
            "after labels to device\n"
          ]
        },
        {
          "output_type": "stream",
          "name": "stderr",
          "text": [
            "Epoch 1:  91%|█████████ | 114/125 [1:52:04<10:57, 59.75s/it, loss=0.385]"
          ]
        },
        {
          "output_type": "stream",
          "name": "stdout",
          "text": [
            "batch\n",
            "after input to device\n",
            "after token_type_ids to device\n",
            "after attention_mask to device\n",
            "after NSL to device\n",
            "after labels to device\n"
          ]
        },
        {
          "output_type": "stream",
          "name": "stderr",
          "text": [
            "Epoch 1:  92%|█████████▏| 115/125 [1:53:03<09:55, 59.52s/it, loss=0.426]"
          ]
        },
        {
          "output_type": "stream",
          "name": "stdout",
          "text": [
            "batch\n",
            "after input to device\n",
            "after token_type_ids to device\n",
            "after attention_mask to device\n",
            "after NSL to device\n",
            "after labels to device\n"
          ]
        },
        {
          "output_type": "stream",
          "name": "stderr",
          "text": [
            "Epoch 1:  93%|█████████▎| 116/125 [1:54:02<08:52, 59.12s/it, loss=0.379]"
          ]
        },
        {
          "output_type": "stream",
          "name": "stdout",
          "text": [
            "batch\n",
            "after input to device\n",
            "after token_type_ids to device\n",
            "after attention_mask to device\n",
            "after NSL to device\n",
            "after labels to device\n"
          ]
        },
        {
          "output_type": "stream",
          "name": "stderr",
          "text": [
            "Epoch 1:  94%|█████████▎| 117/125 [1:55:00<07:51, 58.92s/it, loss=0.692]"
          ]
        },
        {
          "output_type": "stream",
          "name": "stdout",
          "text": [
            "batch\n",
            "after input to device\n",
            "after token_type_ids to device\n",
            "after attention_mask to device\n",
            "after NSL to device\n",
            "after labels to device\n"
          ]
        },
        {
          "output_type": "stream",
          "name": "stderr",
          "text": [
            "Epoch 1:  94%|█████████▍| 118/125 [1:55:58<06:50, 58.63s/it, loss=0.538]"
          ]
        },
        {
          "output_type": "stream",
          "name": "stdout",
          "text": [
            "batch\n",
            "after input to device\n",
            "after token_type_ids to device\n",
            "after attention_mask to device\n",
            "after NSL to device\n",
            "after labels to device\n"
          ]
        },
        {
          "output_type": "stream",
          "name": "stderr",
          "text": [
            "Epoch 1:  95%|█████████▌| 119/125 [1:56:56<05:50, 58.35s/it, loss=0.726]"
          ]
        },
        {
          "output_type": "stream",
          "name": "stdout",
          "text": [
            "batch\n",
            "after input to device\n",
            "after token_type_ids to device\n",
            "after attention_mask to device\n",
            "after NSL to device\n",
            "after labels to device\n"
          ]
        },
        {
          "output_type": "stream",
          "name": "stderr",
          "text": [
            "Epoch 1:  96%|█████████▌| 120/125 [1:57:54<04:52, 58.44s/it, loss=0.503]"
          ]
        },
        {
          "output_type": "stream",
          "name": "stdout",
          "text": [
            "batch\n",
            "after input to device\n",
            "after token_type_ids to device\n",
            "after attention_mask to device\n",
            "after NSL to device\n",
            "after labels to device\n"
          ]
        },
        {
          "output_type": "stream",
          "name": "stderr",
          "text": [
            "Epoch 1:  97%|█████████▋| 121/125 [1:59:01<04:03, 60.78s/it, loss=0.581]"
          ]
        },
        {
          "output_type": "stream",
          "name": "stdout",
          "text": [
            "batch\n",
            "after input to device\n",
            "after token_type_ids to device\n",
            "after attention_mask to device\n",
            "after NSL to device\n",
            "after labels to device\n"
          ]
        },
        {
          "output_type": "stream",
          "name": "stderr",
          "text": [
            "Epoch 1:  98%|█████████▊| 122/125 [1:59:58<02:59, 59.78s/it, loss=0.495]"
          ]
        },
        {
          "output_type": "stream",
          "name": "stdout",
          "text": [
            "batch\n",
            "after input to device\n",
            "after token_type_ids to device\n",
            "after attention_mask to device\n",
            "after NSL to device\n",
            "after labels to device\n"
          ]
        },
        {
          "output_type": "stream",
          "name": "stderr",
          "text": [
            "Epoch 1:  98%|█████████▊| 123/125 [2:00:56<01:58, 59.23s/it, loss=0.356]"
          ]
        },
        {
          "output_type": "stream",
          "name": "stdout",
          "text": [
            "batch\n",
            "after input to device\n",
            "after token_type_ids to device\n",
            "after attention_mask to device\n",
            "after NSL to device\n",
            "after labels to device\n"
          ]
        },
        {
          "output_type": "stream",
          "name": "stderr",
          "text": [
            "Epoch 1:  99%|█████████▉| 124/125 [2:01:53<00:58, 58.70s/it, loss=0.51]"
          ]
        },
        {
          "output_type": "stream",
          "name": "stdout",
          "text": [
            "batch\n",
            "after input to device\n",
            "after token_type_ids to device\n",
            "after attention_mask to device\n",
            "after NSL to device\n",
            "after labels to device\n"
          ]
        },
        {
          "output_type": "stream",
          "name": "stderr",
          "text": [
            ""
          ]
        }
      ],
      "source": [
        "from tqdm import tqdm  # for our progress bar\n",
        "\n",
        "epochs = 2\n",
        "\n",
        "for epoch in range(epochs):\n",
        "    # setup loop with TQDM and dataloader\n",
        "    loop = tqdm(loader, leave=False)\n",
        "    for batch in loop:\n",
        "        print(\"batch\")\n",
        "        # initialize calculated gradients (from prev step)\n",
        "        optim.zero_grad()\n",
        "        # pull all tensor batches required for training\n",
        "        input_ids = batch['input_ids'].to(device)\n",
        "        print(\"after input to device\")\n",
        "        token_type_ids = batch['token_type_ids'].to(device)\n",
        "        print(\"after token_type_ids to device\")\n",
        "        attention_mask = batch['attention_mask'].to(device)\n",
        "        print(\"after attention_mask to device\")\n",
        "        \n",
        "        next_sentence_label = batch['next_sentence_label'].to(device)\n",
        "        print(\"after NSL to device\")\n",
        "        \n",
        "        labels = batch['labels'].to(device)\n",
        "        print(\"after labels to device\")\n",
        "        \n",
        "        # process\n",
        "        outputs = model(input_ids, attention_mask=attention_mask,\n",
        "                        token_type_ids=token_type_ids,\n",
        "                        next_sentence_label=next_sentence_label,\n",
        "                        labels=labels)\n",
        "        # extract loss\n",
        "        loss = outputs.loss\n",
        "        # calculate loss for every parameter that needs grad update\n",
        "        loss.backward()\n",
        "        # update parameters\n",
        "        optim.step()\n",
        "        # print relevant info to progress bar\n",
        "        loop.set_description(f'Epoch {epoch}')\n",
        "        loop.set_postfix(loss=loss.item())\n"
      ]
    },
    {
      "cell_type": "code",
      "source": [
        "def predict_masked_sent(text, top_k, model, tokenizer):\n",
        "    model.to(device)\n",
        "\n",
        "    model.eval()\n",
        "\n",
        "    # Tokenize input\n",
        "    tokenized_text = tokenizer.tokenize(text)\n",
        "    masked_index = tokenized_text.index(\"[MASK]\")\n",
        "    indexed_tokens = tokenizer.convert_tokens_to_ids(tokenized_text)\n",
        "    tokens_tensor = torch.tensor([indexed_tokens])\n",
        "    # tokens_tensor = tokens_tensor.to('cuda')\n",
        "\n",
        "    # Predict all tokens\n",
        "    with torch.no_grad():\n",
        "        outputs = model(tokens_tensor)\n",
        "        predictions = outputs[0]\n",
        "\n",
        "    probs = torch.nn.functional.softmax(predictions[0, masked_index], dim=-1)\n",
        "    top_k_weights, top_k_indices = torch.topk(probs, top_k, sorted=True)\n",
        "\n",
        "    for i, pred_idx in enumerate(top_k_indices):\n",
        "        predicted_token = tokenizer.convert_ids_to_tokens([pred_idx])[0]\n",
        "        token_weight = top_k_weights[i]\n",
        "        print(\"[MASK]: '%s'\"%predicted_token, \" | weights:\", float(token_weight))"
      ],
      "metadata": {
        "id": "pIT6zawq1j4y"
      },
      "execution_count": null,
      "outputs": []
    },
    {
      "cell_type": "code",
      "source": [
        "sentence = \"[CLS] we [MASK] documents based on subject. [SEP] we cluster documents based on subject [CLS]\"\n",
        "sentence2 = \"[CLS] we [MASK] documents based on subject. [CLS]\"\n",
        "\n",
        "predict_masked_sent(sentence, 5, model, tokenizer)\n",
        "print()\n",
        "predict_masked_sent(sentence2, 5, model, tokenizer)\n"
      ],
      "metadata": {
        "colab": {
          "base_uri": "https://localhost:8080/"
        },
        "id": "tEo7hs9l1s9f",
        "outputId": "2d57d274-876b-4464-e11c-b0781976d193"
      },
      "execution_count": null,
      "outputs": [
        {
          "output_type": "stream",
          "name": "stdout",
          "text": [
            "[MASK]: 'cluster'  | weights: 0.43790990114212036\n",
            "[MASK]: '[PAD]'  | weights: 0.1074443832039833\n",
            "[MASK]: 'add'  | weights: 0.011403925716876984\n",
            "[MASK]: 'clustered'  | weights: 0.010327151045203209\n",
            "[MASK]: 'compact'  | weights: 0.009970532730221748\n",
            "\n",
            "[MASK]: '##ve'  | weights: 0.17298102378845215\n",
            "[MASK]: 'have'  | weights: 0.04960228130221367\n",
            "[MASK]: 'to'  | weights: 0.04892673343420029\n",
            "[MASK]: 'was'  | weights: 0.044326528906822205\n",
            "[MASK]: 'had'  | weights: 0.03716942295432091\n"
          ]
        }
      ]
    },
    {
      "cell_type": "code",
      "source": [
        "from transformers import AutoTokenizer, AutoModelForMaskedLM"
      ],
      "metadata": {
        "id": "3b9Tnd6g3VO9"
      },
      "execution_count": null,
      "outputs": []
    },
    {
      "cell_type": "code",
      "source": [
        "base_tokenizer = AutoTokenizer.from_pretrained(\"bert-base-uncased\")\n",
        "base_model = AutoModelForMaskedLM.from_pretrained(\"bert-base-uncased\")\n",
        "\n"
      ],
      "metadata": {
        "colab": {
          "base_uri": "https://localhost:8080/"
        },
        "id": "9bUTg-SR3JKP",
        "outputId": "fdeaad39-e8a5-40ae-a72d-65b8c4390dfe"
      },
      "execution_count": null,
      "outputs": [
        {
          "output_type": "stream",
          "name": "stderr",
          "text": [
            "Some weights of the model checkpoint at bert-base-uncased were not used when initializing BertForMaskedLM: ['cls.seq_relationship.bias', 'cls.seq_relationship.weight']\n",
            "- This IS expected if you are initializing BertForMaskedLM from the checkpoint of a model trained on another task or with another architecture (e.g. initializing a BertForSequenceClassification model from a BertForPreTraining model).\n",
            "- This IS NOT expected if you are initializing BertForMaskedLM from the checkpoint of a model that you expect to be exactly identical (initializing a BertForSequenceClassification model from a BertForSequenceClassification model).\n"
          ]
        }
      ]
    },
    {
      "cell_type": "code",
      "source": [
        "predict_masked_sent(sentence, 5, base_model, base_tokenizer)\n",
        "print()\n",
        "predict_masked_sent(sentence2, 5, base_model, base_tokenizer)"
      ],
      "metadata": {
        "colab": {
          "base_uri": "https://localhost:8080/"
        },
        "id": "mcHNHTC736Lm",
        "outputId": "8d2c587e-b222-41bf-b6ba-e701c8e74895"
      },
      "execution_count": null,
      "outputs": [
        {
          "output_type": "stream",
          "name": "stdout",
          "text": [
            "[MASK]: 'cluster'  | weights: 0.33416369557380676\n",
            "[MASK]: 'compare'  | weights: 0.16992069780826569\n",
            "[MASK]: 'label'  | weights: 0.03357220068573952\n",
            "[MASK]: 'create'  | weights: 0.023759303614497185\n",
            "[MASK]: 'construct'  | weights: 0.021330634132027626\n",
            "\n",
            "[MASK]: 'have'  | weights: 0.05249989032745361\n",
            "[MASK]: 'are'  | weights: 0.037207696586847305\n",
            "[MASK]: 'do'  | weights: 0.02007931098341942\n",
            "[MASK]: '.'  | weights: 0.015799084678292274\n",
            "[MASK]: 'were'  | weights: 0.014494902454316616\n"
          ]
        }
      ]
    },
    {
      "cell_type": "code",
      "source": [
        "import os"
      ],
      "metadata": {
        "id": "Z482v2wY_MYO"
      },
      "execution_count": null,
      "outputs": []
    },
    {
      "cell_type": "code",
      "source": [
        "output_dir = '/content/drive/MyDrive/Thesis/notebooks/23march'\n",
        "\n",
        "# Create output directory if needed\n",
        "if not os.path.exists(output_dir):\n",
        "    os.makedirs(output_dir)\n",
        "\n",
        "print(\"Saving model to %s\" % output_dir)\n",
        "\n",
        "# Save a trained model, configuration and tokenizer using `save_pretrained()`.\n",
        "# They can then be reloaded using `from_pretrained()`\n",
        "model_to_save = model.module if hasattr(model, 'module') else model  # Take care of distributed/parallel training\n",
        "model_to_save.save_pretrained(output_dir)\n",
        "tokenizer.save_pretrained(output_dir)"
      ],
      "metadata": {
        "colab": {
          "base_uri": "https://localhost:8080/"
        },
        "id": "gWT91e_v_A0V",
        "outputId": "1df73ecb-0035-4c64-9fa0-8da6799fe5ea"
      },
      "execution_count": null,
      "outputs": [
        {
          "output_type": "stream",
          "name": "stdout",
          "text": [
            "Saving model to /content/drive/MyDrive/Thesis/notebooks/23march\n"
          ]
        },
        {
          "output_type": "execute_result",
          "data": {
            "text/plain": [
              "('/content/drive/MyDrive/Thesis/notebooks/23march/tokenizer_config.json',\n",
              " '/content/drive/MyDrive/Thesis/notebooks/23march/special_tokens_map.json',\n",
              " '/content/drive/MyDrive/Thesis/notebooks/23march/vocab.txt',\n",
              " '/content/drive/MyDrive/Thesis/notebooks/23march/added_tokens.json',\n",
              " '/content/drive/MyDrive/Thesis/notebooks/23march/tokenizer.json')"
            ]
          },
          "metadata": {},
          "execution_count": 28
        }
      ]
    },
    {
      "cell_type": "code",
      "source": [
        "from transformers import BertModel, BertTokenizer, AutoModel, AutoTokenizer"
      ],
      "metadata": {
        "id": "U4sxuma__Xms"
      },
      "execution_count": null,
      "outputs": []
    },
    {
      "cell_type": "code",
      "source": [
        "loaded_model = BertForPreTraining.from_pretrained(\"/content/drive/MyDrive/Thesis/notebooks/23march\")\n",
        "loaded_tokenizer = BertTokenizerFast.from_pretrained(\"/content/drive/MyDrive/Thesis/notebooks/23march\")"
      ],
      "metadata": {
        "id": "s5R5Giw3_PQm"
      },
      "execution_count": null,
      "outputs": []
    },
    {
      "cell_type": "code",
      "source": [
        "predict_masked_sent(sentence, 5, loaded_model, loaded_tokenizer)\n",
        "predict_masked_sent(sentence2, 5, loaded_model, loaded_tokenizer)"
      ],
      "metadata": {
        "colab": {
          "base_uri": "https://localhost:8080/"
        },
        "id": "qrD4kky0_j4b",
        "outputId": "d9f9d812-417a-4fa9-96d4-e7afe027b4e5"
      },
      "execution_count": null,
      "outputs": [
        {
          "output_type": "stream",
          "name": "stdout",
          "text": [
            "[MASK]: 'cluster'  | weights: 0.43790990114212036\n",
            "[MASK]: '[PAD]'  | weights: 0.1074443832039833\n",
            "[MASK]: 'add'  | weights: 0.011403925716876984\n",
            "[MASK]: 'clustered'  | weights: 0.010327151045203209\n",
            "[MASK]: 'compact'  | weights: 0.009970532730221748\n",
            "[MASK]: '##ve'  | weights: 0.17298102378845215\n",
            "[MASK]: 'have'  | weights: 0.04960228130221367\n",
            "[MASK]: 'to'  | weights: 0.04892673343420029\n",
            "[MASK]: 'was'  | weights: 0.044326528906822205\n",
            "[MASK]: 'had'  | weights: 0.03716942295432091\n"
          ]
        }
      ]
    }
  ],
  "metadata": {
    "colab": {
      "name": "Combined Loss ",
      "provenance": [],
      "collapsed_sections": [],
      "mount_file_id": "1Vcv0Up_6T40hpKqu2CHzJPhYYisFkuUe",
      "authorship_tag": "ABX9TyPWpBSPoUWtnqE1C3T1Pm60",
      "include_colab_link": true
    },
    "kernelspec": {
      "display_name": "Python 3",
      "name": "python3"
    },
    "language_info": {
      "name": "python"
    },
    "widgets": {
      "application/vnd.jupyter.widget-state+json": {
        "b946e2182ab74e1094040b1eeec5d143": {
          "model_module": "@jupyter-widgets/controls",
          "model_name": "HBoxModel",
          "model_module_version": "1.5.0",
          "state": {
            "_dom_classes": [],
            "_model_module": "@jupyter-widgets/controls",
            "_model_module_version": "1.5.0",
            "_model_name": "HBoxModel",
            "_view_count": null,
            "_view_module": "@jupyter-widgets/controls",
            "_view_module_version": "1.5.0",
            "_view_name": "HBoxView",
            "box_style": "",
            "children": [
              "IPY_MODEL_ae0e6725747a4ae88b8dbeed731eef25",
              "IPY_MODEL_f00319bd6ed34110a24ae85377dddc4b",
              "IPY_MODEL_c4a42684f4de441795498d8a32031b88"
            ],
            "layout": "IPY_MODEL_6234fc8d929847ab8e44be48304f7e46"
          }
        },
        "ae0e6725747a4ae88b8dbeed731eef25": {
          "model_module": "@jupyter-widgets/controls",
          "model_name": "HTMLModel",
          "model_module_version": "1.5.0",
          "state": {
            "_dom_classes": [],
            "_model_module": "@jupyter-widgets/controls",
            "_model_module_version": "1.5.0",
            "_model_name": "HTMLModel",
            "_view_count": null,
            "_view_module": "@jupyter-widgets/controls",
            "_view_module_version": "1.5.0",
            "_view_name": "HTMLView",
            "description": "",
            "description_tooltip": null,
            "layout": "IPY_MODEL_66477f0f14c541c3b77b830267e7e6da",
            "placeholder": "​",
            "style": "IPY_MODEL_f710bda097044935a79f256b554fbdb0",
            "value": "Downloading: 100%"
          }
        },
        "f00319bd6ed34110a24ae85377dddc4b": {
          "model_module": "@jupyter-widgets/controls",
          "model_name": "FloatProgressModel",
          "model_module_version": "1.5.0",
          "state": {
            "_dom_classes": [],
            "_model_module": "@jupyter-widgets/controls",
            "_model_module_version": "1.5.0",
            "_model_name": "FloatProgressModel",
            "_view_count": null,
            "_view_module": "@jupyter-widgets/controls",
            "_view_module_version": "1.5.0",
            "_view_name": "ProgressView",
            "bar_style": "success",
            "description": "",
            "description_tooltip": null,
            "layout": "IPY_MODEL_1f994557ce7743a788a4e7ff147ee18f",
            "max": 28,
            "min": 0,
            "orientation": "horizontal",
            "style": "IPY_MODEL_bd632d7dac39437c85981b095e8e49bb",
            "value": 28
          }
        },
        "c4a42684f4de441795498d8a32031b88": {
          "model_module": "@jupyter-widgets/controls",
          "model_name": "HTMLModel",
          "model_module_version": "1.5.0",
          "state": {
            "_dom_classes": [],
            "_model_module": "@jupyter-widgets/controls",
            "_model_module_version": "1.5.0",
            "_model_name": "HTMLModel",
            "_view_count": null,
            "_view_module": "@jupyter-widgets/controls",
            "_view_module_version": "1.5.0",
            "_view_name": "HTMLView",
            "description": "",
            "description_tooltip": null,
            "layout": "IPY_MODEL_bee8c5b34e0b4736932420bcd858ce58",
            "placeholder": "​",
            "style": "IPY_MODEL_ef721870adbf4f0584e2ea27952ee501",
            "value": " 28.0/28.0 [00:00&lt;00:00, 171B/s]"
          }
        },
        "6234fc8d929847ab8e44be48304f7e46": {
          "model_module": "@jupyter-widgets/base",
          "model_name": "LayoutModel",
          "model_module_version": "1.2.0",
          "state": {
            "_model_module": "@jupyter-widgets/base",
            "_model_module_version": "1.2.0",
            "_model_name": "LayoutModel",
            "_view_count": null,
            "_view_module": "@jupyter-widgets/base",
            "_view_module_version": "1.2.0",
            "_view_name": "LayoutView",
            "align_content": null,
            "align_items": null,
            "align_self": null,
            "border": null,
            "bottom": null,
            "display": null,
            "flex": null,
            "flex_flow": null,
            "grid_area": null,
            "grid_auto_columns": null,
            "grid_auto_flow": null,
            "grid_auto_rows": null,
            "grid_column": null,
            "grid_gap": null,
            "grid_row": null,
            "grid_template_areas": null,
            "grid_template_columns": null,
            "grid_template_rows": null,
            "height": null,
            "justify_content": null,
            "justify_items": null,
            "left": null,
            "margin": null,
            "max_height": null,
            "max_width": null,
            "min_height": null,
            "min_width": null,
            "object_fit": null,
            "object_position": null,
            "order": null,
            "overflow": null,
            "overflow_x": null,
            "overflow_y": null,
            "padding": null,
            "right": null,
            "top": null,
            "visibility": null,
            "width": null
          }
        },
        "66477f0f14c541c3b77b830267e7e6da": {
          "model_module": "@jupyter-widgets/base",
          "model_name": "LayoutModel",
          "model_module_version": "1.2.0",
          "state": {
            "_model_module": "@jupyter-widgets/base",
            "_model_module_version": "1.2.0",
            "_model_name": "LayoutModel",
            "_view_count": null,
            "_view_module": "@jupyter-widgets/base",
            "_view_module_version": "1.2.0",
            "_view_name": "LayoutView",
            "align_content": null,
            "align_items": null,
            "align_self": null,
            "border": null,
            "bottom": null,
            "display": null,
            "flex": null,
            "flex_flow": null,
            "grid_area": null,
            "grid_auto_columns": null,
            "grid_auto_flow": null,
            "grid_auto_rows": null,
            "grid_column": null,
            "grid_gap": null,
            "grid_row": null,
            "grid_template_areas": null,
            "grid_template_columns": null,
            "grid_template_rows": null,
            "height": null,
            "justify_content": null,
            "justify_items": null,
            "left": null,
            "margin": null,
            "max_height": null,
            "max_width": null,
            "min_height": null,
            "min_width": null,
            "object_fit": null,
            "object_position": null,
            "order": null,
            "overflow": null,
            "overflow_x": null,
            "overflow_y": null,
            "padding": null,
            "right": null,
            "top": null,
            "visibility": null,
            "width": null
          }
        },
        "f710bda097044935a79f256b554fbdb0": {
          "model_module": "@jupyter-widgets/controls",
          "model_name": "DescriptionStyleModel",
          "model_module_version": "1.5.0",
          "state": {
            "_model_module": "@jupyter-widgets/controls",
            "_model_module_version": "1.5.0",
            "_model_name": "DescriptionStyleModel",
            "_view_count": null,
            "_view_module": "@jupyter-widgets/base",
            "_view_module_version": "1.2.0",
            "_view_name": "StyleView",
            "description_width": ""
          }
        },
        "1f994557ce7743a788a4e7ff147ee18f": {
          "model_module": "@jupyter-widgets/base",
          "model_name": "LayoutModel",
          "model_module_version": "1.2.0",
          "state": {
            "_model_module": "@jupyter-widgets/base",
            "_model_module_version": "1.2.0",
            "_model_name": "LayoutModel",
            "_view_count": null,
            "_view_module": "@jupyter-widgets/base",
            "_view_module_version": "1.2.0",
            "_view_name": "LayoutView",
            "align_content": null,
            "align_items": null,
            "align_self": null,
            "border": null,
            "bottom": null,
            "display": null,
            "flex": null,
            "flex_flow": null,
            "grid_area": null,
            "grid_auto_columns": null,
            "grid_auto_flow": null,
            "grid_auto_rows": null,
            "grid_column": null,
            "grid_gap": null,
            "grid_row": null,
            "grid_template_areas": null,
            "grid_template_columns": null,
            "grid_template_rows": null,
            "height": null,
            "justify_content": null,
            "justify_items": null,
            "left": null,
            "margin": null,
            "max_height": null,
            "max_width": null,
            "min_height": null,
            "min_width": null,
            "object_fit": null,
            "object_position": null,
            "order": null,
            "overflow": null,
            "overflow_x": null,
            "overflow_y": null,
            "padding": null,
            "right": null,
            "top": null,
            "visibility": null,
            "width": null
          }
        },
        "bd632d7dac39437c85981b095e8e49bb": {
          "model_module": "@jupyter-widgets/controls",
          "model_name": "ProgressStyleModel",
          "model_module_version": "1.5.0",
          "state": {
            "_model_module": "@jupyter-widgets/controls",
            "_model_module_version": "1.5.0",
            "_model_name": "ProgressStyleModel",
            "_view_count": null,
            "_view_module": "@jupyter-widgets/base",
            "_view_module_version": "1.2.0",
            "_view_name": "StyleView",
            "bar_color": null,
            "description_width": ""
          }
        },
        "bee8c5b34e0b4736932420bcd858ce58": {
          "model_module": "@jupyter-widgets/base",
          "model_name": "LayoutModel",
          "model_module_version": "1.2.0",
          "state": {
            "_model_module": "@jupyter-widgets/base",
            "_model_module_version": "1.2.0",
            "_model_name": "LayoutModel",
            "_view_count": null,
            "_view_module": "@jupyter-widgets/base",
            "_view_module_version": "1.2.0",
            "_view_name": "LayoutView",
            "align_content": null,
            "align_items": null,
            "align_self": null,
            "border": null,
            "bottom": null,
            "display": null,
            "flex": null,
            "flex_flow": null,
            "grid_area": null,
            "grid_auto_columns": null,
            "grid_auto_flow": null,
            "grid_auto_rows": null,
            "grid_column": null,
            "grid_gap": null,
            "grid_row": null,
            "grid_template_areas": null,
            "grid_template_columns": null,
            "grid_template_rows": null,
            "height": null,
            "justify_content": null,
            "justify_items": null,
            "left": null,
            "margin": null,
            "max_height": null,
            "max_width": null,
            "min_height": null,
            "min_width": null,
            "object_fit": null,
            "object_position": null,
            "order": null,
            "overflow": null,
            "overflow_x": null,
            "overflow_y": null,
            "padding": null,
            "right": null,
            "top": null,
            "visibility": null,
            "width": null
          }
        },
        "ef721870adbf4f0584e2ea27952ee501": {
          "model_module": "@jupyter-widgets/controls",
          "model_name": "DescriptionStyleModel",
          "model_module_version": "1.5.0",
          "state": {
            "_model_module": "@jupyter-widgets/controls",
            "_model_module_version": "1.5.0",
            "_model_name": "DescriptionStyleModel",
            "_view_count": null,
            "_view_module": "@jupyter-widgets/base",
            "_view_module_version": "1.2.0",
            "_view_name": "StyleView",
            "description_width": ""
          }
        },
        "f30549b2fb08456d9cb7ff182ec63259": {
          "model_module": "@jupyter-widgets/controls",
          "model_name": "HBoxModel",
          "model_module_version": "1.5.0",
          "state": {
            "_dom_classes": [],
            "_model_module": "@jupyter-widgets/controls",
            "_model_module_version": "1.5.0",
            "_model_name": "HBoxModel",
            "_view_count": null,
            "_view_module": "@jupyter-widgets/controls",
            "_view_module_version": "1.5.0",
            "_view_name": "HBoxView",
            "box_style": "",
            "children": [
              "IPY_MODEL_201270a6592d4ebf8414431ffc6374c0",
              "IPY_MODEL_ba7fe7ed786f41e98997df3952e705a0",
              "IPY_MODEL_d8bb6c0f628340e0af2aefdf76e2c453"
            ],
            "layout": "IPY_MODEL_79dc7d6f326b4df0915ead9f871aac54"
          }
        },
        "201270a6592d4ebf8414431ffc6374c0": {
          "model_module": "@jupyter-widgets/controls",
          "model_name": "HTMLModel",
          "model_module_version": "1.5.0",
          "state": {
            "_dom_classes": [],
            "_model_module": "@jupyter-widgets/controls",
            "_model_module_version": "1.5.0",
            "_model_name": "HTMLModel",
            "_view_count": null,
            "_view_module": "@jupyter-widgets/controls",
            "_view_module_version": "1.5.0",
            "_view_name": "HTMLView",
            "description": "",
            "description_tooltip": null,
            "layout": "IPY_MODEL_a96bd101413947e4b1900892e1915058",
            "placeholder": "​",
            "style": "IPY_MODEL_77ee1142120e4f44858c44c5dbb47317",
            "value": "Downloading: 100%"
          }
        },
        "ba7fe7ed786f41e98997df3952e705a0": {
          "model_module": "@jupyter-widgets/controls",
          "model_name": "FloatProgressModel",
          "model_module_version": "1.5.0",
          "state": {
            "_dom_classes": [],
            "_model_module": "@jupyter-widgets/controls",
            "_model_module_version": "1.5.0",
            "_model_name": "FloatProgressModel",
            "_view_count": null,
            "_view_module": "@jupyter-widgets/controls",
            "_view_module_version": "1.5.0",
            "_view_name": "ProgressView",
            "bar_style": "success",
            "description": "",
            "description_tooltip": null,
            "layout": "IPY_MODEL_f18679fb8d8641be8d23dc7902e565be",
            "max": 231508,
            "min": 0,
            "orientation": "horizontal",
            "style": "IPY_MODEL_54a72d13d49a411384ecb8d596089311",
            "value": 231508
          }
        },
        "d8bb6c0f628340e0af2aefdf76e2c453": {
          "model_module": "@jupyter-widgets/controls",
          "model_name": "HTMLModel",
          "model_module_version": "1.5.0",
          "state": {
            "_dom_classes": [],
            "_model_module": "@jupyter-widgets/controls",
            "_model_module_version": "1.5.0",
            "_model_name": "HTMLModel",
            "_view_count": null,
            "_view_module": "@jupyter-widgets/controls",
            "_view_module_version": "1.5.0",
            "_view_name": "HTMLView",
            "description": "",
            "description_tooltip": null,
            "layout": "IPY_MODEL_74f9b69744a04721b78843601363de43",
            "placeholder": "​",
            "style": "IPY_MODEL_52d675eb99bc4c518271f5316f4f0e95",
            "value": " 226k/226k [00:00&lt;00:00, 8.22kB/s]"
          }
        },
        "79dc7d6f326b4df0915ead9f871aac54": {
          "model_module": "@jupyter-widgets/base",
          "model_name": "LayoutModel",
          "model_module_version": "1.2.0",
          "state": {
            "_model_module": "@jupyter-widgets/base",
            "_model_module_version": "1.2.0",
            "_model_name": "LayoutModel",
            "_view_count": null,
            "_view_module": "@jupyter-widgets/base",
            "_view_module_version": "1.2.0",
            "_view_name": "LayoutView",
            "align_content": null,
            "align_items": null,
            "align_self": null,
            "border": null,
            "bottom": null,
            "display": null,
            "flex": null,
            "flex_flow": null,
            "grid_area": null,
            "grid_auto_columns": null,
            "grid_auto_flow": null,
            "grid_auto_rows": null,
            "grid_column": null,
            "grid_gap": null,
            "grid_row": null,
            "grid_template_areas": null,
            "grid_template_columns": null,
            "grid_template_rows": null,
            "height": null,
            "justify_content": null,
            "justify_items": null,
            "left": null,
            "margin": null,
            "max_height": null,
            "max_width": null,
            "min_height": null,
            "min_width": null,
            "object_fit": null,
            "object_position": null,
            "order": null,
            "overflow": null,
            "overflow_x": null,
            "overflow_y": null,
            "padding": null,
            "right": null,
            "top": null,
            "visibility": null,
            "width": null
          }
        },
        "a96bd101413947e4b1900892e1915058": {
          "model_module": "@jupyter-widgets/base",
          "model_name": "LayoutModel",
          "model_module_version": "1.2.0",
          "state": {
            "_model_module": "@jupyter-widgets/base",
            "_model_module_version": "1.2.0",
            "_model_name": "LayoutModel",
            "_view_count": null,
            "_view_module": "@jupyter-widgets/base",
            "_view_module_version": "1.2.0",
            "_view_name": "LayoutView",
            "align_content": null,
            "align_items": null,
            "align_self": null,
            "border": null,
            "bottom": null,
            "display": null,
            "flex": null,
            "flex_flow": null,
            "grid_area": null,
            "grid_auto_columns": null,
            "grid_auto_flow": null,
            "grid_auto_rows": null,
            "grid_column": null,
            "grid_gap": null,
            "grid_row": null,
            "grid_template_areas": null,
            "grid_template_columns": null,
            "grid_template_rows": null,
            "height": null,
            "justify_content": null,
            "justify_items": null,
            "left": null,
            "margin": null,
            "max_height": null,
            "max_width": null,
            "min_height": null,
            "min_width": null,
            "object_fit": null,
            "object_position": null,
            "order": null,
            "overflow": null,
            "overflow_x": null,
            "overflow_y": null,
            "padding": null,
            "right": null,
            "top": null,
            "visibility": null,
            "width": null
          }
        },
        "77ee1142120e4f44858c44c5dbb47317": {
          "model_module": "@jupyter-widgets/controls",
          "model_name": "DescriptionStyleModel",
          "model_module_version": "1.5.0",
          "state": {
            "_model_module": "@jupyter-widgets/controls",
            "_model_module_version": "1.5.0",
            "_model_name": "DescriptionStyleModel",
            "_view_count": null,
            "_view_module": "@jupyter-widgets/base",
            "_view_module_version": "1.2.0",
            "_view_name": "StyleView",
            "description_width": ""
          }
        },
        "f18679fb8d8641be8d23dc7902e565be": {
          "model_module": "@jupyter-widgets/base",
          "model_name": "LayoutModel",
          "model_module_version": "1.2.0",
          "state": {
            "_model_module": "@jupyter-widgets/base",
            "_model_module_version": "1.2.0",
            "_model_name": "LayoutModel",
            "_view_count": null,
            "_view_module": "@jupyter-widgets/base",
            "_view_module_version": "1.2.0",
            "_view_name": "LayoutView",
            "align_content": null,
            "align_items": null,
            "align_self": null,
            "border": null,
            "bottom": null,
            "display": null,
            "flex": null,
            "flex_flow": null,
            "grid_area": null,
            "grid_auto_columns": null,
            "grid_auto_flow": null,
            "grid_auto_rows": null,
            "grid_column": null,
            "grid_gap": null,
            "grid_row": null,
            "grid_template_areas": null,
            "grid_template_columns": null,
            "grid_template_rows": null,
            "height": null,
            "justify_content": null,
            "justify_items": null,
            "left": null,
            "margin": null,
            "max_height": null,
            "max_width": null,
            "min_height": null,
            "min_width": null,
            "object_fit": null,
            "object_position": null,
            "order": null,
            "overflow": null,
            "overflow_x": null,
            "overflow_y": null,
            "padding": null,
            "right": null,
            "top": null,
            "visibility": null,
            "width": null
          }
        },
        "54a72d13d49a411384ecb8d596089311": {
          "model_module": "@jupyter-widgets/controls",
          "model_name": "ProgressStyleModel",
          "model_module_version": "1.5.0",
          "state": {
            "_model_module": "@jupyter-widgets/controls",
            "_model_module_version": "1.5.0",
            "_model_name": "ProgressStyleModel",
            "_view_count": null,
            "_view_module": "@jupyter-widgets/base",
            "_view_module_version": "1.2.0",
            "_view_name": "StyleView",
            "bar_color": null,
            "description_width": ""
          }
        },
        "74f9b69744a04721b78843601363de43": {
          "model_module": "@jupyter-widgets/base",
          "model_name": "LayoutModel",
          "model_module_version": "1.2.0",
          "state": {
            "_model_module": "@jupyter-widgets/base",
            "_model_module_version": "1.2.0",
            "_model_name": "LayoutModel",
            "_view_count": null,
            "_view_module": "@jupyter-widgets/base",
            "_view_module_version": "1.2.0",
            "_view_name": "LayoutView",
            "align_content": null,
            "align_items": null,
            "align_self": null,
            "border": null,
            "bottom": null,
            "display": null,
            "flex": null,
            "flex_flow": null,
            "grid_area": null,
            "grid_auto_columns": null,
            "grid_auto_flow": null,
            "grid_auto_rows": null,
            "grid_column": null,
            "grid_gap": null,
            "grid_row": null,
            "grid_template_areas": null,
            "grid_template_columns": null,
            "grid_template_rows": null,
            "height": null,
            "justify_content": null,
            "justify_items": null,
            "left": null,
            "margin": null,
            "max_height": null,
            "max_width": null,
            "min_height": null,
            "min_width": null,
            "object_fit": null,
            "object_position": null,
            "order": null,
            "overflow": null,
            "overflow_x": null,
            "overflow_y": null,
            "padding": null,
            "right": null,
            "top": null,
            "visibility": null,
            "width": null
          }
        },
        "52d675eb99bc4c518271f5316f4f0e95": {
          "model_module": "@jupyter-widgets/controls",
          "model_name": "DescriptionStyleModel",
          "model_module_version": "1.5.0",
          "state": {
            "_model_module": "@jupyter-widgets/controls",
            "_model_module_version": "1.5.0",
            "_model_name": "DescriptionStyleModel",
            "_view_count": null,
            "_view_module": "@jupyter-widgets/base",
            "_view_module_version": "1.2.0",
            "_view_name": "StyleView",
            "description_width": ""
          }
        },
        "940002980b4f4e4caf19df206321ff17": {
          "model_module": "@jupyter-widgets/controls",
          "model_name": "HBoxModel",
          "model_module_version": "1.5.0",
          "state": {
            "_dom_classes": [],
            "_model_module": "@jupyter-widgets/controls",
            "_model_module_version": "1.5.0",
            "_model_name": "HBoxModel",
            "_view_count": null,
            "_view_module": "@jupyter-widgets/controls",
            "_view_module_version": "1.5.0",
            "_view_name": "HBoxView",
            "box_style": "",
            "children": [
              "IPY_MODEL_df56904cebd04f7486c2c6527d2d4b6b",
              "IPY_MODEL_3582821c5058491ab1a4b74f6355495d",
              "IPY_MODEL_77dc14147d34414c807630216a45f2c9"
            ],
            "layout": "IPY_MODEL_bc7caba4919a4fd18404ef179db01872"
          }
        },
        "df56904cebd04f7486c2c6527d2d4b6b": {
          "model_module": "@jupyter-widgets/controls",
          "model_name": "HTMLModel",
          "model_module_version": "1.5.0",
          "state": {
            "_dom_classes": [],
            "_model_module": "@jupyter-widgets/controls",
            "_model_module_version": "1.5.0",
            "_model_name": "HTMLModel",
            "_view_count": null,
            "_view_module": "@jupyter-widgets/controls",
            "_view_module_version": "1.5.0",
            "_view_name": "HTMLView",
            "description": "",
            "description_tooltip": null,
            "layout": "IPY_MODEL_0ea7cbd819814984b2956d2ff544be12",
            "placeholder": "​",
            "style": "IPY_MODEL_1eddf3ed182b4621b907d22b6c2ee9b0",
            "value": "Downloading: 100%"
          }
        },
        "3582821c5058491ab1a4b74f6355495d": {
          "model_module": "@jupyter-widgets/controls",
          "model_name": "FloatProgressModel",
          "model_module_version": "1.5.0",
          "state": {
            "_dom_classes": [],
            "_model_module": "@jupyter-widgets/controls",
            "_model_module_version": "1.5.0",
            "_model_name": "FloatProgressModel",
            "_view_count": null,
            "_view_module": "@jupyter-widgets/controls",
            "_view_module_version": "1.5.0",
            "_view_name": "ProgressView",
            "bar_style": "success",
            "description": "",
            "description_tooltip": null,
            "layout": "IPY_MODEL_f9909b22c2724e48bc54227b96c5f143",
            "max": 466062,
            "min": 0,
            "orientation": "horizontal",
            "style": "IPY_MODEL_71f7baa83b8442e0a16ab21d04c2f7b3",
            "value": 466062
          }
        },
        "77dc14147d34414c807630216a45f2c9": {
          "model_module": "@jupyter-widgets/controls",
          "model_name": "HTMLModel",
          "model_module_version": "1.5.0",
          "state": {
            "_dom_classes": [],
            "_model_module": "@jupyter-widgets/controls",
            "_model_module_version": "1.5.0",
            "_model_name": "HTMLModel",
            "_view_count": null,
            "_view_module": "@jupyter-widgets/controls",
            "_view_module_version": "1.5.0",
            "_view_name": "HTMLView",
            "description": "",
            "description_tooltip": null,
            "layout": "IPY_MODEL_bcd5a760452c4133ba01cf3f94472593",
            "placeholder": "​",
            "style": "IPY_MODEL_d26e5c8cce794386b9f881eba76ec1bb",
            "value": " 455k/455k [00:00&lt;00:00, 8.58kB/s]"
          }
        },
        "bc7caba4919a4fd18404ef179db01872": {
          "model_module": "@jupyter-widgets/base",
          "model_name": "LayoutModel",
          "model_module_version": "1.2.0",
          "state": {
            "_model_module": "@jupyter-widgets/base",
            "_model_module_version": "1.2.0",
            "_model_name": "LayoutModel",
            "_view_count": null,
            "_view_module": "@jupyter-widgets/base",
            "_view_module_version": "1.2.0",
            "_view_name": "LayoutView",
            "align_content": null,
            "align_items": null,
            "align_self": null,
            "border": null,
            "bottom": null,
            "display": null,
            "flex": null,
            "flex_flow": null,
            "grid_area": null,
            "grid_auto_columns": null,
            "grid_auto_flow": null,
            "grid_auto_rows": null,
            "grid_column": null,
            "grid_gap": null,
            "grid_row": null,
            "grid_template_areas": null,
            "grid_template_columns": null,
            "grid_template_rows": null,
            "height": null,
            "justify_content": null,
            "justify_items": null,
            "left": null,
            "margin": null,
            "max_height": null,
            "max_width": null,
            "min_height": null,
            "min_width": null,
            "object_fit": null,
            "object_position": null,
            "order": null,
            "overflow": null,
            "overflow_x": null,
            "overflow_y": null,
            "padding": null,
            "right": null,
            "top": null,
            "visibility": null,
            "width": null
          }
        },
        "0ea7cbd819814984b2956d2ff544be12": {
          "model_module": "@jupyter-widgets/base",
          "model_name": "LayoutModel",
          "model_module_version": "1.2.0",
          "state": {
            "_model_module": "@jupyter-widgets/base",
            "_model_module_version": "1.2.0",
            "_model_name": "LayoutModel",
            "_view_count": null,
            "_view_module": "@jupyter-widgets/base",
            "_view_module_version": "1.2.0",
            "_view_name": "LayoutView",
            "align_content": null,
            "align_items": null,
            "align_self": null,
            "border": null,
            "bottom": null,
            "display": null,
            "flex": null,
            "flex_flow": null,
            "grid_area": null,
            "grid_auto_columns": null,
            "grid_auto_flow": null,
            "grid_auto_rows": null,
            "grid_column": null,
            "grid_gap": null,
            "grid_row": null,
            "grid_template_areas": null,
            "grid_template_columns": null,
            "grid_template_rows": null,
            "height": null,
            "justify_content": null,
            "justify_items": null,
            "left": null,
            "margin": null,
            "max_height": null,
            "max_width": null,
            "min_height": null,
            "min_width": null,
            "object_fit": null,
            "object_position": null,
            "order": null,
            "overflow": null,
            "overflow_x": null,
            "overflow_y": null,
            "padding": null,
            "right": null,
            "top": null,
            "visibility": null,
            "width": null
          }
        },
        "1eddf3ed182b4621b907d22b6c2ee9b0": {
          "model_module": "@jupyter-widgets/controls",
          "model_name": "DescriptionStyleModel",
          "model_module_version": "1.5.0",
          "state": {
            "_model_module": "@jupyter-widgets/controls",
            "_model_module_version": "1.5.0",
            "_model_name": "DescriptionStyleModel",
            "_view_count": null,
            "_view_module": "@jupyter-widgets/base",
            "_view_module_version": "1.2.0",
            "_view_name": "StyleView",
            "description_width": ""
          }
        },
        "f9909b22c2724e48bc54227b96c5f143": {
          "model_module": "@jupyter-widgets/base",
          "model_name": "LayoutModel",
          "model_module_version": "1.2.0",
          "state": {
            "_model_module": "@jupyter-widgets/base",
            "_model_module_version": "1.2.0",
            "_model_name": "LayoutModel",
            "_view_count": null,
            "_view_module": "@jupyter-widgets/base",
            "_view_module_version": "1.2.0",
            "_view_name": "LayoutView",
            "align_content": null,
            "align_items": null,
            "align_self": null,
            "border": null,
            "bottom": null,
            "display": null,
            "flex": null,
            "flex_flow": null,
            "grid_area": null,
            "grid_auto_columns": null,
            "grid_auto_flow": null,
            "grid_auto_rows": null,
            "grid_column": null,
            "grid_gap": null,
            "grid_row": null,
            "grid_template_areas": null,
            "grid_template_columns": null,
            "grid_template_rows": null,
            "height": null,
            "justify_content": null,
            "justify_items": null,
            "left": null,
            "margin": null,
            "max_height": null,
            "max_width": null,
            "min_height": null,
            "min_width": null,
            "object_fit": null,
            "object_position": null,
            "order": null,
            "overflow": null,
            "overflow_x": null,
            "overflow_y": null,
            "padding": null,
            "right": null,
            "top": null,
            "visibility": null,
            "width": null
          }
        },
        "71f7baa83b8442e0a16ab21d04c2f7b3": {
          "model_module": "@jupyter-widgets/controls",
          "model_name": "ProgressStyleModel",
          "model_module_version": "1.5.0",
          "state": {
            "_model_module": "@jupyter-widgets/controls",
            "_model_module_version": "1.5.0",
            "_model_name": "ProgressStyleModel",
            "_view_count": null,
            "_view_module": "@jupyter-widgets/base",
            "_view_module_version": "1.2.0",
            "_view_name": "StyleView",
            "bar_color": null,
            "description_width": ""
          }
        },
        "bcd5a760452c4133ba01cf3f94472593": {
          "model_module": "@jupyter-widgets/base",
          "model_name": "LayoutModel",
          "model_module_version": "1.2.0",
          "state": {
            "_model_module": "@jupyter-widgets/base",
            "_model_module_version": "1.2.0",
            "_model_name": "LayoutModel",
            "_view_count": null,
            "_view_module": "@jupyter-widgets/base",
            "_view_module_version": "1.2.0",
            "_view_name": "LayoutView",
            "align_content": null,
            "align_items": null,
            "align_self": null,
            "border": null,
            "bottom": null,
            "display": null,
            "flex": null,
            "flex_flow": null,
            "grid_area": null,
            "grid_auto_columns": null,
            "grid_auto_flow": null,
            "grid_auto_rows": null,
            "grid_column": null,
            "grid_gap": null,
            "grid_row": null,
            "grid_template_areas": null,
            "grid_template_columns": null,
            "grid_template_rows": null,
            "height": null,
            "justify_content": null,
            "justify_items": null,
            "left": null,
            "margin": null,
            "max_height": null,
            "max_width": null,
            "min_height": null,
            "min_width": null,
            "object_fit": null,
            "object_position": null,
            "order": null,
            "overflow": null,
            "overflow_x": null,
            "overflow_y": null,
            "padding": null,
            "right": null,
            "top": null,
            "visibility": null,
            "width": null
          }
        },
        "d26e5c8cce794386b9f881eba76ec1bb": {
          "model_module": "@jupyter-widgets/controls",
          "model_name": "DescriptionStyleModel",
          "model_module_version": "1.5.0",
          "state": {
            "_model_module": "@jupyter-widgets/controls",
            "_model_module_version": "1.5.0",
            "_model_name": "DescriptionStyleModel",
            "_view_count": null,
            "_view_module": "@jupyter-widgets/base",
            "_view_module_version": "1.2.0",
            "_view_name": "StyleView",
            "description_width": ""
          }
        },
        "afad9277817b43b2af0abe6a600180a0": {
          "model_module": "@jupyter-widgets/controls",
          "model_name": "HBoxModel",
          "model_module_version": "1.5.0",
          "state": {
            "_dom_classes": [],
            "_model_module": "@jupyter-widgets/controls",
            "_model_module_version": "1.5.0",
            "_model_name": "HBoxModel",
            "_view_count": null,
            "_view_module": "@jupyter-widgets/controls",
            "_view_module_version": "1.5.0",
            "_view_name": "HBoxView",
            "box_style": "",
            "children": [
              "IPY_MODEL_17840c0d2ce148a4892753e485ae4b68",
              "IPY_MODEL_2c8a8ed8520f4e80a51943c474327bed",
              "IPY_MODEL_e060617d8d084f6b98e4cf04fccca3be"
            ],
            "layout": "IPY_MODEL_d9dd12a6e06c49ac914a7e54a0021be2"
          }
        },
        "17840c0d2ce148a4892753e485ae4b68": {
          "model_module": "@jupyter-widgets/controls",
          "model_name": "HTMLModel",
          "model_module_version": "1.5.0",
          "state": {
            "_dom_classes": [],
            "_model_module": "@jupyter-widgets/controls",
            "_model_module_version": "1.5.0",
            "_model_name": "HTMLModel",
            "_view_count": null,
            "_view_module": "@jupyter-widgets/controls",
            "_view_module_version": "1.5.0",
            "_view_name": "HTMLView",
            "description": "",
            "description_tooltip": null,
            "layout": "IPY_MODEL_6e7811160b4443e7ae841a9c931a6e16",
            "placeholder": "​",
            "style": "IPY_MODEL_a8caa09fa2b44348aeca88c7bdc2f51b",
            "value": "Downloading: 100%"
          }
        },
        "2c8a8ed8520f4e80a51943c474327bed": {
          "model_module": "@jupyter-widgets/controls",
          "model_name": "FloatProgressModel",
          "model_module_version": "1.5.0",
          "state": {
            "_dom_classes": [],
            "_model_module": "@jupyter-widgets/controls",
            "_model_module_version": "1.5.0",
            "_model_name": "FloatProgressModel",
            "_view_count": null,
            "_view_module": "@jupyter-widgets/controls",
            "_view_module_version": "1.5.0",
            "_view_name": "ProgressView",
            "bar_style": "success",
            "description": "",
            "description_tooltip": null,
            "layout": "IPY_MODEL_821112e4ea194eb4a06d9291564ed52b",
            "max": 570,
            "min": 0,
            "orientation": "horizontal",
            "style": "IPY_MODEL_91eadfba211d4f5c8d9457ae6313bf65",
            "value": 570
          }
        },
        "e060617d8d084f6b98e4cf04fccca3be": {
          "model_module": "@jupyter-widgets/controls",
          "model_name": "HTMLModel",
          "model_module_version": "1.5.0",
          "state": {
            "_dom_classes": [],
            "_model_module": "@jupyter-widgets/controls",
            "_model_module_version": "1.5.0",
            "_model_name": "HTMLModel",
            "_view_count": null,
            "_view_module": "@jupyter-widgets/controls",
            "_view_module_version": "1.5.0",
            "_view_name": "HTMLView",
            "description": "",
            "description_tooltip": null,
            "layout": "IPY_MODEL_85d49015fbed446fbee5a8afc887ceda",
            "placeholder": "​",
            "style": "IPY_MODEL_6c42189b491843b9841295651c647c7a",
            "value": " 570/570 [00:00&lt;00:00, 3.23kB/s]"
          }
        },
        "d9dd12a6e06c49ac914a7e54a0021be2": {
          "model_module": "@jupyter-widgets/base",
          "model_name": "LayoutModel",
          "model_module_version": "1.2.0",
          "state": {
            "_model_module": "@jupyter-widgets/base",
            "_model_module_version": "1.2.0",
            "_model_name": "LayoutModel",
            "_view_count": null,
            "_view_module": "@jupyter-widgets/base",
            "_view_module_version": "1.2.0",
            "_view_name": "LayoutView",
            "align_content": null,
            "align_items": null,
            "align_self": null,
            "border": null,
            "bottom": null,
            "display": null,
            "flex": null,
            "flex_flow": null,
            "grid_area": null,
            "grid_auto_columns": null,
            "grid_auto_flow": null,
            "grid_auto_rows": null,
            "grid_column": null,
            "grid_gap": null,
            "grid_row": null,
            "grid_template_areas": null,
            "grid_template_columns": null,
            "grid_template_rows": null,
            "height": null,
            "justify_content": null,
            "justify_items": null,
            "left": null,
            "margin": null,
            "max_height": null,
            "max_width": null,
            "min_height": null,
            "min_width": null,
            "object_fit": null,
            "object_position": null,
            "order": null,
            "overflow": null,
            "overflow_x": null,
            "overflow_y": null,
            "padding": null,
            "right": null,
            "top": null,
            "visibility": null,
            "width": null
          }
        },
        "6e7811160b4443e7ae841a9c931a6e16": {
          "model_module": "@jupyter-widgets/base",
          "model_name": "LayoutModel",
          "model_module_version": "1.2.0",
          "state": {
            "_model_module": "@jupyter-widgets/base",
            "_model_module_version": "1.2.0",
            "_model_name": "LayoutModel",
            "_view_count": null,
            "_view_module": "@jupyter-widgets/base",
            "_view_module_version": "1.2.0",
            "_view_name": "LayoutView",
            "align_content": null,
            "align_items": null,
            "align_self": null,
            "border": null,
            "bottom": null,
            "display": null,
            "flex": null,
            "flex_flow": null,
            "grid_area": null,
            "grid_auto_columns": null,
            "grid_auto_flow": null,
            "grid_auto_rows": null,
            "grid_column": null,
            "grid_gap": null,
            "grid_row": null,
            "grid_template_areas": null,
            "grid_template_columns": null,
            "grid_template_rows": null,
            "height": null,
            "justify_content": null,
            "justify_items": null,
            "left": null,
            "margin": null,
            "max_height": null,
            "max_width": null,
            "min_height": null,
            "min_width": null,
            "object_fit": null,
            "object_position": null,
            "order": null,
            "overflow": null,
            "overflow_x": null,
            "overflow_y": null,
            "padding": null,
            "right": null,
            "top": null,
            "visibility": null,
            "width": null
          }
        },
        "a8caa09fa2b44348aeca88c7bdc2f51b": {
          "model_module": "@jupyter-widgets/controls",
          "model_name": "DescriptionStyleModel",
          "model_module_version": "1.5.0",
          "state": {
            "_model_module": "@jupyter-widgets/controls",
            "_model_module_version": "1.5.0",
            "_model_name": "DescriptionStyleModel",
            "_view_count": null,
            "_view_module": "@jupyter-widgets/base",
            "_view_module_version": "1.2.0",
            "_view_name": "StyleView",
            "description_width": ""
          }
        },
        "821112e4ea194eb4a06d9291564ed52b": {
          "model_module": "@jupyter-widgets/base",
          "model_name": "LayoutModel",
          "model_module_version": "1.2.0",
          "state": {
            "_model_module": "@jupyter-widgets/base",
            "_model_module_version": "1.2.0",
            "_model_name": "LayoutModel",
            "_view_count": null,
            "_view_module": "@jupyter-widgets/base",
            "_view_module_version": "1.2.0",
            "_view_name": "LayoutView",
            "align_content": null,
            "align_items": null,
            "align_self": null,
            "border": null,
            "bottom": null,
            "display": null,
            "flex": null,
            "flex_flow": null,
            "grid_area": null,
            "grid_auto_columns": null,
            "grid_auto_flow": null,
            "grid_auto_rows": null,
            "grid_column": null,
            "grid_gap": null,
            "grid_row": null,
            "grid_template_areas": null,
            "grid_template_columns": null,
            "grid_template_rows": null,
            "height": null,
            "justify_content": null,
            "justify_items": null,
            "left": null,
            "margin": null,
            "max_height": null,
            "max_width": null,
            "min_height": null,
            "min_width": null,
            "object_fit": null,
            "object_position": null,
            "order": null,
            "overflow": null,
            "overflow_x": null,
            "overflow_y": null,
            "padding": null,
            "right": null,
            "top": null,
            "visibility": null,
            "width": null
          }
        },
        "91eadfba211d4f5c8d9457ae6313bf65": {
          "model_module": "@jupyter-widgets/controls",
          "model_name": "ProgressStyleModel",
          "model_module_version": "1.5.0",
          "state": {
            "_model_module": "@jupyter-widgets/controls",
            "_model_module_version": "1.5.0",
            "_model_name": "ProgressStyleModel",
            "_view_count": null,
            "_view_module": "@jupyter-widgets/base",
            "_view_module_version": "1.2.0",
            "_view_name": "StyleView",
            "bar_color": null,
            "description_width": ""
          }
        },
        "85d49015fbed446fbee5a8afc887ceda": {
          "model_module": "@jupyter-widgets/base",
          "model_name": "LayoutModel",
          "model_module_version": "1.2.0",
          "state": {
            "_model_module": "@jupyter-widgets/base",
            "_model_module_version": "1.2.0",
            "_model_name": "LayoutModel",
            "_view_count": null,
            "_view_module": "@jupyter-widgets/base",
            "_view_module_version": "1.2.0",
            "_view_name": "LayoutView",
            "align_content": null,
            "align_items": null,
            "align_self": null,
            "border": null,
            "bottom": null,
            "display": null,
            "flex": null,
            "flex_flow": null,
            "grid_area": null,
            "grid_auto_columns": null,
            "grid_auto_flow": null,
            "grid_auto_rows": null,
            "grid_column": null,
            "grid_gap": null,
            "grid_row": null,
            "grid_template_areas": null,
            "grid_template_columns": null,
            "grid_template_rows": null,
            "height": null,
            "justify_content": null,
            "justify_items": null,
            "left": null,
            "margin": null,
            "max_height": null,
            "max_width": null,
            "min_height": null,
            "min_width": null,
            "object_fit": null,
            "object_position": null,
            "order": null,
            "overflow": null,
            "overflow_x": null,
            "overflow_y": null,
            "padding": null,
            "right": null,
            "top": null,
            "visibility": null,
            "width": null
          }
        },
        "6c42189b491843b9841295651c647c7a": {
          "model_module": "@jupyter-widgets/controls",
          "model_name": "DescriptionStyleModel",
          "model_module_version": "1.5.0",
          "state": {
            "_model_module": "@jupyter-widgets/controls",
            "_model_module_version": "1.5.0",
            "_model_name": "DescriptionStyleModel",
            "_view_count": null,
            "_view_module": "@jupyter-widgets/base",
            "_view_module_version": "1.2.0",
            "_view_name": "StyleView",
            "description_width": ""
          }
        },
        "a2e7d99ebfdf4d0eb7f92a0825ff8558": {
          "model_module": "@jupyter-widgets/controls",
          "model_name": "HBoxModel",
          "model_module_version": "1.5.0",
          "state": {
            "_dom_classes": [],
            "_model_module": "@jupyter-widgets/controls",
            "_model_module_version": "1.5.0",
            "_model_name": "HBoxModel",
            "_view_count": null,
            "_view_module": "@jupyter-widgets/controls",
            "_view_module_version": "1.5.0",
            "_view_name": "HBoxView",
            "box_style": "",
            "children": [
              "IPY_MODEL_a535e795eceb4d82b865aa43db6b8857",
              "IPY_MODEL_832cc721b5974969bce66e8c24b6a13e",
              "IPY_MODEL_c35a20660ed44fdf8696931c99dbce3c"
            ],
            "layout": "IPY_MODEL_221fcfa62e0b44278a2c049d9ed420aa"
          }
        },
        "a535e795eceb4d82b865aa43db6b8857": {
          "model_module": "@jupyter-widgets/controls",
          "model_name": "HTMLModel",
          "model_module_version": "1.5.0",
          "state": {
            "_dom_classes": [],
            "_model_module": "@jupyter-widgets/controls",
            "_model_module_version": "1.5.0",
            "_model_name": "HTMLModel",
            "_view_count": null,
            "_view_module": "@jupyter-widgets/controls",
            "_view_module_version": "1.5.0",
            "_view_name": "HTMLView",
            "description": "",
            "description_tooltip": null,
            "layout": "IPY_MODEL_6d831aed2fe04ccfaa7cc1069197c1fc",
            "placeholder": "​",
            "style": "IPY_MODEL_1221aefd40e7445f9294dbd786516429",
            "value": "Downloading: 100%"
          }
        },
        "832cc721b5974969bce66e8c24b6a13e": {
          "model_module": "@jupyter-widgets/controls",
          "model_name": "FloatProgressModel",
          "model_module_version": "1.5.0",
          "state": {
            "_dom_classes": [],
            "_model_module": "@jupyter-widgets/controls",
            "_model_module_version": "1.5.0",
            "_model_name": "FloatProgressModel",
            "_view_count": null,
            "_view_module": "@jupyter-widgets/controls",
            "_view_module_version": "1.5.0",
            "_view_name": "ProgressView",
            "bar_style": "success",
            "description": "",
            "description_tooltip": null,
            "layout": "IPY_MODEL_06713cc1ca8e47cd8f664208d3204226",
            "max": 440473133,
            "min": 0,
            "orientation": "horizontal",
            "style": "IPY_MODEL_2ffd97c5518644c0ac6e845a2e0770f0",
            "value": 440473133
          }
        },
        "c35a20660ed44fdf8696931c99dbce3c": {
          "model_module": "@jupyter-widgets/controls",
          "model_name": "HTMLModel",
          "model_module_version": "1.5.0",
          "state": {
            "_dom_classes": [],
            "_model_module": "@jupyter-widgets/controls",
            "_model_module_version": "1.5.0",
            "_model_name": "HTMLModel",
            "_view_count": null,
            "_view_module": "@jupyter-widgets/controls",
            "_view_module_version": "1.5.0",
            "_view_name": "HTMLView",
            "description": "",
            "description_tooltip": null,
            "layout": "IPY_MODEL_a64b36c196aa45bfaae7e478bb074c7d",
            "placeholder": "​",
            "style": "IPY_MODEL_4d6ec95ed73d44f79c40afbbfe2ddfdd",
            "value": " 420M/420M [00:23&lt;00:00, 36.3MB/s]"
          }
        },
        "221fcfa62e0b44278a2c049d9ed420aa": {
          "model_module": "@jupyter-widgets/base",
          "model_name": "LayoutModel",
          "model_module_version": "1.2.0",
          "state": {
            "_model_module": "@jupyter-widgets/base",
            "_model_module_version": "1.2.0",
            "_model_name": "LayoutModel",
            "_view_count": null,
            "_view_module": "@jupyter-widgets/base",
            "_view_module_version": "1.2.0",
            "_view_name": "LayoutView",
            "align_content": null,
            "align_items": null,
            "align_self": null,
            "border": null,
            "bottom": null,
            "display": null,
            "flex": null,
            "flex_flow": null,
            "grid_area": null,
            "grid_auto_columns": null,
            "grid_auto_flow": null,
            "grid_auto_rows": null,
            "grid_column": null,
            "grid_gap": null,
            "grid_row": null,
            "grid_template_areas": null,
            "grid_template_columns": null,
            "grid_template_rows": null,
            "height": null,
            "justify_content": null,
            "justify_items": null,
            "left": null,
            "margin": null,
            "max_height": null,
            "max_width": null,
            "min_height": null,
            "min_width": null,
            "object_fit": null,
            "object_position": null,
            "order": null,
            "overflow": null,
            "overflow_x": null,
            "overflow_y": null,
            "padding": null,
            "right": null,
            "top": null,
            "visibility": null,
            "width": null
          }
        },
        "6d831aed2fe04ccfaa7cc1069197c1fc": {
          "model_module": "@jupyter-widgets/base",
          "model_name": "LayoutModel",
          "model_module_version": "1.2.0",
          "state": {
            "_model_module": "@jupyter-widgets/base",
            "_model_module_version": "1.2.0",
            "_model_name": "LayoutModel",
            "_view_count": null,
            "_view_module": "@jupyter-widgets/base",
            "_view_module_version": "1.2.0",
            "_view_name": "LayoutView",
            "align_content": null,
            "align_items": null,
            "align_self": null,
            "border": null,
            "bottom": null,
            "display": null,
            "flex": null,
            "flex_flow": null,
            "grid_area": null,
            "grid_auto_columns": null,
            "grid_auto_flow": null,
            "grid_auto_rows": null,
            "grid_column": null,
            "grid_gap": null,
            "grid_row": null,
            "grid_template_areas": null,
            "grid_template_columns": null,
            "grid_template_rows": null,
            "height": null,
            "justify_content": null,
            "justify_items": null,
            "left": null,
            "margin": null,
            "max_height": null,
            "max_width": null,
            "min_height": null,
            "min_width": null,
            "object_fit": null,
            "object_position": null,
            "order": null,
            "overflow": null,
            "overflow_x": null,
            "overflow_y": null,
            "padding": null,
            "right": null,
            "top": null,
            "visibility": null,
            "width": null
          }
        },
        "1221aefd40e7445f9294dbd786516429": {
          "model_module": "@jupyter-widgets/controls",
          "model_name": "DescriptionStyleModel",
          "model_module_version": "1.5.0",
          "state": {
            "_model_module": "@jupyter-widgets/controls",
            "_model_module_version": "1.5.0",
            "_model_name": "DescriptionStyleModel",
            "_view_count": null,
            "_view_module": "@jupyter-widgets/base",
            "_view_module_version": "1.2.0",
            "_view_name": "StyleView",
            "description_width": ""
          }
        },
        "06713cc1ca8e47cd8f664208d3204226": {
          "model_module": "@jupyter-widgets/base",
          "model_name": "LayoutModel",
          "model_module_version": "1.2.0",
          "state": {
            "_model_module": "@jupyter-widgets/base",
            "_model_module_version": "1.2.0",
            "_model_name": "LayoutModel",
            "_view_count": null,
            "_view_module": "@jupyter-widgets/base",
            "_view_module_version": "1.2.0",
            "_view_name": "LayoutView",
            "align_content": null,
            "align_items": null,
            "align_self": null,
            "border": null,
            "bottom": null,
            "display": null,
            "flex": null,
            "flex_flow": null,
            "grid_area": null,
            "grid_auto_columns": null,
            "grid_auto_flow": null,
            "grid_auto_rows": null,
            "grid_column": null,
            "grid_gap": null,
            "grid_row": null,
            "grid_template_areas": null,
            "grid_template_columns": null,
            "grid_template_rows": null,
            "height": null,
            "justify_content": null,
            "justify_items": null,
            "left": null,
            "margin": null,
            "max_height": null,
            "max_width": null,
            "min_height": null,
            "min_width": null,
            "object_fit": null,
            "object_position": null,
            "order": null,
            "overflow": null,
            "overflow_x": null,
            "overflow_y": null,
            "padding": null,
            "right": null,
            "top": null,
            "visibility": null,
            "width": null
          }
        },
        "2ffd97c5518644c0ac6e845a2e0770f0": {
          "model_module": "@jupyter-widgets/controls",
          "model_name": "ProgressStyleModel",
          "model_module_version": "1.5.0",
          "state": {
            "_model_module": "@jupyter-widgets/controls",
            "_model_module_version": "1.5.0",
            "_model_name": "ProgressStyleModel",
            "_view_count": null,
            "_view_module": "@jupyter-widgets/base",
            "_view_module_version": "1.2.0",
            "_view_name": "StyleView",
            "bar_color": null,
            "description_width": ""
          }
        },
        "a64b36c196aa45bfaae7e478bb074c7d": {
          "model_module": "@jupyter-widgets/base",
          "model_name": "LayoutModel",
          "model_module_version": "1.2.0",
          "state": {
            "_model_module": "@jupyter-widgets/base",
            "_model_module_version": "1.2.0",
            "_model_name": "LayoutModel",
            "_view_count": null,
            "_view_module": "@jupyter-widgets/base",
            "_view_module_version": "1.2.0",
            "_view_name": "LayoutView",
            "align_content": null,
            "align_items": null,
            "align_self": null,
            "border": null,
            "bottom": null,
            "display": null,
            "flex": null,
            "flex_flow": null,
            "grid_area": null,
            "grid_auto_columns": null,
            "grid_auto_flow": null,
            "grid_auto_rows": null,
            "grid_column": null,
            "grid_gap": null,
            "grid_row": null,
            "grid_template_areas": null,
            "grid_template_columns": null,
            "grid_template_rows": null,
            "height": null,
            "justify_content": null,
            "justify_items": null,
            "left": null,
            "margin": null,
            "max_height": null,
            "max_width": null,
            "min_height": null,
            "min_width": null,
            "object_fit": null,
            "object_position": null,
            "order": null,
            "overflow": null,
            "overflow_x": null,
            "overflow_y": null,
            "padding": null,
            "right": null,
            "top": null,
            "visibility": null,
            "width": null
          }
        },
        "4d6ec95ed73d44f79c40afbbfe2ddfdd": {
          "model_module": "@jupyter-widgets/controls",
          "model_name": "DescriptionStyleModel",
          "model_module_version": "1.5.0",
          "state": {
            "_model_module": "@jupyter-widgets/controls",
            "_model_module_version": "1.5.0",
            "_model_name": "DescriptionStyleModel",
            "_view_count": null,
            "_view_module": "@jupyter-widgets/base",
            "_view_module_version": "1.2.0",
            "_view_name": "StyleView",
            "description_width": ""
          }
        }
      }
    }
  },
  "nbformat": 4,
  "nbformat_minor": 0
}