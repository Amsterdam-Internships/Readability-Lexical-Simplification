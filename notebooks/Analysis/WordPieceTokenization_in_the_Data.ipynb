{
  "cells": [
    {
      "cell_type": "markdown",
      "metadata": {
        "id": "view-in-github",
        "colab_type": "text"
      },
      "source": [
        "<a href=\"https://colab.research.google.com/github/Amsterdam-Internships/Readability-Lexical-Simplification/blob/master/WordPieceTokenization_in_the_Data.ipynb\" target=\"_parent\"><img src=\"https://colab.research.google.com/assets/colab-badge.svg\" alt=\"Open In Colab\"/></a>"
      ]
    },
    {
      "cell_type": "markdown",
      "metadata": {
        "id": "GSxe-D7otPOe"
      },
      "source": [
        "# Exploring Subword Tokenization"
      ]
    },
    {
      "cell_type": "markdown",
      "metadata": {
        "id": "_vtkYLndtcus"
      },
      "source": [
        "## Installing"
      ]
    },
    {
      "cell_type": "code",
      "execution_count": null,
      "metadata": {
        "colab": {
          "background_save": true
        },
        "id": "_fiUYZZjplsd"
      },
      "outputs": [],
      "source": [
        "!pip install transformers\n",
        "!pip install sentencepiece\n",
        "!pip install torch"
      ]
    },
    {
      "cell_type": "code",
      "execution_count": null,
      "metadata": {
        "id": "4_zoBMbw_21t"
      },
      "outputs": [],
      "source": [
        "!pip install tabulate"
      ]
    },
    {
      "cell_type": "code",
      "execution_count": null,
      "metadata": {
        "id": "dBUc_C7q_72R"
      },
      "outputs": [],
      "source": [
        "from tabulate import tabulate"
      ]
    },
    {
      "cell_type": "code",
      "execution_count": null,
      "metadata": {
        "id": "3IeGdS4XpqPe"
      },
      "outputs": [],
      "source": [
        "import transformers\n",
        "import torch\n",
        "from transformers import AutoTokenizer, AutoModelForMaskedLM\n",
        "\n",
        "from collections import Counter, defaultdict\n",
        "\n",
        "import matplotlib.pyplot as plt\n"
      ]
    },
    {
      "cell_type": "code",
      "execution_count": null,
      "metadata": {
        "id": "r7yJ0rj6nJ06"
      },
      "outputs": [],
      "source": [
        "# whole_tokenizer = AutoTokenizer.from_pretrained(\"bert-large-uncased-whole-word-masking\")\n",
        "whole_tokenizer = AutoTokenizer.from_pretrained(\"GroNLP/bert-base-dutch-cased\")"
      ]
    },
    {
      "cell_type": "markdown",
      "metadata": {
        "id": "RtYscSvmth9f"
      },
      "source": [
        "## Calculating"
      ]
    },
    {
      "cell_type": "code",
      "execution_count": null,
      "metadata": {
        "id": "2tJrl9Azo7Ew"
      },
      "outputs": [],
      "source": [
        "def get_tokens(file_path, bench=False):\n",
        "  all_annos =[]\n",
        "  complex_words = []\n",
        "\n",
        "  if bench:\n",
        "    with open(file_path, 'r',encoding=\"utf-8\") as infile:\n",
        "      data = infile.readlines()\n",
        "\n",
        "  else: \n",
        "    with open(file_path, 'r',encoding=\"ISO-8859-1\") as infile:\n",
        "      data = infile.readlines()\n",
        "\n",
        "  print(\"dataset of size:\", len(data)) \n",
        "  for row in data:\n",
        "    row = row.strip()\n",
        "    info = row.split(\"\\t\")\n",
        "\n",
        "    complex_word = info[1]\n",
        "    complex_words.append(complex_word)\n",
        "    annotations = info[3:]\n",
        "    \n",
        "    if bench:\n",
        "      clean_annotations = [anno[2:] for anno in annotations]\n",
        "    \n",
        "    else: \n",
        "      clean_annotations = annotations\n",
        "\n",
        "    for a in clean_annotations:\n",
        "      all_annos.append(a)\n",
        "  \n",
        "  return all_annos, complex_words"
      ]
    },
    {
      "cell_type": "code",
      "execution_count": null,
      "metadata": {
        "id": "1YiIVvw3vNnU"
      },
      "outputs": [],
      "source": [
        "def relative_subwords (abs_subwords):\n",
        "  relative_dict = dict()\n",
        "  \n",
        "  total = sum(abs_subwords.values())\n",
        "  \n",
        "  for len, freq in abs_subwords.items():\n",
        "    relative_dict[len] = (freq/total)*100\n",
        "  \n",
        "  return relative_dict\n"
      ]
    },
    {
      "cell_type": "code",
      "execution_count": null,
      "metadata": {
        "id": "gz-mmV7-tWp0"
      },
      "outputs": [],
      "source": [
        "def count_subwordtokenization(words):\n",
        "\n",
        "  tokenize_sizes = defaultdict(int)\n",
        "  for word in words:\n",
        "    tokenized_word = whole_tokenizer.tokenize(word)\n",
        "    nr_of_subwords = len(tokenized_word)\n",
        "    print(word)\n",
        "    print(tokenized_word)\n",
        "    print(nr_of_subwords)\n",
        "    if nr_of_subwords in tokenize_sizes.keys():\n",
        "      tokenize_sizes[nr_of_subwords]+=1\n",
        "    else:\n",
        "      tokenize_sizes[nr_of_subwords]=1\n",
        "  \n",
        "  relative = relative_subwords (tokenize_sizes)\n",
        "\n",
        "  return dict(tokenize_sizes), relative"
      ]
    },
    {
      "cell_type": "markdown",
      "metadata": {
        "id": "86u1uWkkuEYC"
      },
      "source": [
        "## Getting the numbers"
      ]
    },
    {
      "cell_type": "code",
      "execution_count": null,
      "metadata": {
        "id": "rbGUw0a0mk61"
      },
      "outputs": [],
      "source": [
        "# data_files = [\"/content/BenchLS.txt\", \"/content/lex.mturk.txt\",\"/content/NNSeval.txt\"]\n",
        "data_files = [\"/content/dutch_sents_for_annotation.txt\"]\n",
        "\n",
        "for file in data_files:\n",
        "  dataset = file.replace(\"/content/\",\"\")\n",
        "  print(dataset)\n",
        "\n",
        "  if \"Bench\" in file or \"NNSeval\" in file or \"dutch\" in file:\n",
        "    annotations, complex_words = get_tokens(file, bench=True)\n",
        "\n",
        "  else: \n",
        "    annotations, complex_words = get_tokens(file, bench=False)\n",
        "\n",
        "  abs_cword, rel_cword = count_subwordtokenization(complex_words)\n",
        "\n",
        "  abs_annos, rel_annos = count_subwordtokenization(annotations)\n",
        "\n",
        "  print(f\"\"\"For file {file.replace(\"/content/\",\"\")}:\\n\n",
        "  Complex Words Subwords:\n",
        "  {abs_cword}\\n\n",
        "  {rel_cword}\\n\n",
        "  Annotation Subwords:\n",
        "  {abs_annos}\\n\n",
        "  {rel_annos}\\n\"\"\")\n",
        "\n",
        "  print(\"percentage of subword tokenized complex words\")\n",
        "  print(100-rel_cword[1])\n",
        "\n",
        "  print(\"percentage of subword tokenized annotations\")\n",
        "  print(100-rel_annos[1])\n",
        "\n"
      ]
    }
  ],
  "metadata": {
    "colab": {
      "collapsed_sections": [],
      "name": "WordPieceTokenization in the Data.ipynb",
      "provenance": [],
      "authorship_tag": "ABX9TyPUGDdoo0pENvjlE2/MhMrZ",
      "include_colab_link": true
    },
    "kernelspec": {
      "display_name": "Python 3",
      "name": "python3"
    },
    "language_info": {
      "name": "python"
    }
  },
  "nbformat": 4,
  "nbformat_minor": 0
}