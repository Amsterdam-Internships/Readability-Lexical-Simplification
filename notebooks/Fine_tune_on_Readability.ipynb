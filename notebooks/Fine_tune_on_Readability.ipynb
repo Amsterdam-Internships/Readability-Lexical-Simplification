{
  "nbformat": 4,
  "nbformat_minor": 0,
  "metadata": {
    "colab": {
      "name": "Fine-tune on Readability",
      "provenance": [],
      "authorship_tag": "ABX9TyMcXVP4UV8xaxBt0G3teiPj",
      "include_colab_link": true
    },
    "kernelspec": {
      "name": "python3",
      "display_name": "Python 3"
    },
    "language_info": {
      "name": "python"
    }
  },
  "cells": [
    {
      "cell_type": "markdown",
      "metadata": {
        "id": "view-in-github",
        "colab_type": "text"
      },
      "source": [
        "<a href=\"https://colab.research.google.com/github/Amsterdam-Internships/Readability-Lexical-Simplification/blob/master/Fine_tune_on_Readability.ipynb\" target=\"_parent\"><img src=\"https://colab.research.google.com/assets/colab-badge.svg\" alt=\"Open In Colab\"/></a>"
      ]
    },
    {
      "cell_type": "code",
      "execution_count": null,
      "metadata": {
        "id": "ALCv3iM4XO0L",
        "colab": {
          "base_uri": "https://localhost:8080/"
        },
        "outputId": "dc811cd4-2dce-4fbd-e531-3301118b52bf"
      },
      "outputs": [
        {
          "output_type": "stream",
          "name": "stdout",
          "text": [
            "Collecting transformers\n",
            "  Downloading transformers-4.17.0-py3-none-any.whl (3.8 MB)\n",
            "\u001b[K     |████████████████████████████████| 3.8 MB 4.2 MB/s \n",
            "\u001b[?25hCollecting pyyaml>=5.1\n",
            "  Downloading PyYAML-6.0-cp37-cp37m-manylinux_2_5_x86_64.manylinux1_x86_64.manylinux_2_12_x86_64.manylinux2010_x86_64.whl (596 kB)\n",
            "\u001b[K     |████████████████████████████████| 596 kB 57.7 MB/s \n",
            "\u001b[?25hCollecting tokenizers!=0.11.3,>=0.11.1\n",
            "  Downloading tokenizers-0.11.6-cp37-cp37m-manylinux_2_12_x86_64.manylinux2010_x86_64.whl (6.5 MB)\n",
            "\u001b[K     |████████████████████████████████| 6.5 MB 32.3 MB/s \n",
            "\u001b[?25hRequirement already satisfied: importlib-metadata in /usr/local/lib/python3.7/dist-packages (from transformers) (4.11.2)\n",
            "Requirement already satisfied: packaging>=20.0 in /usr/local/lib/python3.7/dist-packages (from transformers) (21.3)\n",
            "Requirement already satisfied: requests in /usr/local/lib/python3.7/dist-packages (from transformers) (2.23.0)\n",
            "Requirement already satisfied: numpy>=1.17 in /usr/local/lib/python3.7/dist-packages (from transformers) (1.21.5)\n",
            "Requirement already satisfied: tqdm>=4.27 in /usr/local/lib/python3.7/dist-packages (from transformers) (4.63.0)\n",
            "Collecting sacremoses\n",
            "  Downloading sacremoses-0.0.49-py3-none-any.whl (895 kB)\n",
            "\u001b[K     |████████████████████████████████| 895 kB 46.8 MB/s \n",
            "\u001b[?25hRequirement already satisfied: filelock in /usr/local/lib/python3.7/dist-packages (from transformers) (3.6.0)\n",
            "Requirement already satisfied: regex!=2019.12.17 in /usr/local/lib/python3.7/dist-packages (from transformers) (2019.12.20)\n",
            "Collecting huggingface-hub<1.0,>=0.1.0\n",
            "  Downloading huggingface_hub-0.4.0-py3-none-any.whl (67 kB)\n",
            "\u001b[K     |████████████████████████████████| 67 kB 4.7 MB/s \n",
            "\u001b[?25hRequirement already satisfied: typing-extensions>=3.7.4.3 in /usr/local/lib/python3.7/dist-packages (from huggingface-hub<1.0,>=0.1.0->transformers) (3.10.0.2)\n",
            "Requirement already satisfied: pyparsing!=3.0.5,>=2.0.2 in /usr/local/lib/python3.7/dist-packages (from packaging>=20.0->transformers) (3.0.7)\n",
            "Requirement already satisfied: zipp>=0.5 in /usr/local/lib/python3.7/dist-packages (from importlib-metadata->transformers) (3.7.0)\n",
            "Requirement already satisfied: idna<3,>=2.5 in /usr/local/lib/python3.7/dist-packages (from requests->transformers) (2.10)\n",
            "Requirement already satisfied: chardet<4,>=3.0.2 in /usr/local/lib/python3.7/dist-packages (from requests->transformers) (3.0.4)\n",
            "Requirement already satisfied: certifi>=2017.4.17 in /usr/local/lib/python3.7/dist-packages (from requests->transformers) (2021.10.8)\n",
            "Requirement already satisfied: urllib3!=1.25.0,!=1.25.1,<1.26,>=1.21.1 in /usr/local/lib/python3.7/dist-packages (from requests->transformers) (1.24.3)\n",
            "Requirement already satisfied: click in /usr/local/lib/python3.7/dist-packages (from sacremoses->transformers) (7.1.2)\n",
            "Requirement already satisfied: six in /usr/local/lib/python3.7/dist-packages (from sacremoses->transformers) (1.15.0)\n",
            "Requirement already satisfied: joblib in /usr/local/lib/python3.7/dist-packages (from sacremoses->transformers) (1.1.0)\n",
            "Installing collected packages: pyyaml, tokenizers, sacremoses, huggingface-hub, transformers\n",
            "  Attempting uninstall: pyyaml\n",
            "    Found existing installation: PyYAML 3.13\n",
            "    Uninstalling PyYAML-3.13:\n",
            "      Successfully uninstalled PyYAML-3.13\n",
            "Successfully installed huggingface-hub-0.4.0 pyyaml-6.0 sacremoses-0.0.49 tokenizers-0.11.6 transformers-4.17.0\n"
          ]
        }
      ],
      "source": [
        "!pip install transformers"
      ]
    },
    {
      "cell_type": "markdown",
      "source": [
        "# Nieuwe sectie"
      ],
      "metadata": {
        "id": "fEGdzabfn11i"
      }
    },
    {
      "cell_type": "code",
      "source": [
        "import torch\n",
        "from transformers import BertTokenizer, BertModel, AutoModel, AdamW, get_linear_schedule_with_warmup, BertForSequenceClassification\n",
        "from torch.utils.data import TensorDataset, DataLoader, RandomSampler, SequentialSampler\n",
        "from torch import nn\n",
        "from torch.optim import Adam\n",
        "\n",
        "import random\n",
        "import pandas as pd\n",
        "import numpy as np\n",
        "import nltk\n",
        "nltk.download('punkt')\n",
        "from nltk.tokenize import sent_tokenize\n",
        "import time\n",
        "import datetime\n",
        "import os\n",
        "\n",
        "from sklearn.model_selection import train_test_split"
      ],
      "metadata": {
        "id": "ufHEOiUlXXxR",
        "colab": {
          "base_uri": "https://localhost:8080/"
        },
        "outputId": "4af29723-18fd-426a-d9ca-847c8acb43e2"
      },
      "execution_count": null,
      "outputs": [
        {
          "output_type": "stream",
          "name": "stdout",
          "text": [
            "[nltk_data] Downloading package punkt to /root/nltk_data...\n",
            "[nltk_data]   Package punkt is already up-to-date!\n"
          ]
        }
      ]
    },
    {
      "cell_type": "code",
      "source": [
        "# If there's a GPU available...\n",
        "if torch.cuda.is_available():    \n",
        "\n",
        "    # Tell PyTorch to use the GPU.    \n",
        "    device = torch.device(\"cuda\")\n",
        "    print('There are %d GPU(s) available.' % torch.cuda.device_count())\n",
        "    print('We will use the GPU:', torch.cuda.get_device_name(0))\n",
        "\n",
        "# If not...\n",
        "else:\n",
        "    print('No GPU available, using the CPU instead.')\n",
        "    device = torch.device(\"cpu\")"
      ],
      "metadata": {
        "colab": {
          "base_uri": "https://localhost:8080/"
        },
        "id": "r4FiPla3dY-b",
        "outputId": "5ce9d81c-8151-4d1f-9e0e-a93af3457347"
      },
      "execution_count": null,
      "outputs": [
        {
          "output_type": "stream",
          "name": "stdout",
          "text": [
            "No GPU available, using the CPU instead.\n"
          ]
        }
      ]
    },
    {
      "cell_type": "code",
      "metadata": {
        "id": "izuiOJQ2Y90D",
        "colab": {
          "base_uri": "https://localhost:8080/"
        },
        "outputId": "494f7aaa-eb9f-4fbf-e3b5-420fa766e7ef"
      },
      "source": [
        "tokenizer = BertTokenizer.from_pretrained(\"bert-large-cased-whole-word-masking\")\n",
        "model = BertForSequenceClassification.from_pretrained(\"bert-large-cased-whole-word-masking\", num_labels = 2, output_attentions = False, output_hidden_states = False)"
      ],
      "execution_count": null,
      "outputs": [
        {
          "output_type": "stream",
          "name": "stderr",
          "text": [
            "Some weights of the model checkpoint at bert-large-cased-whole-word-masking were not used when initializing BertForSequenceClassification: ['cls.predictions.transform.LayerNorm.weight', 'cls.predictions.decoder.weight', 'cls.predictions.transform.dense.weight', 'cls.predictions.transform.LayerNorm.bias', 'cls.predictions.bias', 'cls.seq_relationship.bias', 'cls.seq_relationship.weight', 'cls.predictions.transform.dense.bias']\n",
            "- This IS expected if you are initializing BertForSequenceClassification from the checkpoint of a model trained on another task or with another architecture (e.g. initializing a BertForSequenceClassification model from a BertForPreTraining model).\n",
            "- This IS NOT expected if you are initializing BertForSequenceClassification from the checkpoint of a model that you expect to be exactly identical (initializing a BertForSequenceClassification model from a BertForSequenceClassification model).\n",
            "Some weights of BertForSequenceClassification were not initialized from the model checkpoint at bert-large-cased-whole-word-masking and are newly initialized: ['classifier.weight', 'classifier.bias']\n",
            "You should probably TRAIN this model on a down-stream task to be able to use it for predictions and inference.\n"
          ]
        }
      ]
    },
    {
      "cell_type": "code",
      "source": [
        ""
      ],
      "metadata": {
        "id": "zTSATChEemi7"
      },
      "execution_count": null,
      "outputs": []
    },
    {
      "cell_type": "code",
      "source": [
        "df_full_docs = pd.read_csv(\"simplification_classification.csv\")\n",
        "# df_full_docs.head()\n",
        "# # Get the lists of documents and their labels\n",
        "instances = df_full_docs['nr'].tolist()\n",
        "labels = df_full_docs['level'].tolist()\n",
        "\n",
        "j=0\n",
        "for i in instances:\n",
        "  print(i)\n",
        "  print()\n",
        "  j+=1\n",
        "  if j>10:\n",
        "    break\n",
        "# print(instances[0:10])\n",
        "# Encode the labels into numerical values\n",
        "# labels = [0 if label=='easy' else 1 for label in labels]\n",
        "\n"
      ],
      "metadata": {
        "colab": {
          "base_uri": "https://localhost:8080/"
        },
        "id": "7xLro3XXeqsg",
        "outputId": "fcd74135-6e68-4b6b-a81a-5ea0bf523163"
      },
      "execution_count": null,
      "outputs": [
        {
          "output_type": "stream",
          "name": "stdout",
          "text": [
            "A protocarnivorous plant is a plant that traps small animals -LRB- usually insects and arthropods -RRB- much like carnivorous plants do . Unlike carnivorous plants , these plants can not get the nutritients from the trapped prey , though .\n",
            "\n",
            "Physicians in the Third Reich were aware that smoking is responsible for cardiac diseases , which were considered to be the most serious diseases resulting from smoking .\n",
            "\n",
            "It should be kept away from extremely cold drafts . It grows best in strong sunlight .\n",
            "\n",
            "He still has his money in his wallet , but his identification cards are missing .\n",
            "\n",
            "The Balkan range runs 560 km from the Vrashka Chuka Peak on the border between Bulgaria and eastern Serbia eastward through central Bulgaria to Cape Emine on the Black Sea .\n",
            "\n",
            "After appearing in facsimile in an article written by John Nicolay in 1894 , the Nicolay Copy was presumably among the papers passed to Hay by Nicolay 's daughter Helen upon Nicolay 's death in 1901 . Robert Lincoln began a search for the original copy in 1908 , which resulted in the discovery of a handwritten copy of the Gettysburg Address among the bound papers of John Hayâ '' a copy now known as the `` Hay Draft . ''\n",
            "\n",
            "Couric has two daughters .\n",
            "\n",
            "The 1985 Mexico City Earthquake was an earthquake that happened in Mexico City on September 19 , 1985 . It had a magnitude of 8.1 , and the the number of people killed added up to 10,000 deaths .\n",
            "\n",
            "Today the crater can be visited from Fujinomiya Trail or Gotemba Trail of Mount Fuji .\n",
            "\n",
            "Kurma is a Hinduism avatara .\n",
            "\n",
            "Tin -LRB- IV -RRB- iodide , also known as stannic iodide and tin tetraiodide , is a chemical compound . Its chemical formula is SnI4 .\n",
            "\n"
          ]
        }
      ]
    },
    {
      "cell_type": "code",
      "source": [
        "max_len = 0\n",
        "len_sum = 0\n",
        "\n",
        "# Make lists of both instance types (easy-to-read and standard)\n",
        "easy_instances = [x for (x, label) in zip(instances, labels) if label == 1]\n",
        "standard_instances = [x for (x, label) in zip(instances, labels) if label == 0]\n",
        "\n",
        "for instance in easy_instances:\n",
        "    input_ids = tokenizer.encode(instance, add_special_tokens=True)\n",
        "    if len(input_ids)> max_len:\n",
        "      max_len = max(max_len, len(input_ids))\n",
        "      print(instance)\n",
        "    len_sum += len(input_ids)\n",
        "\n",
        "print('EASY: Max instance length:', max_len)\n",
        "print('EASY: Average instance length:', (len_sum / len(easy_instances)))\n",
        "\n",
        "for instance in standard_instances:\n",
        "    input_ids = tokenizer.encode(instance, add_special_tokens=True)\n",
        "    max_len = max(max_len, len(input_ids))\n",
        "    len_sum += len(input_ids)\n",
        "\n",
        "print('STANDARD: Max instance length:', max_len)\n",
        "print('STANDARD: Average instance length:', (len_sum / len(standard_instances)))"
      ],
      "metadata": {
        "colab": {
          "base_uri": "https://localhost:8080/"
        },
        "id": "bqwkBfkzfi6x",
        "outputId": "27b74071-09bf-4ea8-f05f-0f91b4a66554"
      },
      "execution_count": null,
      "outputs": [
        {
          "output_type": "stream",
          "name": "stdout",
          "text": [
            "A protocarnivorous plant is a plant that traps small animals -LRB- usually insects and arthropods -RRB- much like carnivorous plants do . Unlike carnivorous plants , these plants can not get the nutritients from the trapped prey , though .\n",
            "Sarbhana is located in the west of the district , it is next to following Union Councils , to the north by Kakul , Kuthwal and Beerangali , to the east by Phalkot , to the south by Namli Maira , Bagnotar and Bagh , and to the west by Dhamtour -LRB- Sungli Narrian village -RRB- .\n",
            "The table setting is called 3 cheop -LRB- ì 1\\/4 ì -RRB- , 5 cheop -LRB- ì ì -RRB- , 7 cheop -LRB- ì ì -RRB- , 9 cheop -LRB- ê ì -RRB- , 12 cheop -LRB- ì ì ì -RRB- bansang . This depends on the number of banchan there is .\n",
            "Some of the greatest orchestras today include : the New York Philharmonic Orchestra , the Boston Symphony Orchestra , the Cleveland Orchestra , the Los Angeles Philharmonic Orchestra , the London Symphony Orchestra , the London Philharmonic Orchestra , the BBC Symphony Orchestra , the Royal Concertgebouw Orchestra , the Balmacewen School Orchestra , the Vienna Philharmonic Orchestra , the Berlin Philharmonic Orchestra , the Leipzig Gewandhaus Orchestra , the St Petersburg Philharmonic Orchestra , the Israel Philharmonic Orchestra , and the NHK Symphony Orchestra -LRB- Tokyo -RRB- .\n",
            "To avoid the variety in subjective -LRB- equivocal -RRB- interpretation of quantifying terms such as `` green '' , `` hot '' , `` large '' , `` considerable '' , and `` negligible '' , scientists strive , where possible , to eliminate human senses by use of standartized measuring tools -LRB- meter stick , stopwatch , thermometer , etc -RRB- and mechanical\\/electronic measuring instruments -LRB- spectrometer , voltmeter , timer , oscilloscope , gravimeter , etc -RRB- for performing the actual measuring process , eliminating much of the perceptive variability of individual observers .\n",
            "Key assignments include Commander , U.S. Army Medical Department Center and School and Installation Commander , Fort Sam Houston , Texas ; Deputy Commander , U.S. Army Medical Command , Fort Sam Houston , Texas ; Commanding General , Madigan Army Medical Center\\/Northwest Health Service Support Activity , Tacoma , Washington ; Commanding General , 44th Medical Brigade\\/Corps Surgeon , XVIII Airborne Corps , Fort Bragg , North Carolina ; Deputy Director , Professional Services\\/Chief , Consultant , Office of the Surgeon General , Falls Church , Virginia ; Commander , 18th Medical Command and 121st Evacuation Hospital\\/Command Surgeon , Seoul , Korea ; Deputy Commander for Clinical Services , Tripler Army Medical Center , Honolulu , Hawaii ; Assistant Chief , Cardiothoracic Surgery , Brooke Army Medical Center , Fort Sam Houston , Texas ; Staff General Surgeon\\/Chief , General Surgery Clinic , DeWitt Army Hospital , Fort Belvoir , Va. ; and General Surgery Resident , Brooke Army Medical Center , Fort Sam Houston , Texas .\n",
            "While the historicity of the gospel accounts is questioned to some extent by most critical scholars and non-Christians , the traditional view states the following chronology for his ministry : Temptation , Sermon on the Mount , Appointment of the Twelve , Miracles , Temple Money Changers , Last Supper , Arrest , Trial , Passion , Crucifixion on Good Friday , Nisan 14th -LRB- , , Gospel of Peter -RRB- or Nisan 15th -LRB- Synoptic Gospels -RRB- , -LRB- 7 Apr 30 , 3 Apr 33 , 30 Mar 36 , possible Fri-14-Nisan dates â `` Meier -RRB- , entombment by Pharisees Joseph of Arimathea and Nicodemus of the Sanhedrin , Resurrection by God on Easter Sunday , appearances to Paul of Tarsus , Simon Peter , Mary Magdalene , and others , Great Commission , Ascension , Second Coming Prophecy to fulfill the rest of Messianic prophecy such as the Resurrection of the dead , the Last Judgment , and establishment of the Kingdom of God and the Messianic Age .\n",
            "\\* -LRB- RÅ '' Å -- Å È È ' Æ Ê Ê Ê Ê á á á á Ð Â Î Î â Ã Ã 3\\/4 Î Ï Ð Ñ Æ á '' á -- Ç Ò ` Ð Å Å -- Å á á Ð Ò ` Ñ `` Î `` Ñ -RRB- -LRB- eÄ `` Ä -- Ã Ã Ã `` á 1\\/2 Ä Ä É á '' á á '' á á '' -RRB- -LRB- PÆ á '' á -- Ç â Ã Ã 3\\/4 Î Ï Ð Ñ -RRB- -LRB- Lâ Ä Ä 1\\/2 á Å Ä Î Ð Ð -RRB- -LRB- AÎ ` Ã Ä Ä Ã Ã Ä Î á á á cents á á á á á á á á á á Ç Ç È á 3\\/4 1\\/4 á 3\\/4 á 3\\/4 á 1\\/4 á 3\\/4 á 1\\/4 á 3\\/4 á 1\\/4 á 3\\/4 á 1\\/4 á 3\\/4 á 1\\/4 á 3\\/4 á 1\\/4 á 3\\/4 á 1\\/4 á 3\\/4 Ã Ã Ã Ã Ã\n",
            "\\/ \\/ Import individual modules for use importScriptURI -LRB- ` http://simple.wikipedia.org/w/index.php?title=Wikipedia:AutoEd/unicodify.js&action=raw&ctype=text/javascript' -RRB- ; \\/ \\/ autoEdUnicodify converts HTML entities to WikiText importScriptURI -LRB- ` http://simple.wikipedia.org/w/index.php?title=Wikipedia:AutoEd/isbn.js&action=raw&ctype=text/javascript' -RRB- ; \\/ \\/ autoEdISBN fixes ISBN syntax so that WikiMagic can work importScriptURI -LRB- ` http://simple.wikipedia.org/w/index.php?title=Wikipedia:AutoEd/whitespace.js&action=raw&ctype=text/javascript' -RRB- ; \\/ \\/ autoEdWhitespace cleans up whitespace importScriptURI -LRB- ` http://simple.wikipedia.org/w/index.php?title=Wikipedia:AutoEd/wikilinks.js&action=raw&ctype=text/javascript' -RRB- ; \\/ \\/ autoEdWikilinks simplifies and shortens wikilinks where appropriate importScriptURI -LRB- ` http://simple.wikipedia.org/w/index.php?title=Wikipedia:AutoEd/htmltowikitext.js&action=raw&ctype=text/javascript' -RRB- ; \\/ \\/ autoEdHTMLtoWikitext converts HTML to wikitext importScriptURI -LRB- ` http://simple.wikipedia.org/w/index.php?title=Wikipedia:AutoEd/headlines.js&action=raw&ctype=text/javascript' -RRB- ; \\/ \\/ autoEdHeadlines fixes common headline errors and renames some headers importScriptURI -LRB- ` http://simple.wikipedia.org/w/index.php?title=Wikipedia:AutoEd/unicodecontrolchars.js&action=raw&ctype=text/javascript' -RRB- ; \\/ \\/ autoEdUnicodeControlChars converts HTML to wikitext importScriptURI -LRB- ` http://simple.wikipedia.org/w/index.php?title=Wikipedia:AutoEd/unicodehex.js&action=raw&ctype=text/javascript' -RRB- ; \\/ \\/ autoEdUnicodeHex converts hex encoded characters to unicode importScriptURI -LRB- ` http://simple.wikipedia.org/w/index.php?title=Wikipedia:AutoEd/templates.js&action=raw&ctype=text/javascript' -RRB- ; \\/ \\/ autoEdTemplates cleans up templates importScriptURI -LRB- ` http://simple.wikipedia.org/w/index.php?title=Wikipedia:AutoEd/tablestowikitext.js&action=raw&ctype=text/javascript' -RRB- ; \\/ \\/ autoEdTablestoWikitext replaces HTML tables with wikitables importScriptURI -LRB- ` http://simple.wikipedia.org/w/index.php?title=Wikipedia:AutoEd/extrabreaks.js&action=raw&ctype=text/javascript' -RRB- ; \\/ \\/ autoEdExtraBreaks removes extra BR tags importScriptURI -LRB- ` http://simple.wikipedia.org/w/index.php?title=Wikipedia:AutoEd/links.js&action=raw&ctype=text/javascript' -RRB- ; \\/ \\/ autoEdLinks cleans up common link errors importScriptURI -LRB- ` http://simple.wikipedia.org/w/index.php?title=Wikipedia:AutoEd/dashes.js' -RRB- ; \\/ \\/ auotEdDashes reformats dashes per WP : MOSDASH .\n",
            "EASY: Max instance length: 1094\n",
            "EASY: Average instance length: 30.36103143318882\n",
            "STANDARD: Max instance length: 1094\n",
            "STANDARD: Average instance length: 64.33651581200914\n"
          ]
        }
      ]
    },
    {
      "cell_type": "code",
      "source": [
        "# Split data into train set (90%) and test set (10%)\n",
        "train_instances, test_instances, train_labels, test_labels = train_test_split(instances, labels, test_size=.1, random_state=42, shuffle=True)\n",
        "  \n",
        "# Also create a validation set (25% of the train set)\n",
        "train_instances, val_instances, train_labels, val_labels = train_test_split(train_instances, train_labels, test_size=.25, random_state=42)\n"
      ],
      "metadata": {
        "id": "8M8CtqkZjXui"
      },
      "execution_count": null,
      "outputs": []
    },
    {
      "cell_type": "code",
      "source": [
        "# Tokenize all of the instances and map the tokens to their word IDs.\n",
        "train_input_ids = []\n",
        "train_attention_masks = []\n",
        "\n",
        "# For every training instance...\n",
        "for instance in train_instances[:10000]:\n",
        "    encoded_dict = tokenizer.encode_plus(\n",
        "                        instance,                      # Instance to encode.\n",
        "                        add_special_tokens = True,     # Add '[CLS]' and '[SEP]'\n",
        "                        max_length = 155,              # Pad & truncate all sentences.\n",
        "                        pad_to_max_length = True,\n",
        "                        return_attention_mask = True,  # Construct attn. masks.\n",
        "                        return_tensors = 'pt',         # Return pytorch tensors.\n",
        "                   )\n",
        "    \n",
        "    # Add the encoded instance to the list.    \n",
        "    train_input_ids.append(encoded_dict['input_ids'])\n",
        "    \n",
        "    # And its attention mask (simply differentiates padding from non-padding).\n",
        "    train_attention_masks.append(encoded_dict['attention_mask'])\n",
        "\n",
        "# Convert the lists into tensors.\n",
        "train_input_ids = torch.cat(train_input_ids, dim=0)\n",
        "train_attention_masks = torch.cat(train_attention_masks, dim=0)\n",
        "train_labels = torch.tensor(train_labels)\n",
        "\n",
        "# Print instance 0, now as a list of IDs.\n",
        "print('Original: ', train_instances[0])\n",
        "print('Token IDs:', train_input_ids[0])\n",
        "\n",
        "# Combine the training inputs into a TensorDataset.\n",
        "train_dataset = TensorDataset(train_input_ids, train_attention_masks, train_labels[:10000])"
      ],
      "metadata": {
        "colab": {
          "base_uri": "https://localhost:8080/"
        },
        "id": "GGKhL6wZjtWw",
        "outputId": "402e29c6-3e93-48b4-eb89-ddbe7d2584c5"
      },
      "execution_count": null,
      "outputs": [
        {
          "output_type": "stream",
          "name": "stderr",
          "text": [
            "Truncation was not explicitly activated but `max_length` is provided a specific value, please use `truncation=True` to explicitly truncate examples to max length. Defaulting to 'longest_first' truncation strategy. If you encode pairs of sequences (GLUE-style) with the tokenizer you can select this strategy more precisely by providing a specific strategy to `truncation`.\n",
            "/usr/local/lib/python3.7/dist-packages/transformers/tokenization_utils_base.py:2277: FutureWarning: The `pad_to_max_length` argument is deprecated and will be removed in a future version, use `padding=True` or `padding='longest'` to pad to the longest sequence in the batch, or use `padding='max_length'` to pad to a max length. In this case, you can give a specific length with `max_length` (e.g. `max_length=45`) or leave max_length to None to pad to the maximal input size of the model (e.g. 512 for Bert).\n",
            "  FutureWarning,\n"
          ]
        },
        {
          "output_type": "stream",
          "name": "stdout",
          "text": [
            "Original:  Ernst Mayr judged him to be the most important evolutionary thinker between Darwin and the evolutionary synthesis around 1930-40 , and was `` one of the great biologists of all time '' .\n",
            "Token IDs: tensor([  101, 10624,  1318,  1197, 13680,  1140,  1106,  1129,  1103,  1211,\n",
            "         1696, 14745,  1341,  1200,  1206, 11555,  1105,  1103, 14745, 11362,\n",
            "         1213,  3630,   118,  1969,   117,  1105,  1108,   169,   169,  1141,\n",
            "         1104,  1103,  1632, 24742,  1116,  1104,  1155,  1159,   112,   112,\n",
            "          119,   102,     0,     0,     0,     0,     0,     0,     0,     0,\n",
            "            0,     0,     0,     0,     0,     0,     0,     0,     0,     0,\n",
            "            0,     0,     0,     0,     0,     0,     0,     0,     0,     0,\n",
            "            0,     0,     0,     0,     0,     0,     0,     0,     0,     0,\n",
            "            0,     0,     0,     0,     0,     0,     0,     0,     0,     0,\n",
            "            0,     0,     0,     0,     0,     0,     0,     0,     0,     0,\n",
            "            0,     0,     0,     0,     0,     0,     0,     0,     0,     0,\n",
            "            0,     0,     0,     0,     0,     0,     0,     0,     0,     0,\n",
            "            0,     0,     0,     0,     0,     0,     0,     0,     0,     0,\n",
            "            0,     0,     0,     0,     0,     0,     0,     0,     0,     0,\n",
            "            0,     0,     0,     0,     0,     0,     0,     0,     0,     0,\n",
            "            0,     0,     0,     0,     0])\n"
          ]
        }
      ]
    },
    {
      "cell_type": "code",
      "source": [
        "val_input_ids = []\n",
        "val_attention_masks = []\n",
        "\n",
        "for instance in val_instances[:2500]:\n",
        "    encoded_dict = tokenizer.encode_plus(\n",
        "                        instance,                      # Sentence to encode.\n",
        "                        add_special_tokens = True,     # Add '[CLS]' and '[SEP]'\n",
        "                        max_length = 155,               # Pad & truncate all sentences.\n",
        "                        pad_to_max_length = True,\n",
        "                        return_attention_mask = True,  # Construct attn. masks.\n",
        "                        return_tensors = 'pt',         # Return pytorch tensors.\n",
        "                   )\n",
        "    \n",
        "    # Add the encoded sentence to the list.    \n",
        "    val_input_ids.append(encoded_dict['input_ids'])\n",
        "    \n",
        "    # And its attention mask (simply differentiates padding from non-padding).\n",
        "    val_attention_masks.append(encoded_dict['attention_mask'])\n",
        "\n",
        "# Convert the lists into tensors.\n",
        "val_input_ids = torch.cat(val_input_ids, dim=0)\n",
        "val_attention_masks = torch.cat(val_attention_masks, dim=0)\n",
        "val_labels = torch.tensor(val_labels)\n",
        "\n",
        "# Print sentence 0, now as a list of IDs.\n",
        "print('Original: ', val_instances[0])\n",
        "print('Token IDs:', val_input_ids[0])\n",
        "\n",
        "# Combine the training inputs into a TensorDataset.\n",
        "val_dataset = TensorDataset(val_input_ids, val_attention_masks, val_labels[:2500])"
      ],
      "metadata": {
        "colab": {
          "base_uri": "https://localhost:8080/"
        },
        "id": "7hX-brNaj294",
        "outputId": "8d2d9814-202d-4403-c069-653d299ccfea"
      },
      "execution_count": null,
      "outputs": [
        {
          "output_type": "stream",
          "name": "stderr",
          "text": [
            "/usr/local/lib/python3.7/dist-packages/transformers/tokenization_utils_base.py:2277: FutureWarning: The `pad_to_max_length` argument is deprecated and will be removed in a future version, use `padding=True` or `padding='longest'` to pad to the longest sequence in the batch, or use `padding='max_length'` to pad to a max length. In this case, you can give a specific length with `max_length` (e.g. `max_length=45`) or leave max_length to None to pad to the maximal input size of the model (e.g. 512 for Bert).\n",
            "  FutureWarning,\n"
          ]
        },
        {
          "output_type": "stream",
          "name": "stdout",
          "text": [
            "Original:  The book has sold over 1.2 million copies in the subsequent four years , appearing on The New York Times children 's Best Seller list and being listed as one of the Young Adult Library Services Association 's Best Books for Young Adults , among other awards .\n",
            "Token IDs: tensor([  101,  1109,  1520,  1144,  1962,  1166,   122,   119,   123,  1550,\n",
            "         4034,  1107,  1103,  4194,  1300,  1201,   117,  5452,  1113,  1109,\n",
            "         1203,  1365,  2706,  1482,   112,   188,  1798, 22087,  9860,  2190,\n",
            "         1105,  1217,  2345,  1112,  1141,  1104,  1103,  2701, 11635,  3371,\n",
            "         4326,  1791,   112,   188,  1798,  5063,  1111,  2701, 15584,   117,\n",
            "         1621,  1168,  3745,   119,   102,     0,     0,     0,     0,     0,\n",
            "            0,     0,     0,     0,     0,     0,     0,     0,     0,     0,\n",
            "            0,     0,     0,     0,     0,     0,     0,     0,     0,     0,\n",
            "            0,     0,     0,     0,     0,     0,     0,     0,     0,     0,\n",
            "            0,     0,     0,     0,     0,     0,     0,     0,     0,     0,\n",
            "            0,     0,     0,     0,     0,     0,     0,     0,     0,     0,\n",
            "            0,     0,     0,     0,     0,     0,     0,     0,     0,     0,\n",
            "            0,     0,     0,     0,     0,     0,     0,     0,     0,     0,\n",
            "            0,     0,     0,     0,     0,     0,     0,     0,     0,     0,\n",
            "            0,     0,     0,     0,     0,     0,     0,     0,     0,     0,\n",
            "            0,     0,     0,     0,     0])\n"
          ]
        }
      ]
    },
    {
      "cell_type": "code",
      "source": [
        "# The DataLoader needs to know our batch size for training, so we specify it \n",
        "# here. For fine-tuning BERT on a specific task, the authors recommend a batch \n",
        "# size of 16 or 32.\n",
        "batch_size = 2\n",
        "\n",
        "# Create the DataLoaders for our training and validation sets.\n",
        "# We'll take training samples in random order. \n",
        "train_dataloader = DataLoader(\n",
        "            train_dataset,  # The training samples.\n",
        "            sampler = RandomSampler(train_dataset), # Select batches randomly\n",
        "            batch_size = batch_size # Trains with this batch size.\n",
        "        )\n",
        "\n",
        "# For validation the order doesn't matter, so we'll just read them sequentially.\n",
        "validation_dataloader = DataLoader(\n",
        "            val_dataset, # The validation samples.\n",
        "            sampler = SequentialSampler(val_dataset), # Pull out batches sequentially.\n",
        "            batch_size = batch_size # Evaluate with this batch size.\n",
        "        )\n",
        "\n",
        "# # Note: AdamW is a class from the huggingface library (as opposed to pytorch) \n",
        "# # I believe the 'W' stands for 'Weight Decay fix\"\n",
        "# optimizer = AdamW(model.parameters(),\n",
        "#                   lr = 2e-5, # args.learning_rate - default is 5e-5, our notebook had 2e-5\n",
        "#                   eps = 1e-8 # args.adam_epsilon  - default is 1e-8.\n",
        "#                 )\n",
        "\n",
        "optimizer = Adam(model.parameters(), lr=1e-6)\n",
        "\n",
        "# Number of training epochs. The BERT authors recommend between 2 and 4. \n",
        "# We chose to run for 4, but we'll see later that this may be over-fitting the\n",
        "# training data.\n",
        "epochs = 3\n",
        "\n",
        "# Total number of training steps is [number of batches] x [number of epochs]. \n",
        "# (Note that this is not the same as the number of training samples).\n",
        "total_steps = len(train_dataloader) * epochs\n",
        "\n",
        "# Create the learning rate scheduler.\n",
        "scheduler = get_linear_schedule_with_warmup(optimizer, \n",
        "                                            num_warmup_steps = 0, # Default value in run_glue.py\n",
        "                                            num_training_steps = total_steps)"
      ],
      "metadata": {
        "id": "Aeqgmojfj-uv"
      },
      "execution_count": null,
      "outputs": []
    },
    {
      "cell_type": "code",
      "source": [
        "def format_time(elapsed):\n",
        "    '''\n",
        "    Takes a time in seconds and returns a string hh:mm:ss\n",
        "    '''\n",
        "    # Round to the nearest second.\n",
        "    elapsed_rounded = int(round((elapsed)))\n",
        "    \n",
        "    # Format as hh:mm:ss\n",
        "    return str(datetime.timedelta(seconds=elapsed_rounded))"
      ],
      "metadata": {
        "id": "w5APAztWkIHg"
      },
      "execution_count": null,
      "outputs": []
    },
    {
      "cell_type": "code",
      "source": [
        "# Function to calculate the accuracy of our predictions vs labels\n",
        "def flat_accuracy(preds, labels):\n",
        "    pred_flat = np.argmax(preds, axis=1).flatten()\n",
        "    labels_flat = labels.flatten()\n",
        "    return np.sum(pred_flat == labels_flat) / len(labels_flat)"
      ],
      "metadata": {
        "id": "OWrsFDpMkJSc"
      },
      "execution_count": null,
      "outputs": []
    },
    {
      "cell_type": "code",
      "source": [
        "# This training code is based on the `run_glue.py` script here:\n",
        "# https://github.com/huggingface/transformers/blob/5bfcd0485ece086ebcbed2d008813037968a9e58/examples/run_glue.py#L128\n",
        "\n",
        "# Set the seed value all over the place to make this reproducible.\n",
        "seed_val = 42\n",
        "\n",
        "random.seed(seed_val)\n",
        "np.random.seed(seed_val)\n",
        "torch.manual_seed(seed_val)\n",
        "torch.cuda.manual_seed_all(seed_val)\n",
        "\n",
        "# We'll store a number of quantities such as training and validation loss, \n",
        "# validation accuracy, and timings.\n",
        "training_stats = []\n",
        "\n",
        "# Measure the total training time for the whole run.\n",
        "total_t0 = time.time()\n",
        "\n",
        "# For each epoch...\n",
        "for epoch_i in range(0, epochs):\n",
        "    \n",
        "    # ========================================\n",
        "    #               Training\n",
        "    # ========================================\n",
        "    \n",
        "    # Perform one full pass over the training set.\n",
        "\n",
        "    print(\"\")\n",
        "    print('======== Epoch {:} / {:} ========'.format(epoch_i + 1, epochs))\n",
        "    print('Training...')\n",
        "\n",
        "    # Measure how long the training epoch takes.\n",
        "    t0 = time.time()\n",
        "\n",
        "    # Reset the total loss for this epoch.\n",
        "    total_train_loss = 0\n",
        "\n",
        "    # Put the model into training mode. Don't be mislead--the call to \n",
        "    # `train` just changes the *mode*, it doesn't *perform* the training.\n",
        "    # `dropout` and `batchnorm` layers behave differently during training\n",
        "    # vs. test (source: https://stackoverflow.com/questions/51433378/what-does-model-train-do-in-pytorch)\n",
        "    model.train()\n",
        "\n",
        "    # For each batch of training data...\n",
        "    for step, batch in enumerate(train_dataloader):\n",
        "\n",
        "        # Progress update every 40 batches.\n",
        "        if step % 40 == 0 and not step == 0:\n",
        "            # Calculate elapsed time in minutes.\n",
        "            elapsed = format_time(time.time() - t0)\n",
        "            \n",
        "            # Report progress.\n",
        "            print('  Batch {:>5,}  of  {:>5,}.    Elapsed: {:}.'.format(step, len(train_dataloader), elapsed))\n",
        "\n",
        "        # Unpack this training batch from our dataloader. \n",
        "        #\n",
        "        # As we unpack the batch, we'll also copy each tensor to the GPU using the \n",
        "        # `to` method.\n",
        "        #\n",
        "        # `batch` contains three pytorch tensors:\n",
        "        #   [0]: input ids \n",
        "        #   [1]: attention masks\n",
        "        #   [2]: labels \n",
        "        b_input_ids = batch[0].to(device)\n",
        "        b_input_mask = batch[1].to(device)\n",
        "        b_labels = batch[2].to(device)\n",
        "\n",
        "        # Always clear any previously calculated gradients before performing a\n",
        "        # backward pass. PyTorch doesn't do this automatically because \n",
        "        # accumulating the gradients is \"convenient while training RNNs\". \n",
        "        # (source: https://stackoverflow.com/questions/48001598/why-do-we-need-to-call-zero-grad-in-pytorch)\n",
        "        model.zero_grad()        \n",
        "\n",
        "        # Perform a forward pass (evaluate the model on this training batch).\n",
        "        # In PyTorch, calling `model` will in turn call the model's `forward` \n",
        "        # function and pass down the arguments. The `forward` function is \n",
        "        # documented here: \n",
        "        # https://huggingface.co/transformers/model_doc/bert.html#bertforsequenceclassification\n",
        "        # The results are returned in a results object, documented here:\n",
        "        # https://huggingface.co/transformers/main_classes/output.html#transformers.modeling_outputs.SequenceClassifierOutput\n",
        "        # Specifically, we'll get the loss (because we provided labels) and the\n",
        "        # \"logits\"--the model outputs prior to activation.\n",
        "        result = model(b_input_ids, \n",
        "                       token_type_ids=None, \n",
        "                       attention_mask=b_input_mask, \n",
        "                       labels=b_labels,\n",
        "                       return_dict=True)\n",
        "\n",
        "        loss = result.loss\n",
        "        logits = result.logits\n",
        "\n",
        "        # Accumulate the training loss over all of the batches so that we can\n",
        "        # calculate the average loss at the end. `loss` is a Tensor containing a\n",
        "        # single value; the `.item()` function just returns the Python value \n",
        "        # from the tensor.\n",
        "        total_train_loss += loss.item()\n",
        "\n",
        "        # Perform a backward pass to calculate the gradients.\n",
        "        loss.backward()\n",
        "\n",
        "        # Clip the norm of the gradients to 1.0.\n",
        "        # This is to help prevent the \"exploding gradients\" problem.\n",
        "        torch.nn.utils.clip_grad_norm_(model.parameters(), 1.0)\n",
        "\n",
        "        # Update parameters and take a step using the computed gradient.\n",
        "        # The optimizer dictates the \"update rule\"--how the parameters are\n",
        "        # modified based on their gradients, the learning rate, etc.\n",
        "        optimizer.step()\n",
        "\n",
        "        # Update the learning rate.\n",
        "        scheduler.step()\n",
        "\n",
        "    # Calculate the average loss over all of the batches.\n",
        "    avg_train_loss = total_train_loss / len(train_dataloader)            \n",
        "    \n",
        "    # Measure how long this epoch took.\n",
        "    training_time = format_time(time.time() - t0)\n",
        "\n",
        "    print(\"\")\n",
        "    print(\"  Average training loss: {0:.2f}\".format(avg_train_loss))\n",
        "    print(\"  Training epcoh took: {:}\".format(training_time))\n",
        "        \n",
        "    # ========================================\n",
        "    #               Validation\n",
        "    # ========================================\n",
        "    # After the completion of each training epoch, measure our performance on\n",
        "    # our validation set.\n",
        "\n",
        "    print(\"\")\n",
        "    print(\"Running Validation...\")\n",
        "\n",
        "    t0 = time.time()\n",
        "\n",
        "    # Put the model in evaluation mode--the dropout layers behave differently\n",
        "    # during evaluation.\n",
        "    model.eval()\n",
        "\n",
        "    # Tracking variables \n",
        "    total_eval_accuracy = 0\n",
        "    total_eval_loss = 0\n",
        "    nb_eval_steps = 0\n",
        "\n",
        "    # Evaluate data for one epoch\n",
        "    for batch in validation_dataloader:\n",
        "        \n",
        "        # Unpack this training batch from our dataloader. \n",
        "        #\n",
        "        # As we unpack the batch, we'll also copy each tensor to the GPU using \n",
        "        # the `to` method.\n",
        "        #\n",
        "        # `batch` contains three pytorch tensors:\n",
        "        #   [0]: input ids \n",
        "        #   [1]: attention masks\n",
        "        #   [2]: labels \n",
        "        b_input_ids = batch[0].to(device)\n",
        "        b_input_mask = batch[1].to(device)\n",
        "        b_labels = batch[2].to(device)\n",
        "        \n",
        "        # Tell pytorch not to bother with constructing the compute graph during\n",
        "        # the forward pass, since this is only needed for backprop (training).\n",
        "        with torch.no_grad():        \n",
        "\n",
        "            # Forward pass, calculate logit predictions.\n",
        "            # token_type_ids is the same as the \"segment ids\", which \n",
        "            # differentiates sentence 1 and 2 in 2-sentence tasks.\n",
        "            result = model(b_input_ids, \n",
        "                           zztoken_type_ids=None, \n",
        "                           attention_mask=b_input_mask,\n",
        "                           labels=b_labels,\n",
        "                           return_dict=True)\n",
        "        \n",
        "        # Get the loss and \"logits\" output by the model. The \"logits\" are the \n",
        "        # output values prior to applying an activation function like the \n",
        "        # softmax.\n",
        "        loss = result.loss\n",
        "        logits = result.logits\n",
        "            \n",
        "        # Accumulate the validation loss.\n",
        "        total_eval_loss += loss.item()\n",
        "\n",
        "        # Move logits and labels to CPU\n",
        "        logits = logits.detach().cpu().numpy()\n",
        "        label_ids = b_labels.to('cpu').numpy()\n",
        "\n",
        "        # Calculate the accuracy for this batch of test sentences, and\n",
        "        # accumulate it over all batches.\n",
        "        total_eval_accuracy += flat_accuracy(logits, label_ids)\n",
        "        \n",
        "\n",
        "    # Report the final accuracy for this validation run.\n",
        "    avg_val_accuracy = total_eval_accuracy / len(validation_dataloader)\n",
        "    print(\"  Accuracy: {0:.2f}\".format(avg_val_accuracy))\n",
        "\n",
        "    # Calculate the average loss over all of the batches.\n",
        "    avg_val_loss = total_eval_loss / len(validation_dataloader)\n",
        "    \n",
        "    # Measure how long the validation run took.\n",
        "    validation_time = format_time(time.time() - t0)\n",
        "    \n",
        "    print(\"  Validation Loss: {0:.2f}\".format(avg_val_loss))\n",
        "    print(\"  Validation took: {:}\".format(validation_time))\n",
        "\n",
        "    # Record all statistics from this epoch.\n",
        "    training_stats.append(\n",
        "        {\n",
        "            'epoch': epoch_i + 1,\n",
        "            'Training Loss': avg_train_loss,\n",
        "            'Valid. Loss': avg_val_loss,\n",
        "            'Valid. Accur.': avg_val_accuracy,\n",
        "            'Training Time': training_time,\n",
        "            'Validation Time': validation_time\n",
        "        }\n",
        "    )\n",
        "\n",
        "print(\"\")\n",
        "print(\"Training complete!\")\n",
        "print(\"Total training took {:} (h:mm:ss)\".format(format_time(time.time()-total_t0)))"
      ],
      "metadata": {
        "id": "pmooi2-5kKtB",
        "outputId": "610cfa66-a530-443a-ef9e-1067baf39601",
        "colab": {
          "base_uri": "https://localhost:8080/"
        }
      },
      "execution_count": null,
      "outputs": [
        {
          "metadata": {
            "tags": null
          },
          "name": "stdout",
          "output_type": "stream",
          "text": [
            "\n",
            "======== Epoch 1 / 3 ========\n",
            "Training...\n",
            "  Batch    40  of  5,000.    Elapsed: 0:10:58.\n"
          ]
        }
      ]
    }
  ]
}