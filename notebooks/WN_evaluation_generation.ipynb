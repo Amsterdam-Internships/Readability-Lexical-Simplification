{
  "nbformat": 4,
  "nbformat_minor": 0,
  "metadata": {
    "colab": {
      "name": "WN_evaluation_generation.ipynb ",
      "provenance": [],
      "authorship_tag": "ABX9TyOwQ06++hq8heHlqXwOknxX",
      "include_colab_link": true
    },
    "kernelspec": {
      "name": "python3",
      "display_name": "Python 3"
    },
    "language_info": {
      "name": "python"
    }
  },
  "cells": [
    {
      "cell_type": "markdown",
      "metadata": {
        "id": "view-in-github",
        "colab_type": "text"
      },
      "source": [
        "<a href=\"https://colab.research.google.com/github/Amsterdam-Internships/Readability-Lexical-Simplification/blob/master/WN_evaluation_generation.ipynb\" target=\"_parent\"><img src=\"https://colab.research.google.com/assets/colab-badge.svg\" alt=\"Open In Colab\"/></a>"
      ]
    },
    {
      "cell_type": "markdown",
      "source": [
        "## With Regular Word Net"
      ],
      "metadata": {
        "id": "E4yKEZ1vHJ06"
      }
    },
    {
      "cell_type": "code",
      "execution_count": null,
      "metadata": {
        "id": "nI6eMNwcGlkX",
        "colab": {
          "base_uri": "https://localhost:8080/"
        },
        "outputId": "5922ef98-8c35-4e50-9a22-70bf6ae25ba6"
      },
      "outputs": [
        {
          "output_type": "stream",
          "name": "stdout",
          "text": [
            "Requirement already satisfied: nltk in /usr/local/lib/python3.7/dist-packages (3.2.5)\n",
            "Requirement already satisfied: six in /usr/local/lib/python3.7/dist-packages (from nltk) (1.15.0)\n"
          ]
        }
      ],
      "source": [
        "!pip install nltk"
      ]
    },
    {
      "cell_type": "code",
      "source": [
        "import nltk\n",
        "from nltk.corpus import wordnet as wn\n",
        "nltk.download('wordnet')\n",
        "nltk.download('omw')\n"
      ],
      "metadata": {
        "id": "dD01GKmJHQq3",
        "colab": {
          "base_uri": "https://localhost:8080/"
        },
        "outputId": "b6f09b54-c7fb-4c3a-a544-afe1c8464bd2"
      },
      "execution_count": null,
      "outputs": [
        {
          "output_type": "stream",
          "name": "stdout",
          "text": [
            "[nltk_data] Downloading package wordnet to /root/nltk_data...\n",
            "[nltk_data]   Package wordnet is already up-to-date!\n",
            "[nltk_data] Downloading package omw to /root/nltk_data...\n",
            "[nltk_data]   Package omw is already up-to-date!\n"
          ]
        },
        {
          "output_type": "execute_result",
          "data": {
            "text/plain": [
              "True"
            ]
          },
          "metadata": {},
          "execution_count": 25
        }
      ]
    },
    {
      "cell_type": "code",
      "source": [
        "with open (\"/content/moeilijke woorden.txt\",\"r\") as infile:\n",
        "  data = infile.readlines()\n",
        "\n",
        "complex_words = []\n",
        "\n",
        "for line in data:\n",
        "  if line.startswith(\"[\"):\n",
        "    continue\n",
        "  if line.count(\" \")>0:\n",
        "    continue\n",
        "  line = line.strip()\n",
        "  if len(line) <2:\n",
        "    continue\n",
        "  complex_words.append(line)\n",
        "\n",
        "print(len(complex_words ))"
      ],
      "metadata": {
        "colab": {
          "base_uri": "https://localhost:8080/"
        },
        "id": "_ROBXrUWoQYG",
        "outputId": "962e11aa-6124-4d8d-d543-c5309d8e1b89"
      },
      "execution_count": null,
      "outputs": [
        {
          "output_type": "stream",
          "name": "stdout",
          "text": [
            "488\n"
          ]
        }
      ]
    },
    {
      "cell_type": "code",
      "source": [
        "for word in complex_words:\n",
        "  synsets = wn.synsets(word, lang = \"nld\")\n",
        "  nr_of_senses = len(synsets)\n",
        "  if nr_of_senses > 5:\n",
        "    print(\"Complex Word:\", word)\n",
        "    # print(synsets)\n",
        "    synonyms = set()\n",
        "    for synset in synsets:\n",
        "      synset_lemmas = set(list([str(lemma.name()) for lemma in synset.lemmas(lang = \"nld\")]))\n",
        "      synonyms = synonyms.union(synset_lemmas)\n",
        "    print(\"Synonyms:\", synonyms)\n",
        "    "
      ],
      "metadata": {
        "colab": {
          "base_uri": "https://localhost:8080/"
        },
        "id": "Ccsa1Jc3rfqX",
        "outputId": "56496655-28d0-43cf-a054-d18f65cbf280"
      },
      "execution_count": null,
      "outputs": [
        {
          "output_type": "stream",
          "name": "stdout",
          "text": [
            "Complex Word: afronden\n",
            "Synonyms: {'afronden', 'afmaken', 'voleinden', 'voleindigen', 'afkrijgen', 'gereedkomen', 'voltooien', 'afkomen', 'afbouwen', 'klaarkrijgen', 'volbrengen'}\n",
            "Complex Word: impuls\n",
            "Synonyms: {'caprice', 'stroomstoot', 'manie', 'bevlieging', 'kuren', 'luim', 'luimen', 'fratsen', 'capriolen', 'stuwkracht', 'aandrift', 'vaart', 'capriool', 'gril', 'opwelling', 'nuk', 'puls', 'frats', 'kuur', 'impuls', 'kunsten'}\n",
            "Complex Word: ontwikkelen\n",
            "Synonyms: {'evolueren', 'rijpen', 'uitgroeien', 'ontplooien', 'ontwikkelen'}\n",
            "Complex Word: reductie\n",
            "Synonyms: {'mindering', 'franchise', 'korting', 'inkrimping', 'aftreden', 'rabat', 'discount', 'daling', 'afslag', 'aftrek', 'verlaging', 'reductie', 'afneming', 'inkoken', 'vermindering', 'omzetpremie', 'afname', 'terugval', 'remissie'}\n",
            "Complex Word: uitzetten\n",
            "Synonyms: {'disjunctie', 'uiteenzetten', 'verjagen', 'opzwellen', 'uitdoen', 'platgooien', 'stilliggen', 'opzetten', 'stilleggen', 'platleggen', 'uitschakelen', 'uitzetten', 'uitwijzen', 'verlaten', 'kloof', 'afzetten', 'zwellen', 'lamleggen', 'gaan', 'uitdijen', 'afsluiten', 'platliggen'}\n",
            "Complex Word: vermogen\n",
            "Synonyms: {'middelen', 'financiën', 'begaafdheid', 'geoefendheid', 'gave', 'geld', 'bedrevenheid', 'verworvenheid', 'capaciteiten', 'weten', 'rijkdom', 'aanleg', 'talent', 'wecken', 'macht', 'eigenkapitaal', 'habiliteit', 'middel', 'kundigheid', 'vermogen', 'behendigheid', 'steriliseren', 'vaardigheid', 'bekwaamheid', 'kunnen', 'thesaurie', 'belasting', 'capaciteit', 'hoedanigheid', 'heel_wat', 'geschiktheid', 'kwalificatie', 'potentie', 'handigheid', 'vernuft', 'competentie', 'geldmiddelen'}\n"
          ]
        }
      ]
    }
  ]
}